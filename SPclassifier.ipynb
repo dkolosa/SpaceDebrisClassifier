{
 "cells": [
  {
   "cell_type": "code",
   "execution_count": 3,
   "metadata": {
    "collapsed": false,
    "deletable": true,
    "editable": true,
    "jupyter": {
     "outputs_hidden": false
    }
   },
   "outputs": [],
   "source": [
    "import pandas as pd\n",
    "import numpy as np\n",
    "from sklearn.tree import DecisionTreeClassifier, export_graphviz\n",
    "import matplotlib.pyplot as plt\n",
    "import json\n",
    "%matplotlib inline\n"
   ]
  },
  {
   "cell_type": "code",
   "execution_count": 3,
   "metadata": {
    "jupyter": {
     "source_hidden": true
    },
    "tags": []
   },
   "outputs": [],
   "source": [
    "def plot_decision_regions(X, y, classifier, test_idx=None, resolution=0.02):\n",
    "\n",
    "    # Setup map and marker\n",
    "    markers = ('s', 'x', 'o', '^', 'v')\n",
    "    colors = ('red', 'blue', 'lightgreen', 'gray', 'cyan')\n",
    "    cmap = ListedColormap(colors[:len(np.unique(y))])\n",
    "\n",
    "    # plot the surface\n",
    "    x1_min, x1_max = X[:, 0].min() - 1, X[:, 0].max() + 1\n",
    "    x2_min, x2_max = X[:, 1].min() - 1, X[:, 1].max() + 1\n",
    "    xx1, xx2 = np.meshgrid(np.arange(x1_min, x1_max, resolution),\n",
    "                           np.arange(x2_min, x2_max, resolution))\n",
    "    Z = classifier.predict(np.array([xx1.ravel(), xx2.ravel()]).T)\n",
    "    Z = Z.reshape(xx1.shape)\n",
    "    plt.contourf(xx1, xx2, Z, alpha=0.4, cmap=cmap)\n",
    "    plt.xlim(xx1.min(), xx1.max())\n",
    "    plt.ylim(xx2.min(), xx2.max())\n",
    "\n",
    "    # plot all samples\n",
    "    X_test, y_test = X[test_idx, :], y[test_idx]\n",
    "    for idx, c1 in enumerate(np.unique(y)):\n",
    "        plt.scatter(x=X[y == c1, 0], y=X[y == c1, 1],\n",
    "                   alpha=0.8, c=cmap(idx),\n",
    "                   marker=markers[idx], label=c1)\n",
    "    \n",
    "    # highlight test samples\n",
    "    if test_idx:\n",
    "        X_test, y_test = X[test_idx, :], y[test_idx]\n",
    "        plt.scatter(X_test[:, 0], X_test[:, 1], c='',\n",
    "                    alpha=1.0, linewidth=1, marker='o', s=55, label='test set')"
   ]
  },
  {
   "cell_type": "code",
   "execution_count": 4,
   "metadata": {
    "collapsed": false,
    "deletable": true,
    "editable": true,
    "jupyter": {
     "outputs_hidden": false
    }
   },
   "outputs": [],
   "source": [
    "dataset = pd.read_json('satcat100k.json')"
   ]
  },
  {
   "cell_type": "code",
   "execution_count": 5,
   "metadata": {
    "collapsed": false,
    "deletable": true,
    "editable": true,
    "jupyter": {
     "outputs_hidden": false
    },
    "scrolled": true
   },
   "outputs": [
    {
     "data": {
      "text/html": [
       "<div>\n",
       "<style scoped>\n",
       "    .dataframe tbody tr th:only-of-type {\n",
       "        vertical-align: middle;\n",
       "    }\n",
       "\n",
       "    .dataframe tbody tr th {\n",
       "        vertical-align: top;\n",
       "    }\n",
       "\n",
       "    .dataframe thead th {\n",
       "        text-align: right;\n",
       "    }\n",
       "</style>\n",
       "<table border=\"1\" class=\"dataframe\">\n",
       "  <thead>\n",
       "    <tr style=\"text-align: right;\">\n",
       "      <th></th>\n",
       "      <th>INTLDES</th>\n",
       "      <th>NORAD_CAT_ID</th>\n",
       "      <th>OBJECT_TYPE</th>\n",
       "      <th>SATNAME</th>\n",
       "      <th>COUNTRY</th>\n",
       "      <th>LAUNCH</th>\n",
       "      <th>SITE</th>\n",
       "      <th>DECAY</th>\n",
       "      <th>PERIOD</th>\n",
       "      <th>INCLINATION</th>\n",
       "      <th>...</th>\n",
       "      <th>RCSVALUE</th>\n",
       "      <th>RCS_SIZE</th>\n",
       "      <th>FILE</th>\n",
       "      <th>LAUNCH_YEAR</th>\n",
       "      <th>LAUNCH_NUM</th>\n",
       "      <th>LAUNCH_PIECE</th>\n",
       "      <th>CURRENT</th>\n",
       "      <th>OBJECT_NAME</th>\n",
       "      <th>OBJECT_ID</th>\n",
       "      <th>OBJECT_NUMBER</th>\n",
       "    </tr>\n",
       "  </thead>\n",
       "  <tbody>\n",
       "    <tr>\n",
       "      <th>0</th>\n",
       "      <td>2021-017BN</td>\n",
       "      <td>47782</td>\n",
       "      <td>ROCKET BODY</td>\n",
       "      <td>FALCON 9 R/B</td>\n",
       "      <td>US</td>\n",
       "      <td>2021-03-04</td>\n",
       "      <td>AFETR</td>\n",
       "      <td>2021-03-26</td>\n",
       "      <td>87.28</td>\n",
       "      <td>53.03</td>\n",
       "      <td>...</td>\n",
       "      <td>0</td>\n",
       "      <td>LARGE</td>\n",
       "      <td>7634</td>\n",
       "      <td>2021</td>\n",
       "      <td>17</td>\n",
       "      <td>BN</td>\n",
       "      <td>Y</td>\n",
       "      <td>FALCON 9 R/B</td>\n",
       "      <td>2021-017BN</td>\n",
       "      <td>47782</td>\n",
       "    </tr>\n",
       "    <tr>\n",
       "      <th>1</th>\n",
       "      <td>2020-063C</td>\n",
       "      <td>46391</td>\n",
       "      <td>DEBRIS</td>\n",
       "      <td>CZ-2F DEB</td>\n",
       "      <td>PRC</td>\n",
       "      <td>2020-09-04</td>\n",
       "      <td>JSC</td>\n",
       "      <td>2021-03-24</td>\n",
       "      <td>88.41</td>\n",
       "      <td>49.88</td>\n",
       "      <td>...</td>\n",
       "      <td>0</td>\n",
       "      <td>SMALL</td>\n",
       "      <td>7633</td>\n",
       "      <td>2020</td>\n",
       "      <td>63</td>\n",
       "      <td>C</td>\n",
       "      <td>Y</td>\n",
       "      <td>CZ-2F DEB</td>\n",
       "      <td>2020-063C</td>\n",
       "      <td>46391</td>\n",
       "    </tr>\n",
       "    <tr>\n",
       "      <th>2</th>\n",
       "      <td>2020-006BF</td>\n",
       "      <td>45097</td>\n",
       "      <td>PAYLOAD</td>\n",
       "      <td>STARLINK-1175</td>\n",
       "      <td>US</td>\n",
       "      <td>2020-01-29</td>\n",
       "      <td>AFETR</td>\n",
       "      <td>2021-03-19</td>\n",
       "      <td>88.00</td>\n",
       "      <td>52.96</td>\n",
       "      <td>...</td>\n",
       "      <td>0</td>\n",
       "      <td>LARGE</td>\n",
       "      <td>7631</td>\n",
       "      <td>2020</td>\n",
       "      <td>6</td>\n",
       "      <td>BF</td>\n",
       "      <td>Y</td>\n",
       "      <td>STARLINK-1175</td>\n",
       "      <td>2020-006BF</td>\n",
       "      <td>45097</td>\n",
       "    </tr>\n",
       "    <tr>\n",
       "      <th>3</th>\n",
       "      <td>1998-067QB</td>\n",
       "      <td>44304</td>\n",
       "      <td>DEBRIS</td>\n",
       "      <td>ISS DEB</td>\n",
       "      <td>CIS</td>\n",
       "      <td>1998-11-20</td>\n",
       "      <td>TTMTR</td>\n",
       "      <td>2021-03-18</td>\n",
       "      <td>87.97</td>\n",
       "      <td>51.62</td>\n",
       "      <td>...</td>\n",
       "      <td>0</td>\n",
       "      <td>MEDIUM</td>\n",
       "      <td>7632</td>\n",
       "      <td>1998</td>\n",
       "      <td>67</td>\n",
       "      <td>QB</td>\n",
       "      <td>Y</td>\n",
       "      <td>ISS DEB</td>\n",
       "      <td>1998-067QB</td>\n",
       "      <td>44304</td>\n",
       "    </tr>\n",
       "    <tr>\n",
       "      <th>4</th>\n",
       "      <td>1993-036BTE</td>\n",
       "      <td>38214</td>\n",
       "      <td>DEBRIS</td>\n",
       "      <td>COSMOS 2251 DEB</td>\n",
       "      <td>CIS</td>\n",
       "      <td>1993-06-16</td>\n",
       "      <td>PKMTR</td>\n",
       "      <td>2021-03-16</td>\n",
       "      <td>91.94</td>\n",
       "      <td>74.02</td>\n",
       "      <td>...</td>\n",
       "      <td>0</td>\n",
       "      <td>SMALL</td>\n",
       "      <td>7633</td>\n",
       "      <td>1993</td>\n",
       "      <td>36</td>\n",
       "      <td>BTE</td>\n",
       "      <td>Y</td>\n",
       "      <td>COSMOS 2251 DEB</td>\n",
       "      <td>1993-036BTE</td>\n",
       "      <td>38214</td>\n",
       "    </tr>\n",
       "  </tbody>\n",
       "</table>\n",
       "<p>5 rows × 24 columns</p>\n",
       "</div>"
      ],
      "text/plain": [
       "       INTLDES  NORAD_CAT_ID  OBJECT_TYPE          SATNAME COUNTRY  \\\n",
       "0   2021-017BN         47782  ROCKET BODY     FALCON 9 R/B      US   \n",
       "1    2020-063C         46391       DEBRIS        CZ-2F DEB     PRC   \n",
       "2   2020-006BF         45097      PAYLOAD    STARLINK-1175      US   \n",
       "3   1998-067QB         44304       DEBRIS          ISS DEB     CIS   \n",
       "4  1993-036BTE         38214       DEBRIS  COSMOS 2251 DEB     CIS   \n",
       "\n",
       "       LAUNCH   SITE       DECAY  PERIOD  INCLINATION  ...  RCSVALUE  \\\n",
       "0  2021-03-04  AFETR  2021-03-26   87.28        53.03  ...         0   \n",
       "1  2020-09-04    JSC  2021-03-24   88.41        49.88  ...         0   \n",
       "2  2020-01-29  AFETR  2021-03-19   88.00        52.96  ...         0   \n",
       "3  1998-11-20  TTMTR  2021-03-18   87.97        51.62  ...         0   \n",
       "4  1993-06-16  PKMTR  2021-03-16   91.94        74.02  ...         0   \n",
       "\n",
       "   RCS_SIZE  FILE  LAUNCH_YEAR  LAUNCH_NUM LAUNCH_PIECE  CURRENT  \\\n",
       "0     LARGE  7634         2021          17           BN        Y   \n",
       "1     SMALL  7633         2020          63            C        Y   \n",
       "2     LARGE  7631         2020           6           BF        Y   \n",
       "3    MEDIUM  7632         1998          67           QB        Y   \n",
       "4     SMALL  7633         1993          36          BTE        Y   \n",
       "\n",
       "       OBJECT_NAME    OBJECT_ID OBJECT_NUMBER  \n",
       "0     FALCON 9 R/B   2021-017BN         47782  \n",
       "1        CZ-2F DEB    2020-063C         46391  \n",
       "2    STARLINK-1175   2020-006BF         45097  \n",
       "3          ISS DEB   1998-067QB         44304  \n",
       "4  COSMOS 2251 DEB  1993-036BTE         38214  \n",
       "\n",
       "[5 rows x 24 columns]"
      ]
     },
     "execution_count": 5,
     "metadata": {},
     "output_type": "execute_result"
    }
   ],
   "source": [
    "dataset.head()"
   ]
  },
  {
   "cell_type": "code",
   "execution_count": 6,
   "metadata": {},
   "outputs": [
    {
     "name": "stdout",
     "output_type": "stream",
     "text": [
      "<class 'pandas.core.frame.DataFrame'>\n",
      "RangeIndex: 47968 entries, 0 to 47967\n",
      "Data columns (total 24 columns):\n",
      " #   Column         Non-Null Count  Dtype  \n",
      "---  ------         --------------  -----  \n",
      " 0   INTLDES        47968 non-null  object \n",
      " 1   NORAD_CAT_ID   47968 non-null  int64  \n",
      " 2   OBJECT_TYPE    47968 non-null  object \n",
      " 3   SATNAME        47968 non-null  object \n",
      " 4   COUNTRY        47968 non-null  object \n",
      " 5   LAUNCH         47968 non-null  object \n",
      " 6   SITE           47968 non-null  object \n",
      " 7   DECAY          25355 non-null  object \n",
      " 8   PERIOD         47063 non-null  float64\n",
      " 9   INCLINATION    47063 non-null  float64\n",
      " 10  APOGEE         47063 non-null  float64\n",
      " 11  PERIGEE        47063 non-null  float64\n",
      " 12  COMMENT        891 non-null    object \n",
      " 13  COMMENTCODE    2689 non-null   float64\n",
      " 14  RCSVALUE       47968 non-null  int64  \n",
      " 15  RCS_SIZE       37931 non-null  object \n",
      " 16  FILE           47968 non-null  int64  \n",
      " 17  LAUNCH_YEAR    47968 non-null  int64  \n",
      " 18  LAUNCH_NUM     47968 non-null  int64  \n",
      " 19  LAUNCH_PIECE   47968 non-null  object \n",
      " 20  CURRENT        47968 non-null  object \n",
      " 21  OBJECT_NAME    47968 non-null  object \n",
      " 22  OBJECT_ID      47968 non-null  object \n",
      " 23  OBJECT_NUMBER  47968 non-null  int64  \n",
      "dtypes: float64(5), int64(6), object(13)\n",
      "memory usage: 8.8+ MB\n"
     ]
    }
   ],
   "source": [
    "dataset.info()"
   ]
  },
  {
   "cell_type": "code",
   "execution_count": 7,
   "metadata": {},
   "outputs": [
    {
     "data": {
      "text/html": [
       "<div>\n",
       "<style scoped>\n",
       "    .dataframe tbody tr th:only-of-type {\n",
       "        vertical-align: middle;\n",
       "    }\n",
       "\n",
       "    .dataframe tbody tr th {\n",
       "        vertical-align: top;\n",
       "    }\n",
       "\n",
       "    .dataframe thead th {\n",
       "        text-align: right;\n",
       "    }\n",
       "</style>\n",
       "<table border=\"1\" class=\"dataframe\">\n",
       "  <thead>\n",
       "    <tr style=\"text-align: right;\">\n",
       "      <th></th>\n",
       "      <th>NORAD_CAT_ID</th>\n",
       "      <th>PERIOD</th>\n",
       "      <th>INCLINATION</th>\n",
       "      <th>APOGEE</th>\n",
       "      <th>PERIGEE</th>\n",
       "      <th>COMMENTCODE</th>\n",
       "      <th>RCSVALUE</th>\n",
       "      <th>FILE</th>\n",
       "      <th>LAUNCH_YEAR</th>\n",
       "      <th>LAUNCH_NUM</th>\n",
       "      <th>OBJECT_NUMBER</th>\n",
       "    </tr>\n",
       "  </thead>\n",
       "  <tbody>\n",
       "    <tr>\n",
       "      <th>count</th>\n",
       "      <td>47968.000000</td>\n",
       "      <td>47063.000000</td>\n",
       "      <td>47063.000000</td>\n",
       "      <td>47063.000000</td>\n",
       "      <td>47063.000000</td>\n",
       "      <td>2689.000000</td>\n",
       "      <td>47968.0</td>\n",
       "      <td>47968.000000</td>\n",
       "      <td>47968.000000</td>\n",
       "      <td>47968.000000</td>\n",
       "      <td>47968.000000</td>\n",
       "    </tr>\n",
       "    <tr>\n",
       "      <th>mean</th>\n",
       "      <td>23984.501668</td>\n",
       "      <td>192.887099</td>\n",
       "      <td>69.597977</td>\n",
       "      <td>4190.485456</td>\n",
       "      <td>1993.158660</td>\n",
       "      <td>3.584976</td>\n",
       "      <td>0.0</td>\n",
       "      <td>5625.967624</td>\n",
       "      <td>1990.028936</td>\n",
       "      <td>47.810353</td>\n",
       "      <td>23984.501668</td>\n",
       "    </tr>\n",
       "    <tr>\n",
       "      <th>std</th>\n",
       "      <td>13847.316082</td>\n",
       "      <td>692.621308</td>\n",
       "      <td>25.430927</td>\n",
       "      <td>14201.356898</td>\n",
       "      <td>7060.192735</td>\n",
       "      <td>1.422454</td>\n",
       "      <td>0.0</td>\n",
       "      <td>3193.938453</td>\n",
       "      <td>16.081892</td>\n",
       "      <td>29.939163</td>\n",
       "      <td>13847.316082</td>\n",
       "    </tr>\n",
       "    <tr>\n",
       "      <th>min</th>\n",
       "      <td>1.000000</td>\n",
       "      <td>0.000000</td>\n",
       "      <td>0.000000</td>\n",
       "      <td>0.000000</td>\n",
       "      <td>0.000000</td>\n",
       "      <td>1.000000</td>\n",
       "      <td>0.0</td>\n",
       "      <td>1.000000</td>\n",
       "      <td>1957.000000</td>\n",
       "      <td>0.000000</td>\n",
       "      <td>1.000000</td>\n",
       "    </tr>\n",
       "    <tr>\n",
       "      <th>25%</th>\n",
       "      <td>11992.750000</td>\n",
       "      <td>89.240000</td>\n",
       "      <td>53.050000</td>\n",
       "      <td>269.000000</td>\n",
       "      <td>191.000000</td>\n",
       "      <td>3.000000</td>\n",
       "      <td>0.0</td>\n",
       "      <td>5942.000000</td>\n",
       "      <td>1977.000000</td>\n",
       "      <td>25.000000</td>\n",
       "      <td>11992.750000</td>\n",
       "    </tr>\n",
       "    <tr>\n",
       "      <th>50%</th>\n",
       "      <td>23984.500000</td>\n",
       "      <td>94.490000</td>\n",
       "      <td>71.280000</td>\n",
       "      <td>538.000000</td>\n",
       "      <td>380.000000</td>\n",
       "      <td>3.000000</td>\n",
       "      <td>0.0</td>\n",
       "      <td>7337.000000</td>\n",
       "      <td>1990.000000</td>\n",
       "      <td>42.000000</td>\n",
       "      <td>23984.500000</td>\n",
       "    </tr>\n",
       "    <tr>\n",
       "      <th>75%</th>\n",
       "      <td>35976.250000</td>\n",
       "      <td>103.170000</td>\n",
       "      <td>96.875000</td>\n",
       "      <td>1005.000000</td>\n",
       "      <td>760.000000</td>\n",
       "      <td>5.000000</td>\n",
       "      <td>0.0</td>\n",
       "      <td>7631.000000</td>\n",
       "      <td>1999.000000</td>\n",
       "      <td>70.000000</td>\n",
       "      <td>35976.250000</td>\n",
       "    </tr>\n",
       "    <tr>\n",
       "      <th>max</th>\n",
       "      <td>47976.000000</td>\n",
       "      <td>95687.680000</td>\n",
       "      <td>150.940000</td>\n",
       "      <td>672548.000000</td>\n",
       "      <td>265679.000000</td>\n",
       "      <td>5.000000</td>\n",
       "      <td>0.0</td>\n",
       "      <td>7634.000000</td>\n",
       "      <td>2021.000000</td>\n",
       "      <td>129.000000</td>\n",
       "      <td>47976.000000</td>\n",
       "    </tr>\n",
       "  </tbody>\n",
       "</table>\n",
       "</div>"
      ],
      "text/plain": [
       "       NORAD_CAT_ID        PERIOD   INCLINATION         APOGEE        PERIGEE  \\\n",
       "count  47968.000000  47063.000000  47063.000000   47063.000000   47063.000000   \n",
       "mean   23984.501668    192.887099     69.597977    4190.485456    1993.158660   \n",
       "std    13847.316082    692.621308     25.430927   14201.356898    7060.192735   \n",
       "min        1.000000      0.000000      0.000000       0.000000       0.000000   \n",
       "25%    11992.750000     89.240000     53.050000     269.000000     191.000000   \n",
       "50%    23984.500000     94.490000     71.280000     538.000000     380.000000   \n",
       "75%    35976.250000    103.170000     96.875000    1005.000000     760.000000   \n",
       "max    47976.000000  95687.680000    150.940000  672548.000000  265679.000000   \n",
       "\n",
       "       COMMENTCODE  RCSVALUE          FILE   LAUNCH_YEAR    LAUNCH_NUM  \\\n",
       "count  2689.000000   47968.0  47968.000000  47968.000000  47968.000000   \n",
       "mean      3.584976       0.0   5625.967624   1990.028936     47.810353   \n",
       "std       1.422454       0.0   3193.938453     16.081892     29.939163   \n",
       "min       1.000000       0.0      1.000000   1957.000000      0.000000   \n",
       "25%       3.000000       0.0   5942.000000   1977.000000     25.000000   \n",
       "50%       3.000000       0.0   7337.000000   1990.000000     42.000000   \n",
       "75%       5.000000       0.0   7631.000000   1999.000000     70.000000   \n",
       "max       5.000000       0.0   7634.000000   2021.000000    129.000000   \n",
       "\n",
       "       OBJECT_NUMBER  \n",
       "count   47968.000000  \n",
       "mean    23984.501668  \n",
       "std     13847.316082  \n",
       "min         1.000000  \n",
       "25%     11992.750000  \n",
       "50%     23984.500000  \n",
       "75%     35976.250000  \n",
       "max     47976.000000  "
      ]
     },
     "execution_count": 7,
     "metadata": {},
     "output_type": "execute_result"
    }
   ],
   "source": [
    "dataset.describe()"
   ]
  },
  {
   "cell_type": "markdown",
   "metadata": {},
   "source": [
    "# Lets do some data explorartion"
   ]
  },
  {
   "cell_type": "code",
   "execution_count": 8,
   "metadata": {},
   "outputs": [
    {
     "data": {
      "image/png": "[encoded data removed]",
      "text/plain": [
       "<Figure size 2880x720 with 12 Axes>"
      ]
     },
     "metadata": {
      "needs_background": "light"
     },
     "output_type": "display_data"
    }
   ],
   "source": [
    "dataset.hist(figsize=(40,10))\n",
    "plt.show()"
   ]
  },
  {
   "cell_type": "code",
   "execution_count": 10,
   "metadata": {},
   "outputs": [],
   "source": [
    "corr_mat = dataset.corr()"
   ]
  },
  {
   "cell_type": "markdown",
   "metadata": {},
   "source": [
    "## Which Countries have the most reported objects?"
   ]
  },
  {
   "cell_type": "code",
   "execution_count": 11,
   "metadata": {
    "collapsed": false,
    "deletable": true,
    "editable": true,
    "jupyter": {
     "outputs_hidden": false
    }
   },
   "outputs": [
    {
     "data": {
      "image/png": "[encoded data removed]",
      "text/plain": [
       "<Figure size 2880x360 with 1 Axes>"
      ]
     },
     "metadata": {
      "needs_background": "light"
     },
     "output_type": "display_data"
    }
   ],
   "source": [
    "dfcountry = dataset.groupby(['COUNTRY'])['COUNTRY'].count()\n",
    "dfcountry.plot(kind='bar')\n",
    "plt.rcParams['figure.figsize'] = (50, 5)"
   ]
  },
  {
   "cell_type": "code",
   "execution_count": 12,
   "metadata": {},
   "outputs": [
    {
     "data": {
      "text/plain": [
       "CIS     22604\n",
       "US      14872\n",
       "PRC      5759\n",
       "FR       1327\n",
       "JPN       710\n",
       "        ...  \n",
       "CRI         1\n",
       "MMR         1\n",
       "NICO        1\n",
       "LAOS        1\n",
       "RWA         1\n",
       "Name: COUNTRY, Length: 106, dtype: int64"
      ]
     },
     "execution_count": 12,
     "metadata": {},
     "output_type": "execute_result"
    }
   ],
   "source": [
    "dataset['COUNTRY'].value_counts()"
   ]
  },
  {
   "cell_type": "markdown",
   "metadata": {},
   "source": [
    "Looking at the figure above, the Commenwealth of Independent states (CIS), US, and PRC respectivly, have the most reported objects."
   ]
  },
  {
   "cell_type": "code",
   "execution_count": 13,
   "metadata": {
    "collapsed": false,
    "deletable": true,
    "editable": true,
    "jupyter": {
     "outputs_hidden": false
    }
   },
   "outputs": [
    {
     "data": {
      "text/plain": [
       "<AxesSubplot:xlabel='OBJECT_TYPE'>"
      ]
     },
     "execution_count": 13,
     "metadata": {},
     "output_type": "execute_result"
    },
    {
     "data": {
      "image/png": "[encoded data removed]",
      "text/plain": [
       "<Figure size 360x144 with 1 Axes>"
      ]
     },
     "metadata": {
      "needs_background": "light"
     },
     "output_type": "display_data"
    }
   ],
   "source": [
    "dfobjects = dataset.groupby(['OBJECT_TYPE'])['OBJECT_TYPE'].count()\n",
    "dfobjects.plot(kind='bar', figsize=(5,2))"
   ]
  },
  {
   "cell_type": "markdown",
   "metadata": {},
   "source": [
    "## Let's get a breakdown of the objects"
   ]
  },
  {
   "cell_type": "code",
   "execution_count": 14,
   "metadata": {},
   "outputs": [
    {
     "data": {
      "text/plain": [
       "DEBRIS         30974\n",
       "PAYLOAD        10559\n",
       "ROCKET BODY     6228\n",
       "TBA              207\n",
       "Name: OBJECT_TYPE, dtype: int64"
      ]
     },
     "execution_count": 14,
     "metadata": {},
     "output_type": "execute_result"
    }
   ],
   "source": [
    "dataset['OBJECT_TYPE'].value_counts()"
   ]
  },
  {
   "cell_type": "code",
   "execution_count": 15,
   "metadata": {
    "deletable": true,
    "editable": true,
    "tags": []
   },
   "outputs": [
    {
     "data": {
      "text/plain": [
       "<AxesSubplot:xlabel='RCS_SIZE'>"
      ]
     },
     "execution_count": 15,
     "metadata": {},
     "output_type": "execute_result"
    },
    {
     "data": {
      "image/png": "[encoded data removed]",
      "text/plain": [
       "<Figure size 144x144 with 1 Axes>"
      ]
     },
     "metadata": {
      "needs_background": "light"
     },
     "output_type": "display_data"
    }
   ],
   "source": [
    "dfobjects = dataset.groupby(['RCS_SIZE'])['RCS_SIZE'].count()\n",
    "dfobjects.plot(kind='bar', figsize=(2,2))"
   ]
  },
  {
   "cell_type": "markdown",
   "metadata": {},
   "source": [
    "It looks like most of the objects are small and debris, which may pose issue with navigating around the debris for spacecraft."
   ]
  },
  {
   "cell_type": "markdown",
   "metadata": {},
   "source": [
    "# Lets see if we can gain some insights on the data by clustering"
   ]
  },
  {
   "cell_type": "code",
   "execution_count": 16,
   "metadata": {},
   "outputs": [
    {
     "data": {
      "text/plain": [
       "A      5665\n",
       "B      5346\n",
       "C      3408\n",
       "D      2641\n",
       "E      1865\n",
       "       ... \n",
       "EJR       1\n",
       "CCS       1\n",
       "DZT       1\n",
       "CVY       1\n",
       "CKQ       1\n",
       "Name: LAUNCH_PIECE, Length: 3533, dtype: int64"
      ]
     },
     "execution_count": 16,
     "metadata": {},
     "output_type": "execute_result"
    }
   ],
   "source": [
    "dataset['LAUNCH_PIECE'].value_counts()"
   ]
  },
  {
   "cell_type": "code",
   "execution_count": 17,
   "metadata": {},
   "outputs": [
    {
     "data": {
      "text/plain": [
       "TTMTR    12192\n",
       "PKMTR    11523\n",
       "AFWTR     7527\n",
       "AFETR     5883\n",
       "TSC       4608\n",
       "FRGUI     1911\n",
       "SRI       1017\n",
       "JSC        651\n",
       "XSC        614\n",
       "TNSTA      465\n",
       "KYMTR      404\n",
       "WLPIS      233\n",
       "KSCUT      157\n",
       "RLLC       137\n",
       "OREN       115\n",
       "VOSTO      113\n",
       "SEAL        69\n",
       "ERAS        62\n",
       "WRAS        57\n",
       "HGSTR       48\n",
       "WSC         39\n",
       "YSLA        26\n",
       "SVOB        20\n",
       "KODAK       19\n",
       "YAVNE       19\n",
       "SNMLP       17\n",
       "SADOL       11\n",
       "SEM          8\n",
       "KWAJL        7\n",
       "YUN          6\n",
       "WOMRA        4\n",
       "CAS          2\n",
       "NSC          2\n",
       "SMTS         2\n",
       "Name: SITE, dtype: int64"
      ]
     },
     "execution_count": 17,
     "metadata": {},
     "output_type": "execute_result"
    }
   ],
   "source": [
    "dataset['SITE'].value_counts()"
   ]
  },
  {
   "cell_type": "code",
   "execution_count": 19,
   "metadata": {},
   "outputs": [
    {
     "data": {
      "text/plain": [
       "1976-08-02    150\n",
       "1973-05-07     93\n",
       "1975-09-09     75\n",
       "1976-08-05     52\n",
       "1977-01-20     47\n",
       "             ... \n",
       "2002-09-19      1\n",
       "2005-09-09      1\n",
       "1967-07-20      1\n",
       "1975-01-21      1\n",
       "1996-02-03      1\n",
       "Name: DECAY, Length: 13211, dtype: int64"
      ]
     },
     "execution_count": 19,
     "metadata": {},
     "output_type": "execute_result"
    }
   ],
   "source": [
    "dataset['DECAY'].value_counts()"
   ]
  },
  {
   "cell_type": "code",
   "execution_count": 20,
   "metadata": {},
   "outputs": [
    {
     "data": {
      "text/plain": [
       "<matplotlib.collections.PathCollection at 0x7f6fd8bf3310>"
      ]
     },
     "execution_count": 20,
     "metadata": {},
     "output_type": "execute_result"
    },
    {
     "data": {
      "image/png": "[encoded data removed]",
      "text/plain": [
       "<Figure size 3600x360 with 1 Axes>"
      ]
     },
     "metadata": {
      "needs_background": "light"
     },
     "output_type": "display_data"
    }
   ],
   "source": [
    "plt.scatter(dataset['PERIGEE'], dataset['APOGEE'])"
   ]
  },
  {
   "cell_type": "code",
   "execution_count": 21,
   "metadata": {
    "tags": []
   },
   "outputs": [
    {
     "data": {
      "text/plain": [
       "<matplotlib.collections.PathCollection at 0x7f6fd8c1a550>"
      ]
     },
     "execution_count": 21,
     "metadata": {},
     "output_type": "execute_result"
    },
    {
     "data": {
      "image/png": "[encoded data removed]",
      "text/plain": [
       "<Figure size 3600x360 with 1 Axes>"
      ]
     },
     "metadata": {
      "needs_background": "light"
     },
     "output_type": "display_data"
    }
   ],
   "source": [
    "plt.scatter(dataset['LAUNCH_YEAR'],dataset['LAUNCH_NUM'])"
   ]
  },
  {
   "cell_type": "markdown",
   "metadata": {},
   "source": [
    "# TIme to prepare the dataset and do some trimming"
   ]
  },
  {
   "cell_type": "code",
   "execution_count": 22,
   "metadata": {},
   "outputs": [
    {
     "data": {
      "text/html": [
       "<div>\n",
       "<style scoped>\n",
       "    .dataframe tbody tr th:only-of-type {\n",
       "        vertical-align: middle;\n",
       "    }\n",
       "\n",
       "    .dataframe tbody tr th {\n",
       "        vertical-align: top;\n",
       "    }\n",
       "\n",
       "    .dataframe thead th {\n",
       "        text-align: right;\n",
       "    }\n",
       "</style>\n",
       "<table border=\"1\" class=\"dataframe\">\n",
       "  <thead>\n",
       "    <tr style=\"text-align: right;\">\n",
       "      <th></th>\n",
       "      <th>INTLDES</th>\n",
       "      <th>OBJECT_TYPE</th>\n",
       "      <th>SATNAME</th>\n",
       "      <th>COUNTRY</th>\n",
       "      <th>LAUNCH</th>\n",
       "      <th>SITE</th>\n",
       "      <th>DECAY</th>\n",
       "      <th>PERIOD</th>\n",
       "      <th>INCLINATION</th>\n",
       "      <th>APOGEE</th>\n",
       "      <th>PERIGEE</th>\n",
       "      <th>RCS_SIZE</th>\n",
       "      <th>LAUNCH_YEAR</th>\n",
       "      <th>LAUNCH_PIECE</th>\n",
       "      <th>CURRENT</th>\n",
       "      <th>OBJECT_NAME</th>\n",
       "      <th>OBJECT_ID</th>\n",
       "      <th>OBJECT_NUMBER</th>\n",
       "    </tr>\n",
       "  </thead>\n",
       "  <tbody>\n",
       "    <tr>\n",
       "      <th>0</th>\n",
       "      <td>2021-017BN</td>\n",
       "      <td>ROCKET BODY</td>\n",
       "      <td>FALCON 9 R/B</td>\n",
       "      <td>US</td>\n",
       "      <td>2021-03-04</td>\n",
       "      <td>AFETR</td>\n",
       "      <td>2021-03-26</td>\n",
       "      <td>87.28</td>\n",
       "      <td>53.03</td>\n",
       "      <td>144.0</td>\n",
       "      <td>135.0</td>\n",
       "      <td>LARGE</td>\n",
       "      <td>2021</td>\n",
       "      <td>BN</td>\n",
       "      <td>Y</td>\n",
       "      <td>FALCON 9 R/B</td>\n",
       "      <td>2021-017BN</td>\n",
       "      <td>47782</td>\n",
       "    </tr>\n",
       "    <tr>\n",
       "      <th>1</th>\n",
       "      <td>2020-063C</td>\n",
       "      <td>DEBRIS</td>\n",
       "      <td>CZ-2F DEB</td>\n",
       "      <td>PRC</td>\n",
       "      <td>2020-09-04</td>\n",
       "      <td>JSC</td>\n",
       "      <td>2021-03-24</td>\n",
       "      <td>88.41</td>\n",
       "      <td>49.88</td>\n",
       "      <td>201.0</td>\n",
       "      <td>191.0</td>\n",
       "      <td>SMALL</td>\n",
       "      <td>2020</td>\n",
       "      <td>C</td>\n",
       "      <td>Y</td>\n",
       "      <td>CZ-2F DEB</td>\n",
       "      <td>2020-063C</td>\n",
       "      <td>46391</td>\n",
       "    </tr>\n",
       "    <tr>\n",
       "      <th>2</th>\n",
       "      <td>2020-006BF</td>\n",
       "      <td>PAYLOAD</td>\n",
       "      <td>STARLINK-1175</td>\n",
       "      <td>US</td>\n",
       "      <td>2020-01-29</td>\n",
       "      <td>AFETR</td>\n",
       "      <td>2021-03-19</td>\n",
       "      <td>88.00</td>\n",
       "      <td>52.96</td>\n",
       "      <td>183.0</td>\n",
       "      <td>169.0</td>\n",
       "      <td>LARGE</td>\n",
       "      <td>2020</td>\n",
       "      <td>BF</td>\n",
       "      <td>Y</td>\n",
       "      <td>STARLINK-1175</td>\n",
       "      <td>2020-006BF</td>\n",
       "      <td>45097</td>\n",
       "    </tr>\n",
       "    <tr>\n",
       "      <th>3</th>\n",
       "      <td>1998-067QB</td>\n",
       "      <td>DEBRIS</td>\n",
       "      <td>ISS DEB</td>\n",
       "      <td>CIS</td>\n",
       "      <td>1998-11-20</td>\n",
       "      <td>TTMTR</td>\n",
       "      <td>2021-03-18</td>\n",
       "      <td>87.97</td>\n",
       "      <td>51.62</td>\n",
       "      <td>178.0</td>\n",
       "      <td>169.0</td>\n",
       "      <td>MEDIUM</td>\n",
       "      <td>1998</td>\n",
       "      <td>QB</td>\n",
       "      <td>Y</td>\n",
       "      <td>ISS DEB</td>\n",
       "      <td>1998-067QB</td>\n",
       "      <td>44304</td>\n",
       "    </tr>\n",
       "    <tr>\n",
       "      <th>4</th>\n",
       "      <td>1993-036BTE</td>\n",
       "      <td>DEBRIS</td>\n",
       "      <td>COSMOS 2251 DEB</td>\n",
       "      <td>CIS</td>\n",
       "      <td>1993-06-16</td>\n",
       "      <td>PKMTR</td>\n",
       "      <td>2021-03-16</td>\n",
       "      <td>91.94</td>\n",
       "      <td>74.02</td>\n",
       "      <td>380.0</td>\n",
       "      <td>359.0</td>\n",
       "      <td>SMALL</td>\n",
       "      <td>1993</td>\n",
       "      <td>BTE</td>\n",
       "      <td>Y</td>\n",
       "      <td>COSMOS 2251 DEB</td>\n",
       "      <td>1993-036BTE</td>\n",
       "      <td>38214</td>\n",
       "    </tr>\n",
       "  </tbody>\n",
       "</table>\n",
       "</div>"
      ],
      "text/plain": [
       "       INTLDES  OBJECT_TYPE          SATNAME COUNTRY      LAUNCH   SITE  \\\n",
       "0   2021-017BN  ROCKET BODY     FALCON 9 R/B      US  2021-03-04  AFETR   \n",
       "1    2020-063C       DEBRIS        CZ-2F DEB     PRC  2020-09-04    JSC   \n",
       "2   2020-006BF      PAYLOAD    STARLINK-1175      US  2020-01-29  AFETR   \n",
       "3   1998-067QB       DEBRIS          ISS DEB     CIS  1998-11-20  TTMTR   \n",
       "4  1993-036BTE       DEBRIS  COSMOS 2251 DEB     CIS  1993-06-16  PKMTR   \n",
       "\n",
       "        DECAY  PERIOD  INCLINATION  APOGEE  PERIGEE RCS_SIZE  LAUNCH_YEAR  \\\n",
       "0  2021-03-26   87.28        53.03   144.0    135.0    LARGE         2021   \n",
       "1  2021-03-24   88.41        49.88   201.0    191.0    SMALL         2020   \n",
       "2  2021-03-19   88.00        52.96   183.0    169.0    LARGE         2020   \n",
       "3  2021-03-18   87.97        51.62   178.0    169.0   MEDIUM         1998   \n",
       "4  2021-03-16   91.94        74.02   380.0    359.0    SMALL         1993   \n",
       "\n",
       "  LAUNCH_PIECE CURRENT      OBJECT_NAME    OBJECT_ID  OBJECT_NUMBER  \n",
       "0           BN       Y     FALCON 9 R/B   2021-017BN          47782  \n",
       "1            C       Y        CZ-2F DEB    2020-063C          46391  \n",
       "2           BF       Y    STARLINK-1175   2020-006BF          45097  \n",
       "3           QB       Y          ISS DEB   1998-067QB          44304  \n",
       "4          BTE       Y  COSMOS 2251 DEB  1993-036BTE          38214  "
      ]
     },
     "execution_count": 22,
     "metadata": {},
     "output_type": "execute_result"
    }
   ],
   "source": [
    "# drop some the columns that have no values or may not be relevant\n",
    "df = dataset.drop(['NORAD_CAT_ID','COMMENT','COMMENTCODE','RCSVALUE','FILE','LAUNCH_NUM'], axis=1)\n",
    "df['OBJECT_TYPE'].dropna(inplace=True)\n",
    "df.dropna(inplace=True)\n",
    "df.dropna()\n",
    "df.head()"
   ]
  },
  {
   "cell_type": "code",
   "execution_count": 23,
   "metadata": {},
   "outputs": [
    {
     "data": {
      "text/plain": [
       "Index(['INTLDES', 'OBJECT_TYPE', 'SATNAME', 'COUNTRY', 'LAUNCH', 'SITE',\n",
       "       'DECAY', 'PERIOD', 'INCLINATION', 'APOGEE', 'PERIGEE', 'RCS_SIZE',\n",
       "       'LAUNCH_YEAR', 'LAUNCH_PIECE', 'CURRENT', 'OBJECT_NAME', 'OBJECT_ID',\n",
       "       'OBJECT_NUMBER'],\n",
       "      dtype='object')"
      ]
     },
     "execution_count": 23,
     "metadata": {},
     "output_type": "execute_result"
    }
   ],
   "source": [
    "df.columns"
   ]
  },
  {
   "cell_type": "code",
   "execution_count": 91,
   "metadata": {
    "tags": []
   },
   "outputs": [],
   "source": [
    "# Lets attempt to cluster the objects based on the apogee and perigee"
   ]
  },
  {
   "cell_type": "code",
   "execution_count": null,
   "metadata": {},
   "outputs": [],
   "source": [
    "# We can train a model to predict when an object will Decay (Regression, SVM, Decision Trees)\n",
    "# Use the size, period, inclination, etc. to predict the object type"
   ]
  },
  {
   "cell_type": "code",
   "execution_count": 25,
   "metadata": {},
   "outputs": [
    {
     "data": {
      "text/html": [
       "<div>\n",
       "<style scoped>\n",
       "    .dataframe tbody tr th:only-of-type {\n",
       "        vertical-align: middle;\n",
       "    }\n",
       "\n",
       "    .dataframe tbody tr th {\n",
       "        vertical-align: top;\n",
       "    }\n",
       "\n",
       "    .dataframe thead th {\n",
       "        text-align: right;\n",
       "    }\n",
       "</style>\n",
       "<table border=\"1\" class=\"dataframe\">\n",
       "  <thead>\n",
       "    <tr style=\"text-align: right;\">\n",
       "      <th></th>\n",
       "      <th>PERIOD</th>\n",
       "      <th>INCLINATION</th>\n",
       "      <th>APOGEE</th>\n",
       "      <th>PERIGEE</th>\n",
       "      <th>LAUNCH_YEAR</th>\n",
       "    </tr>\n",
       "  </thead>\n",
       "  <tbody>\n",
       "    <tr>\n",
       "      <th>0</th>\n",
       "      <td>87.28</td>\n",
       "      <td>53.03</td>\n",
       "      <td>144.0</td>\n",
       "      <td>135.0</td>\n",
       "      <td>2021</td>\n",
       "    </tr>\n",
       "    <tr>\n",
       "      <th>1</th>\n",
       "      <td>88.41</td>\n",
       "      <td>49.88</td>\n",
       "      <td>201.0</td>\n",
       "      <td>191.0</td>\n",
       "      <td>2020</td>\n",
       "    </tr>\n",
       "    <tr>\n",
       "      <th>2</th>\n",
       "      <td>88.00</td>\n",
       "      <td>52.96</td>\n",
       "      <td>183.0</td>\n",
       "      <td>169.0</td>\n",
       "      <td>2020</td>\n",
       "    </tr>\n",
       "    <tr>\n",
       "      <th>3</th>\n",
       "      <td>87.97</td>\n",
       "      <td>51.62</td>\n",
       "      <td>178.0</td>\n",
       "      <td>169.0</td>\n",
       "      <td>1998</td>\n",
       "    </tr>\n",
       "    <tr>\n",
       "      <th>4</th>\n",
       "      <td>91.94</td>\n",
       "      <td>74.02</td>\n",
       "      <td>380.0</td>\n",
       "      <td>359.0</td>\n",
       "      <td>1993</td>\n",
       "    </tr>\n",
       "  </tbody>\n",
       "</table>\n",
       "</div>"
      ],
      "text/plain": [
       "   PERIOD  INCLINATION  APOGEE  PERIGEE  LAUNCH_YEAR\n",
       "0   87.28        53.03   144.0    135.0         2021\n",
       "1   88.41        49.88   201.0    191.0         2020\n",
       "2   88.00        52.96   183.0    169.0         2020\n",
       "3   87.97        51.62   178.0    169.0         1998\n",
       "4   91.94        74.02   380.0    359.0         1993"
      ]
     },
     "execution_count": 25,
     "metadata": {},
     "output_type": "execute_result"
    }
   ],
   "source": [
    "# Get the numerical values\n",
    "debris_num = dataset.drop(['NORAD_CAT_ID','INTLDES', 'OBJECT_TYPE', 'SATNAME', 'COUNTRY', 'LAUNCH', 'SITE',\n",
    "       'RCS_SIZE', 'LAUNCH_PIECE','COMMENT','COMMENTCODE','FILE','LAUNCH_NUM', 'CURRENT', 'OBJECT_NAME', 'OBJECT_ID',\n",
    "       'OBJECT_NUMBER', 'RCSVALUE','DECAY'], axis=1)\n",
    "debris_num.dropna(inplace=True)\n",
    "debris_num.head()"
   ]
  },
  {
   "cell_type": "code",
   "execution_count": 42,
   "metadata": {
    "tags": []
   },
   "outputs": [],
   "source": [
    "from sklearn.preprocessing import StandardScaler\n",
    "std_sc = StandardScaler()\n",
    "launch = pd.to_datetime(debris_num['LAUNCH_YEAR'], format='%Y').apply(lambda x: x.toordinal())\n",
    "ap = np.array(debris_num['APOGEE']).reshape(-1,1)\n",
    "ap = std_sc.fit_transform(ap)\n",
    "pe = np.array(debris_num['PERIGEE']).reshape(-1,1)\n",
    "pe = std_sc.fit_transform(pe)\n",
    "inc = np.array(debris_num['INCLINATION']).reshape(-1,1)\n",
    "inc = std_sc.fit_transform(inc)\n",
    "per = np.array(debris_num['PERIOD']).reshape(-1,1)\n",
    "per = std_sc.fit_transform(per)\n",
    "# reg = len(np.concatenate([per, inc, pe, ap], axis=1))\n",
    "debris_reg = pd.concat([pd.DataFrame(per, columns=['PERIOD']), pd.DataFrame(inc, columns=['INCLINATION']), \n",
    "                 pd.DataFrame(pe, columns=['PERIGEE']), pd.DataFrame(ap, columns=['APOGEE']), pd.DataFrame(launch)], axis=1)"
   ]
  },
  {
   "cell_type": "code",
   "execution_count": 33,
   "metadata": {
    "tags": []
   },
   "outputs": [
    {
     "data": {
      "text/html": [
       "<div>\n",
       "<style scoped>\n",
       "    .dataframe tbody tr th:only-of-type {\n",
       "        vertical-align: middle;\n",
       "    }\n",
       "\n",
       "    .dataframe tbody tr th {\n",
       "        vertical-align: top;\n",
       "    }\n",
       "\n",
       "    .dataframe thead th {\n",
       "        text-align: right;\n",
       "    }\n",
       "</style>\n",
       "<table border=\"1\" class=\"dataframe\">\n",
       "  <thead>\n",
       "    <tr style=\"text-align: right;\">\n",
       "      <th></th>\n",
       "      <th>DEBRIS</th>\n",
       "      <th>PAYLOAD</th>\n",
       "      <th>ROCKET BODY</th>\n",
       "      <th>TBA</th>\n",
       "      <th>LARGE</th>\n",
       "      <th>MEDIUM</th>\n",
       "      <th>SMALL</th>\n",
       "    </tr>\n",
       "  </thead>\n",
       "  <tbody>\n",
       "    <tr>\n",
       "      <th>0</th>\n",
       "      <td>0</td>\n",
       "      <td>0</td>\n",
       "      <td>1</td>\n",
       "      <td>0</td>\n",
       "      <td>1</td>\n",
       "      <td>0</td>\n",
       "      <td>0</td>\n",
       "    </tr>\n",
       "    <tr>\n",
       "      <th>1</th>\n",
       "      <td>1</td>\n",
       "      <td>0</td>\n",
       "      <td>0</td>\n",
       "      <td>0</td>\n",
       "      <td>0</td>\n",
       "      <td>0</td>\n",
       "      <td>1</td>\n",
       "    </tr>\n",
       "    <tr>\n",
       "      <th>2</th>\n",
       "      <td>0</td>\n",
       "      <td>1</td>\n",
       "      <td>0</td>\n",
       "      <td>0</td>\n",
       "      <td>1</td>\n",
       "      <td>0</td>\n",
       "      <td>0</td>\n",
       "    </tr>\n",
       "    <tr>\n",
       "      <th>3</th>\n",
       "      <td>1</td>\n",
       "      <td>0</td>\n",
       "      <td>0</td>\n",
       "      <td>0</td>\n",
       "      <td>0</td>\n",
       "      <td>1</td>\n",
       "      <td>0</td>\n",
       "    </tr>\n",
       "    <tr>\n",
       "      <th>4</th>\n",
       "      <td>1</td>\n",
       "      <td>0</td>\n",
       "      <td>0</td>\n",
       "      <td>0</td>\n",
       "      <td>0</td>\n",
       "      <td>0</td>\n",
       "      <td>1</td>\n",
       "    </tr>\n",
       "  </tbody>\n",
       "</table>\n",
       "</div>"
      ],
      "text/plain": [
       "   DEBRIS  PAYLOAD  ROCKET BODY  TBA  LARGE  MEDIUM  SMALL\n",
       "0       0        0            1    0      1       0      0\n",
       "1       1        0            0    0      0       0      1\n",
       "2       0        1            0    0      1       0      0\n",
       "3       1        0            0    0      0       1      0\n",
       "4       1        0            0    0      0       0      1"
      ]
     },
     "execution_count": 33,
     "metadata": {},
     "output_type": "execute_result"
    }
   ],
   "source": [
    "# one hot encode the RCS size\n",
    "from sklearn.preprocessing import OneHotEncoder\n",
    "rcs_cat = dataset['RCS_SIZE']\n",
    "obj_cat = dataset['OBJECT_TYPE']\n",
    "obj_onehot = pd.get_dummies(obj_cat)\n",
    "rcs_onehot = pd.get_dummies(rcs_cat)\n",
    "encoded = pd.concat([obj_onehot, rcs_onehot], axis=1)\n",
    "encoded.head()"
   ]
  },
  {
   "cell_type": "code",
   "execution_count": 73,
   "metadata": {},
   "outputs": [],
   "source": [
    "#Format target labels\n",
    "labels = pd.to_datetime(df['DECAY']).apply(lambda x: x.toordinal())\n"
   ]
  },
  {
   "cell_type": "code",
   "execution_count": 80,
   "metadata": {},
   "outputs": [
    {
     "data": {
      "text/html": [
       "<div>\n",
       "<style scoped>\n",
       "    .dataframe tbody tr th:only-of-type {\n",
       "        vertical-align: middle;\n",
       "    }\n",
       "\n",
       "    .dataframe tbody tr th {\n",
       "        vertical-align: top;\n",
       "    }\n",
       "\n",
       "    .dataframe thead th {\n",
       "        text-align: right;\n",
       "    }\n",
       "</style>\n",
       "<table border=\"1\" class=\"dataframe\">\n",
       "  <thead>\n",
       "    <tr style=\"text-align: right;\">\n",
       "      <th></th>\n",
       "      <th>PERIOD</th>\n",
       "      <th>INCLINATION</th>\n",
       "      <th>PERIGEE</th>\n",
       "      <th>APOGEE</th>\n",
       "      <th>LAUNCH_YEAR</th>\n",
       "      <th>DEBRIS</th>\n",
       "      <th>PAYLOAD</th>\n",
       "      <th>ROCKET BODY</th>\n",
       "      <th>TBA</th>\n",
       "      <th>LARGE</th>\n",
       "      <th>MEDIUM</th>\n",
       "      <th>SMALL</th>\n",
       "      <th>DECAY</th>\n",
       "    </tr>\n",
       "  </thead>\n",
       "  <tbody>\n",
       "    <tr>\n",
       "      <th>0</th>\n",
       "      <td>-0.152476</td>\n",
       "      <td>-0.651496</td>\n",
       "      <td>-0.263191</td>\n",
       "      <td>-0.284940</td>\n",
       "      <td>737791.0</td>\n",
       "      <td>0</td>\n",
       "      <td>0</td>\n",
       "      <td>1</td>\n",
       "      <td>0</td>\n",
       "      <td>1</td>\n",
       "      <td>0</td>\n",
       "      <td>0</td>\n",
       "      <td>737875.0</td>\n",
       "    </tr>\n",
       "    <tr>\n",
       "      <th>1</th>\n",
       "      <td>-0.150845</td>\n",
       "      <td>-0.775362</td>\n",
       "      <td>-0.255259</td>\n",
       "      <td>-0.280926</td>\n",
       "      <td>737425.0</td>\n",
       "      <td>1</td>\n",
       "      <td>0</td>\n",
       "      <td>0</td>\n",
       "      <td>0</td>\n",
       "      <td>0</td>\n",
       "      <td>0</td>\n",
       "      <td>1</td>\n",
       "      <td>737873.0</td>\n",
       "    </tr>\n",
       "    <tr>\n",
       "      <th>2</th>\n",
       "      <td>-0.151437</td>\n",
       "      <td>-0.654249</td>\n",
       "      <td>-0.258375</td>\n",
       "      <td>-0.282193</td>\n",
       "      <td>737425.0</td>\n",
       "      <td>0</td>\n",
       "      <td>1</td>\n",
       "      <td>0</td>\n",
       "      <td>0</td>\n",
       "      <td>1</td>\n",
       "      <td>0</td>\n",
       "      <td>0</td>\n",
       "      <td>737868.0</td>\n",
       "    </tr>\n",
       "    <tr>\n",
       "      <th>3</th>\n",
       "      <td>-0.151480</td>\n",
       "      <td>-0.706941</td>\n",
       "      <td>-0.258375</td>\n",
       "      <td>-0.282545</td>\n",
       "      <td>729390.0</td>\n",
       "      <td>1</td>\n",
       "      <td>0</td>\n",
       "      <td>0</td>\n",
       "      <td>0</td>\n",
       "      <td>0</td>\n",
       "      <td>1</td>\n",
       "      <td>0</td>\n",
       "      <td>737867.0</td>\n",
       "    </tr>\n",
       "    <tr>\n",
       "      <th>4</th>\n",
       "      <td>-0.145748</td>\n",
       "      <td>0.173886</td>\n",
       "      <td>-0.231463</td>\n",
       "      <td>-0.268321</td>\n",
       "      <td>727564.0</td>\n",
       "      <td>1</td>\n",
       "      <td>0</td>\n",
       "      <td>0</td>\n",
       "      <td>0</td>\n",
       "      <td>0</td>\n",
       "      <td>0</td>\n",
       "      <td>1</td>\n",
       "      <td>737865.0</td>\n",
       "    </tr>\n",
       "    <tr>\n",
       "      <th>...</th>\n",
       "      <td>...</td>\n",
       "      <td>...</td>\n",
       "      <td>...</td>\n",
       "      <td>...</td>\n",
       "      <td>...</td>\n",
       "      <td>...</td>\n",
       "      <td>...</td>\n",
       "      <td>...</td>\n",
       "      <td>...</td>\n",
       "      <td>...</td>\n",
       "      <td>...</td>\n",
       "      <td>...</td>\n",
       "      <td>...</td>\n",
       "    </tr>\n",
       "    <tr>\n",
       "      <th>25206</th>\n",
       "      <td>39.749651</td>\n",
       "      <td>-1.797751</td>\n",
       "      <td>-0.010787</td>\n",
       "      <td>41.405322</td>\n",
       "      <td>716241.0</td>\n",
       "      <td>0</td>\n",
       "      <td>0</td>\n",
       "      <td>1</td>\n",
       "      <td>0</td>\n",
       "      <td>0</td>\n",
       "      <td>0</td>\n",
       "      <td>1</td>\n",
       "      <td>716466.0</td>\n",
       "    </tr>\n",
       "    <tr>\n",
       "      <th>25294</th>\n",
       "      <td>0.810802</td>\n",
       "      <td>-1.711634</td>\n",
       "      <td>-0.190954</td>\n",
       "      <td>2.627489</td>\n",
       "      <td>715145.0</td>\n",
       "      <td>0</td>\n",
       "      <td>0</td>\n",
       "      <td>1</td>\n",
       "      <td>0</td>\n",
       "      <td>0</td>\n",
       "      <td>0</td>\n",
       "      <td>1</td>\n",
       "      <td>716056.0</td>\n",
       "    </tr>\n",
       "    <tr>\n",
       "      <th>25338</th>\n",
       "      <td>-0.131844</td>\n",
       "      <td>1.165209</td>\n",
       "      <td>-0.166309</td>\n",
       "      <td>-0.235437</td>\n",
       "      <td>714780.0</td>\n",
       "      <td>0</td>\n",
       "      <td>1</td>\n",
       "      <td>0</td>\n",
       "      <td>0</td>\n",
       "      <td>1</td>\n",
       "      <td>0</td>\n",
       "      <td>0</td>\n",
       "      <td>715606.0</td>\n",
       "    </tr>\n",
       "    <tr>\n",
       "      <th>25352</th>\n",
       "      <td>-0.123788</td>\n",
       "      <td>-1.736014</td>\n",
       "      <td>-0.254551</td>\n",
       "      <td>-0.154669</td>\n",
       "      <td>714415.0</td>\n",
       "      <td>0</td>\n",
       "      <td>1</td>\n",
       "      <td>0</td>\n",
       "      <td>0</td>\n",
       "      <td>0</td>\n",
       "      <td>0</td>\n",
       "      <td>1</td>\n",
       "      <td>714883.0</td>\n",
       "    </tr>\n",
       "    <tr>\n",
       "      <th>25354</th>\n",
       "      <td>0.596152</td>\n",
       "      <td>-1.760787</td>\n",
       "      <td>-0.154411</td>\n",
       "      <td>2.083099</td>\n",
       "      <td>714415.0</td>\n",
       "      <td>0</td>\n",
       "      <td>0</td>\n",
       "      <td>1</td>\n",
       "      <td>0</td>\n",
       "      <td>1</td>\n",
       "      <td>0</td>\n",
       "      <td>0</td>\n",
       "      <td>714749.0</td>\n",
       "    </tr>\n",
       "  </tbody>\n",
       "</table>\n",
       "<p>16511 rows × 13 columns</p>\n",
       "</div>"
      ],
      "text/plain": [
       "          PERIOD  INCLINATION   PERIGEE     APOGEE  LAUNCH_YEAR  DEBRIS  \\\n",
       "0      -0.152476    -0.651496 -0.263191  -0.284940     737791.0       0   \n",
       "1      -0.150845    -0.775362 -0.255259  -0.280926     737425.0       1   \n",
       "2      -0.151437    -0.654249 -0.258375  -0.282193     737425.0       0   \n",
       "3      -0.151480    -0.706941 -0.258375  -0.282545     729390.0       1   \n",
       "4      -0.145748     0.173886 -0.231463  -0.268321     727564.0       1   \n",
       "...          ...          ...       ...        ...          ...     ...   \n",
       "25206  39.749651    -1.797751 -0.010787  41.405322     716241.0       0   \n",
       "25294   0.810802    -1.711634 -0.190954   2.627489     715145.0       0   \n",
       "25338  -0.131844     1.165209 -0.166309  -0.235437     714780.0       0   \n",
       "25352  -0.123788    -1.736014 -0.254551  -0.154669     714415.0       0   \n",
       "25354   0.596152    -1.760787 -0.154411   2.083099     714415.0       0   \n",
       "\n",
       "       PAYLOAD  ROCKET BODY  TBA  LARGE  MEDIUM  SMALL     DECAY  \n",
       "0            0            1    0      1       0      0  737875.0  \n",
       "1            0            0    0      0       0      1  737873.0  \n",
       "2            1            0    0      1       0      0  737868.0  \n",
       "3            0            0    0      0       1      0  737867.0  \n",
       "4            0            0    0      0       0      1  737865.0  \n",
       "...        ...          ...  ...    ...     ...    ...       ...  \n",
       "25206        0            1    0      0       0      1  716466.0  \n",
       "25294        0            1    0      0       0      1  716056.0  \n",
       "25338        1            0    0      1       0      0  715606.0  \n",
       "25352        1            0    0      0       0      1  714883.0  \n",
       "25354        0            1    0      1       0      0  714749.0  \n",
       "\n",
       "[16511 rows x 13 columns]"
      ]
     },
     "execution_count": 80,
     "metadata": {},
     "output_type": "execute_result"
    }
   ],
   "source": [
    "#Combine the categorical and numerical data and drop the NaN rows\n",
    "debris_set = pd.concat([debris_reg, encoded, labels], axis=1)\n",
    "debris_set_prepared = debris_set.dropna()\n",
    "debris_set_prepared"
   ]
  },
  {
   "cell_type": "code",
   "execution_count": 81,
   "metadata": {},
   "outputs": [],
   "source": [
    "# Split the data\n",
    "from sklearn.model_selection import train_test_split\n",
    "y = debris_set_prepared.pop('DECAY')\n",
    "x_train, x_test, y_train, y_test = train_test_split(debris_set_prepared, y, test_size=.3, random_state=42)"
   ]
  },
  {
   "cell_type": "code",
   "execution_count": 90,
   "metadata": {},
   "outputs": [],
   "source": [
    "# import the metrics\n",
    "from sklearn.metrics import mean_squared_error, accuracy_score\n",
    "from sklearn.model_selection import cross_val_score\n"
   ]
  },
  {
   "cell_type": "code",
   "execution_count": 91,
   "metadata": {},
   "outputs": [],
   "source": [
    "# show scores\n",
    "def disp_scores(scores):\n",
    "    print(f'Scores: {scores}')\n",
    "    print(f'Mean: {scores.mean()}')\n",
    "    print(f'std: {scores.std()}')"
   ]
  },
  {
   "cell_type": "code",
   "execution_count": 87,
   "metadata": {},
   "outputs": [
    {
     "data": {
      "text/plain": [
       "RandomForestRegressor(n_estimators=200, random_state=42)"
      ]
     },
     "execution_count": 87,
     "metadata": {},
     "output_type": "execute_result"
    }
   ],
   "source": [
    "from sklearn.ensemble import RandomForestRegressor\n",
    "forest_reg = RandomForestRegressor(n_estimators=200, random_state=42)\n",
    "forest_reg.fit(x_train, y_train)"
   ]
  },
  {
   "cell_type": "code",
   "execution_count": 96,
   "metadata": {},
   "outputs": [
    {
     "name": "stdout",
     "output_type": "stream",
     "text": [
      "Scores: [0.78795001 0.77000299 0.77151052 0.75207488 0.78207952 0.77398721\n",
      " 0.78947407 0.7575478  0.76964015 0.77691736]\n",
      "Mean: 0.7731184508285056\n",
      "std: 0.011369413922251352\n"
     ]
    }
   ],
   "source": [
    "score = cross_val_score(forest_reg, x_train, y_train, cv=10)\n",
    "disp_scores(score)"
   ]
  },
  {
   "cell_type": "code",
   "execution_count": 88,
   "metadata": {},
   "outputs": [
    {
     "data": {
      "text/plain": [
       "2204.0746007970815"
      ]
     },
     "execution_count": 88,
     "metadata": {},
     "output_type": "execute_result"
    }
   ],
   "source": [
    "debris_pred = forest_reg.predict(x_test)\n",
    "mse = mean_squared_error(y_test, debris_pred)\n",
    "mse = np.sqrt(mse)\n",
    "mse"
   ]
  },
  {
   "cell_type": "code",
   "execution_count": 400,
   "metadata": {
    "collapsed": true,
    "jupyter": {
     "outputs_hidden": true
    }
   },
   "outputs": [],
   "source": [
    "# Use k-means clustering to cluster the dataset\n",
    "from sklearn import cluster"
   ]
  },
  {
   "cell_type": "code",
   "execution_count": 401,
   "metadata": {
    "collapsed": false,
    "jupyter": {
     "outputs_hidden": false
    }
   },
   "outputs": [
    {
     "data": {
      "image/png": "[encoded data removed]",
      "text/plain": [
       "<matplotlib.figure.Figure at 0x7fc5c5ceb128>"
      ]
     },
     "metadata": {},
     "output_type": "display_data"
    }
   ],
   "source": [
    "# Find where the number of clusters improve\n",
    "distortions_obj = []\n",
    "for i in range(1,21):\n",
    "    km = cluster.KMeans(n_clusters=i, init='k-means++', n_init=10, max_iter=300, random_state=0, n_jobs=-1)\n",
    "    km.fit(obj_labl)\n",
    "    distortions_obj.append(km.inertia_)\n",
    "plt.plot(range(1,21), distortions_obj, marker='o')\n",
    "plt.xlabel('Clusters')\n",
    "plt.ylabel('Dislocations')\n",
    "plt.show()"
   ]
  },
  {
   "cell_type": "code",
   "execution_count": 402,
   "metadata": {
    "collapsed": false,
    "jupyter": {
     "outputs_hidden": false
    }
   },
   "outputs": [
    {
     "data": {
      "image/png": "[encoded data removed]",
      "text/plain": [
       "<matplotlib.figure.Figure at 0x7fc5c3c7a400>"
      ]
     },
     "metadata": {},
     "output_type": "display_data"
    }
   ],
   "source": [
    "# create a sillouite plot\n",
    "km = cluster.KMeans(n_clusters=3, init='k-means++', n_init=10, max_iter=500, random_state=0, n_jobs=-1)\n",
    "y_km = km.fit_predict(obj_labl)\n",
    "\n",
    "from matplotlib import cm\n",
    "from sklearn.metrics import silhouette_samples\n",
    "cluster_labels = np.unique(y_km)\n",
    "n_clusters = cluster_labels.shape[0]\n",
    "silhouette_vals = silhouette_samples(labl_data, y_km, metric='euclidean')\n",
    "\n",
    "y_ax_low, y_ax_up = 0, 0\n",
    "y_ticks = []\n",
    "for i, c in enumerate(cluster_labels):\n",
    "    c_silhouette_vals = silhouette_vals[y_km == c]\n",
    "    c_silhouette_vals.sort()\n",
    "    y_ax_up += len(c_silhouette_vals)\n",
    "    color = cm.jet(i / n_clusters)\n",
    "    plt.barh(range(y_ax_low, y_ax_up), c_silhouette_vals, height=1.0, edgecolor='none', color=color)\n",
    "    y_ticks.append((y_ax_low + y_ax_up) / 2) \n",
    "    y_ax_low += len(c_silhouette_vals)\n",
    "silhouette_avg = np.mean(silhouette_vals)\n",
    "plt.axvline(silhouette_avg, color='red', linestyle=\"--\")\n",
    "plt.yticks(y_ticks, cluster_labels + 1)\n",
    "plt.ylabel('Cluster')\n",
    "plt.xlabel('Silhouette coefficient')\n",
    "plt.show()"
   ]
  },
  {
   "cell_type": "code",
   "execution_count": 404,
   "metadata": {
    "collapsed": false,
    "jupyter": {
     "outputs_hidden": false
    }
   },
   "outputs": [
    {
     "data": {
      "image/png": "[encoded data removed]",
      "text/plain": [
       "<matplotlib.figure.Figure at 0x7fc57b786588>"
      ]
     },
     "metadata": {},
     "output_type": "display_data"
    }
   ],
   "source": [
    "row_clusters = linkage(obj_labl.values,method='complete', metric='euclidean')\n",
    "row_dendr = dendrogram(row_clusters)\n",
    "plt.tight_layout()\n",
    "plt.ylabel('Euclidean distance')\n",
    "plt.show()"
   ]
  },
  {
   "cell_type": "code",
   "execution_count": 389,
   "metadata": {
    "collapsed": false,
    "deletable": true,
    "editable": true,
    "jupyter": {
     "outputs_hidden": false
    }
   },
   "outputs": [
    {
     "data": {
      "text/html": [
       "<div>\n",
       "<table border=\"1\" class=\"dataframe\">\n",
       "  <thead>\n",
       "    <tr style=\"text-align: right;\">\n",
       "      <th></th>\n",
       "      <th>orbit_speed</th>\n",
       "      <th>RCS_SIZE_LARGE</th>\n",
       "      <th>RCS_SIZE_MEDIUM</th>\n",
       "      <th>RCS_SIZE_SMALL</th>\n",
       "    </tr>\n",
       "  </thead>\n",
       "  <tbody>\n",
       "    <tr>\n",
       "      <th>0</th>\n",
       "      <td>0.875403</td>\n",
       "      <td>0</td>\n",
       "      <td>0</td>\n",
       "      <td>1</td>\n",
       "    </tr>\n",
       "    <tr>\n",
       "      <th>1</th>\n",
       "      <td>0.874975</td>\n",
       "      <td>0</td>\n",
       "      <td>0</td>\n",
       "      <td>1</td>\n",
       "    </tr>\n",
       "    <tr>\n",
       "      <th>2</th>\n",
       "      <td>1.203773</td>\n",
       "      <td>0</td>\n",
       "      <td>0</td>\n",
       "      <td>1</td>\n",
       "    </tr>\n",
       "    <tr>\n",
       "      <th>3</th>\n",
       "      <td>0.631864</td>\n",
       "      <td>0</td>\n",
       "      <td>0</td>\n",
       "      <td>1</td>\n",
       "    </tr>\n",
       "    <tr>\n",
       "      <th>4</th>\n",
       "      <td>1.357929</td>\n",
       "      <td>0</td>\n",
       "      <td>0</td>\n",
       "      <td>1</td>\n",
       "    </tr>\n",
       "  </tbody>\n",
       "</table>\n",
       "</div>"
      ],
      "text/plain": [
       "   orbit_speed  RCS_SIZE_LARGE  RCS_SIZE_MEDIUM  RCS_SIZE_SMALL\n",
       "0     0.875403               0                0               1\n",
       "1     0.874975               0                0               1\n",
       "2     1.203773               0                0               1\n",
       "3     0.631864               0                0               1\n",
       "4     1.357929               0                0               1"
      ]
     },
     "execution_count": 389,
     "metadata": {},
     "output_type": "execute_result"
    }
   ],
   "source": [
    "# Split into training and test data\n",
    "# X = dataset.RCS_SIZE\n",
    "\n",
    "# labl_data = pd.get_dummies(clus_data[['RCS_SIZE', 'orbit_speed']])\n",
    "labl_data = pd.get_dummies(clus_data[['RCS_SIZE','orbit_speed']])\n",
    "\n",
    "# Y = orbit_speed\n",
    "labl_data.head()"
   ]
  },
  {
   "cell_type": "code",
   "execution_count": 392,
   "metadata": {
    "collapsed": false,
    "deletable": true,
    "editable": true,
    "jupyter": {
     "outputs_hidden": false
    }
   },
   "outputs": [
    {
     "data": {
      "text/plain": [
       "(<matplotlib.collections.PathCollection at 0x7fc5c25e6550>,)"
      ]
     },
     "execution_count": 392,
     "metadata": {},
     "output_type": "execute_result"
    },
    {
     "data": {
      "image/png": "[encoded data removed]",
      "text/plain": [
       "<matplotlib.figure.Figure at 0x7fc5c25cef98>"
      ]
     },
     "metadata": {},
     "output_type": "display_data"
    }
   ],
   "source": [
    "plt.scatter(labl_data.RCS_SIZE_SMALL[labl_data.RCS_SIZE_SMALL == 1] - .25, orbit_speed[labl_data.RCS_SIZE_SMALL == 1])\n",
    "plt.scatter(labl_data.RCS_SIZE_MEDIUM[labl_data.RCS_SIZE_MEDIUM == 1], orbit_speed[labl_data.RCS_SIZE_MEDIUM == 1]),\n",
    "plt.scatter(labl_data.RCS_SIZE_LARGE[labl_data.RCS_SIZE_LARGE == 1]+.25, orbit_speed[labl_data.RCS_SIZE_LARGE == 1]),\n"
   ]
  },
  {
   "cell_type": "code",
   "execution_count": 343,
   "metadata": {
    "collapsed": false,
    "deletable": true,
    "editable": true,
    "jupyter": {
     "outputs_hidden": false
    }
   },
   "outputs": [],
   "source": [
    "# Train the dataset using k-means\n",
    "k_means = cluster.KMeans(n_clusters=3, random_state=0, n_jobs=-1, n_init=10, max_iter=500)\n",
    "y_km = k_means.fit_predict(labl_data)\n"
   ]
  },
  {
   "cell_type": "code",
   "execution_count": 344,
   "metadata": {
    "collapsed": false,
    "jupyter": {
     "outputs_hidden": false
    },
    "scrolled": true
   },
   "outputs": [],
   "source": [
    "# plt.scatter(labl_data[y_km==0,0], labl_data[y_km==0,1], \n",
    "#            s=50, c='lightgreen', marker='s', label='cluster 1')\n",
    "# plt.scatter(labl_data[y_km==1,0], labl_data[y_km==1,1], \n",
    "#            s=50, c='lightblue', marker='o', label='cluster 1')\n",
    "# plt.scatter(labl_data[y_km==2,0], labl_data[y_km==2,1], \n",
    "#            s=50, c='orange', marker='v', label='cluster 1')\n",
    "# plt.scatter(k_means.cluster_centers_[:,0], k_means.cluster_centers_[:,1],\n",
    "#             s=50, marker='*', c='red', label='centroids')\n",
    "# plt.legend()\n",
    "# plt.grid()\n",
    "# plt.show()"
   ]
  },
  {
   "cell_type": "code",
   "execution_count": 345,
   "metadata": {
    "collapsed": false,
    "jupyter": {
     "outputs_hidden": false
    },
    "scrolled": true
   },
   "outputs": [
    {
     "data": {
      "image/png": "[encoded data removed]",
      "text/plain": [
       "<matplotlib.figure.Figure at 0x7fc5c60faf98>"
      ]
     },
     "metadata": {},
     "output_type": "display_data"
    }
   ],
   "source": [
    "# Find where the number of clusters improve\n",
    "distortions = []\n",
    "for i in range(1,16):\n",
    "    km = cluster.KMeans(n_clusters=i, init='k-means++', n_init=10, max_iter=300, random_state=0, n_jobs=-1)\n",
    "    km.fit(labl_data)\n",
    "    distortions.append(km.inertia_)\n",
    "plt.plot(range(1,16), distortions, marker='o')\n",
    "plt.xlabel('Clusters')\n",
    "plt.ylabel('Dislocations')\n",
    "plt.title('Dislocation for object size and orbit speed')\n",
    "plt.show()"
   ]
  },
  {
   "cell_type": "code",
   "execution_count": 346,
   "metadata": {
    "collapsed": false,
    "jupyter": {
     "outputs_hidden": false
    },
    "scrolled": true
   },
   "outputs": [
    {
     "data": {
      "image/png": "[encoded data removed]",
      "text/plain": [
       "<matplotlib.figure.Figure at 0x7fc5c60ea940>"
      ]
     },
     "metadata": {},
     "output_type": "display_data"
    }
   ],
   "source": [
    "# create a sillouite plot\n",
    "km = cluster.KMeans(n_clusters=3, init='k-means++', n_init=10, max_iter=500, random_state=0, n_jobs=-1)\n",
    "y_km = km.fit_predict(labl_data)\n",
    "\n",
    "from matplotlib import cm\n",
    "from sklearn.metrics import silhouette_samples\n",
    "cluster_labels = np.unique(y_km)\n",
    "n_clusters = cluster_labels.shape[0]\n",
    "silhouette_vals = silhouette_samples(labl_data, y_km, metric='euclidean')\n",
    "\n",
    "y_ax_low, y_ax_up = 0, 0\n",
    "y_ticks = []\n",
    "for i, c in enumerate(cluster_labels):\n",
    "    c_silhouette_vals = silhouette_vals[y_km == c]\n",
    "    c_silhouette_vals.sort()\n",
    "    y_ax_up += len(c_silhouette_vals)\n",
    "    color = cm.jet(i / n_clusters)\n",
    "    plt.barh(range(y_ax_low, y_ax_up), c_silhouette_vals, height=1.0, edgecolor='none', color=color)\n",
    "    y_ticks.append((y_ax_low + y_ax_up) / 2) \n",
    "    y_ax_low += len(c_silhouette_vals)\n",
    "silhouette_avg = np.mean(silhouette_vals)\n",
    "plt.axvline(silhouette_avg, color='red', linestyle=\"--\")\n",
    "plt.yticks(y_ticks, cluster_labels + 1)\n",
    "plt.ylabel('Cluster')\n",
    "plt.xlabel('Silhouette coefficient')\n",
    "plt.show()"
   ]
  },
  {
   "cell_type": "code",
   "execution_count": 347,
   "metadata": {
    "collapsed": false,
    "jupyter": {
     "outputs_hidden": false
    },
    "scrolled": true
   },
   "outputs": [
    {
     "ename": "TypeError",
     "evalue": "scatter() missing 1 required positional argument: 'y'",
     "output_type": "error",
     "traceback": [
      "\u001b[0;31m---------------------------------------------------------------------------\u001b[0m",
      "\u001b[0;31mTypeError\u001b[0m                                 Traceback (most recent call last)",
      "\u001b[0;32m<ipython-input-347-f2543084f2ef>\u001b[0m in \u001b[0;36m<module>\u001b[0;34m()\u001b[0m\n\u001b[1;32m      1\u001b[0m \u001b[0mcentroids\u001b[0m \u001b[0;34m=\u001b[0m \u001b[0mk_means\u001b[0m\u001b[0;34m.\u001b[0m\u001b[0mcluster_centers_\u001b[0m\u001b[0;34m\u001b[0m\u001b[0m\n\u001b[1;32m      2\u001b[0m \u001b[0mplt\u001b[0m\u001b[0;34m.\u001b[0m\u001b[0mscatter\u001b[0m\u001b[0;34m(\u001b[0m\u001b[0mcentroids\u001b[0m\u001b[0;34m[\u001b[0m\u001b[0;34m:\u001b[0m\u001b[0;34m,\u001b[0m \u001b[0;36m0\u001b[0m\u001b[0;34m]\u001b[0m\u001b[0;34m,\u001b[0m \u001b[0mcentroids\u001b[0m\u001b[0;34m[\u001b[0m\u001b[0;34m:\u001b[0m\u001b[0;34m,\u001b[0m\u001b[0;36m1\u001b[0m\u001b[0;34m]\u001b[0m\u001b[0;34m,\u001b[0m \u001b[0mmarker\u001b[0m\u001b[0;34m=\u001b[0m\u001b[0;34m'x'\u001b[0m \u001b[0;34m)\u001b[0m\u001b[0;34m\u001b[0m\u001b[0m\n\u001b[0;32m----> 3\u001b[0;31m \u001b[0mplt\u001b[0m\u001b[0;34m.\u001b[0m\u001b[0mscatter\u001b[0m\u001b[0;34m(\u001b[0m\u001b[0my_km\u001b[0m\u001b[0;34m[\u001b[0m\u001b[0;36m0\u001b[0m\u001b[0;34m]\u001b[0m\u001b[0;34m)\u001b[0m\u001b[0;34m\u001b[0m\u001b[0m\n\u001b[0m\u001b[1;32m      4\u001b[0m \u001b[0mplt\u001b[0m\u001b[0;34m.\u001b[0m\u001b[0mshow\u001b[0m\u001b[0;34m(\u001b[0m\u001b[0;34m)\u001b[0m\u001b[0;34m\u001b[0m\u001b[0m\n",
      "\u001b[0;31mTypeError\u001b[0m: scatter() missing 1 required positional argument: 'y'"
     ]
    },
    {
     "data": {
      "image/png": "[encoded data removed]",
      "text/plain": [
       "<matplotlib.figure.Figure at 0x7fc5c5f55da0>"
      ]
     },
     "metadata": {},
     "output_type": "display_data"
    }
   ],
   "source": [
    "centroids = k_means.cluster_centers_\n",
    "plt.scatter(centroids[:, 0], centroids[:,1], marker='x' )\n",
    "plt.scatter(y_km[0])\n",
    "plt.show()"
   ]
  },
  {
   "cell_type": "code",
   "execution_count": null,
   "metadata": {
    "collapsed": false,
    "jupyter": {
     "outputs_hidden": false
    }
   },
   "outputs": [],
   "source": []
  },
  {
   "cell_type": "code",
   "execution_count": null,
   "metadata": {
    "collapsed": false,
    "jupyter": {
     "outputs_hidden": false
    }
   },
   "outputs": [],
   "source": [
    "# # assignment, cdist = cluster.vq.vq(X_train, Y_train)\n",
    "# pyplot.scatter(X_train['SMALL'], Y_train)\n",
    "# pyplot.scatter(Y_train, X_train['MEDIUM'])\n",
    "# pyplot.scatter(X_train['LARGE'], Y_train)\n",
    "# pyplot.show()"
   ]
  },
  {
   "cell_type": "code",
   "execution_count": 348,
   "metadata": {
    "collapsed": true,
    "jupyter": {
     "outputs_hidden": true
    }
   },
   "outputs": [],
   "source": [
    "from scipy.cluster.hierarchy import dendrogram\n",
    "from scipy.cluster.hierarchy import linkage"
   ]
  },
  {
   "cell_type": "code",
   "execution_count": 405,
   "metadata": {
    "collapsed": false,
    "jupyter": {
     "outputs_hidden": false
    },
    "scrolled": true
   },
   "outputs": [
    {
     "data": {
      "image/png": "[encoded data removed]",
      "text/plain": [
       "<matplotlib.figure.Figure at 0x7fc588198550>"
      ]
     },
     "metadata": {},
     "output_type": "display_data"
    }
   ],
   "source": [
    "row_clusters = linkage(labl_data.values,method='complete', metric='euclidean')\n",
    "row_dendr = dendrogram(row_clusters)\n",
    "plt.tight_layout()\n",
    "plt.ylabel('Euclidean distance')\n",
    "plt.show()"
   ]
  },
  {
   "cell_type": "code",
   "execution_count": 350,
   "metadata": {
    "collapsed": false,
    "jupyter": {
     "outputs_hidden": false
    }
   },
   "outputs": [
    {
     "name": "stdout",
     "output_type": "stream",
     "text": [
      "[1 1 0 ..., 2 2 2]\n"
     ]
    }
   ],
   "source": [
    "from sklearn.cluster import AgglomerativeClustering\n",
    "ac = AgglomerativeClustering(n_clusters=3, affinity='euclidean', linkage='complete')\n",
    "labels = ac.fit_predict(labl_data)\n",
    "print(labels)"
   ]
  }
 ],
 "metadata": {
  "kernelspec": {
   "display_name": "Python 3",
   "language": "python",
   "name": "python3"
  },
  "language_info": {
   "codemirror_mode": {
    "name": "ipython",
    "version": 3
   },
   "file_extension": ".py",
   "mimetype": "text/x-python",
   "name": "python",
   "nbconvert_exporter": "python",
   "pygments_lexer": "ipython3",
   "version": "3.8.8"
  }
 },
 "nbformat": 4,
 "nbformat_minor": 4
}
