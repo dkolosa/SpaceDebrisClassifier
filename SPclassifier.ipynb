{
 "cells": [
  {
   "cell_type": "markdown",
   "metadata": {
    "deletable": true,
    "editable": true,
    "jupyter": {
     "outputs_hidden": false
    }
   },
   "source": [
    "# Space Debris Regression and Classification:\n",
    "This Notebook explores a dataset consisting of space debris collected from Star-Track.org.\n",
    "The dataset consists information of various objects documented. The goal of this notebook is to train a machine learning model to predict the orbit decay date of a space object. The second goal is to train a model to classify if an object's radar cross section (RCS) is small medium or large. Testing multiple machine learning algorithms, it was determined that the Random Forest Regressor had the higest training and test accuracy of 98% and 67%, respectivly. As for the classification, the K-Nearest Neighbors classifier performed the best out of the other models with a training and test score of 70% and 68%, respectivly.  The regression model does suffer from overfitting and additional feature engineering is required to furtuer improve the train test accuracy."
   ]
  },
  {
   "cell_type": "code",
   "execution_count": 48,
   "metadata": {},
   "outputs": [],
   "source": [
    "import pandas as pd\n",
    "import numpy as np\n",
    "from sklearn.tree import DecisionTreeClassifier, export_graphviz\n",
    "import matplotlib.pyplot as plt\n",
    "import json\n",
    "%matplotlib inline\n"
   ]
  },
  {
   "cell_type": "code",
   "execution_count": 49,
   "metadata": {
    "collapsed": false,
    "deletable": true,
    "editable": true,
    "jupyter": {
     "outputs_hidden": false
    }
   },
   "outputs": [],
   "source": [
    "dataset = pd.read_json('satcat100k.json')"
   ]
  },
  {
   "cell_type": "code",
   "execution_count": 50,
   "metadata": {
    "collapsed": false,
    "deletable": true,
    "editable": true,
    "jupyter": {
     "outputs_hidden": false
    },
    "scrolled": true
   },
   "outputs": [
    {
     "data": {
      "text/html": [
       "<div>\n",
       "<style scoped>\n",
       "    .dataframe tbody tr th:only-of-type {\n",
       "        vertical-align: middle;\n",
       "    }\n",
       "\n",
       "    .dataframe tbody tr th {\n",
       "        vertical-align: top;\n",
       "    }\n",
       "\n",
       "    .dataframe thead th {\n",
       "        text-align: right;\n",
       "    }\n",
       "</style>\n",
       "<table border=\"1\" class=\"dataframe\">\n",
       "  <thead>\n",
       "    <tr style=\"text-align: right;\">\n",
       "      <th></th>\n",
       "      <th>INTLDES</th>\n",
       "      <th>NORAD_CAT_ID</th>\n",
       "      <th>OBJECT_TYPE</th>\n",
       "      <th>SATNAME</th>\n",
       "      <th>COUNTRY</th>\n",
       "      <th>LAUNCH</th>\n",
       "      <th>SITE</th>\n",
       "      <th>DECAY</th>\n",
       "      <th>PERIOD</th>\n",
       "      <th>INCLINATION</th>\n",
       "      <th>...</th>\n",
       "      <th>RCSVALUE</th>\n",
       "      <th>RCS_SIZE</th>\n",
       "      <th>FILE</th>\n",
       "      <th>LAUNCH_YEAR</th>\n",
       "      <th>LAUNCH_NUM</th>\n",
       "      <th>LAUNCH_PIECE</th>\n",
       "      <th>CURRENT</th>\n",
       "      <th>OBJECT_NAME</th>\n",
       "      <th>OBJECT_ID</th>\n",
       "      <th>OBJECT_NUMBER</th>\n",
       "    </tr>\n",
       "  </thead>\n",
       "  <tbody>\n",
       "    <tr>\n",
       "      <th>0</th>\n",
       "      <td>2021-017BN</td>\n",
       "      <td>47782</td>\n",
       "      <td>ROCKET BODY</td>\n",
       "      <td>FALCON 9 R/B</td>\n",
       "      <td>US</td>\n",
       "      <td>2021-03-04</td>\n",
       "      <td>AFETR</td>\n",
       "      <td>2021-03-26</td>\n",
       "      <td>87.28</td>\n",
       "      <td>53.03</td>\n",
       "      <td>...</td>\n",
       "      <td>0</td>\n",
       "      <td>LARGE</td>\n",
       "      <td>7634</td>\n",
       "      <td>2021</td>\n",
       "      <td>17</td>\n",
       "      <td>BN</td>\n",
       "      <td>Y</td>\n",
       "      <td>FALCON 9 R/B</td>\n",
       "      <td>2021-017BN</td>\n",
       "      <td>47782</td>\n",
       "    </tr>\n",
       "    <tr>\n",
       "      <th>1</th>\n",
       "      <td>2020-063C</td>\n",
       "      <td>46391</td>\n",
       "      <td>DEBRIS</td>\n",
       "      <td>CZ-2F DEB</td>\n",
       "      <td>PRC</td>\n",
       "      <td>2020-09-04</td>\n",
       "      <td>JSC</td>\n",
       "      <td>2021-03-24</td>\n",
       "      <td>88.41</td>\n",
       "      <td>49.88</td>\n",
       "      <td>...</td>\n",
       "      <td>0</td>\n",
       "      <td>SMALL</td>\n",
       "      <td>7633</td>\n",
       "      <td>2020</td>\n",
       "      <td>63</td>\n",
       "      <td>C</td>\n",
       "      <td>Y</td>\n",
       "      <td>CZ-2F DEB</td>\n",
       "      <td>2020-063C</td>\n",
       "      <td>46391</td>\n",
       "    </tr>\n",
       "    <tr>\n",
       "      <th>2</th>\n",
       "      <td>2020-006BF</td>\n",
       "      <td>45097</td>\n",
       "      <td>PAYLOAD</td>\n",
       "      <td>STARLINK-1175</td>\n",
       "      <td>US</td>\n",
       "      <td>2020-01-29</td>\n",
       "      <td>AFETR</td>\n",
       "      <td>2021-03-19</td>\n",
       "      <td>88.00</td>\n",
       "      <td>52.96</td>\n",
       "      <td>...</td>\n",
       "      <td>0</td>\n",
       "      <td>LARGE</td>\n",
       "      <td>7631</td>\n",
       "      <td>2020</td>\n",
       "      <td>6</td>\n",
       "      <td>BF</td>\n",
       "      <td>Y</td>\n",
       "      <td>STARLINK-1175</td>\n",
       "      <td>2020-006BF</td>\n",
       "      <td>45097</td>\n",
       "    </tr>\n",
       "    <tr>\n",
       "      <th>3</th>\n",
       "      <td>1998-067QB</td>\n",
       "      <td>44304</td>\n",
       "      <td>DEBRIS</td>\n",
       "      <td>ISS DEB</td>\n",
       "      <td>CIS</td>\n",
       "      <td>1998-11-20</td>\n",
       "      <td>TTMTR</td>\n",
       "      <td>2021-03-18</td>\n",
       "      <td>87.97</td>\n",
       "      <td>51.62</td>\n",
       "      <td>...</td>\n",
       "      <td>0</td>\n",
       "      <td>MEDIUM</td>\n",
       "      <td>7632</td>\n",
       "      <td>1998</td>\n",
       "      <td>67</td>\n",
       "      <td>QB</td>\n",
       "      <td>Y</td>\n",
       "      <td>ISS DEB</td>\n",
       "      <td>1998-067QB</td>\n",
       "      <td>44304</td>\n",
       "    </tr>\n",
       "    <tr>\n",
       "      <th>4</th>\n",
       "      <td>1993-036BTE</td>\n",
       "      <td>38214</td>\n",
       "      <td>DEBRIS</td>\n",
       "      <td>COSMOS 2251 DEB</td>\n",
       "      <td>CIS</td>\n",
       "      <td>1993-06-16</td>\n",
       "      <td>PKMTR</td>\n",
       "      <td>2021-03-16</td>\n",
       "      <td>91.94</td>\n",
       "      <td>74.02</td>\n",
       "      <td>...</td>\n",
       "      <td>0</td>\n",
       "      <td>SMALL</td>\n",
       "      <td>7633</td>\n",
       "      <td>1993</td>\n",
       "      <td>36</td>\n",
       "      <td>BTE</td>\n",
       "      <td>Y</td>\n",
       "      <td>COSMOS 2251 DEB</td>\n",
       "      <td>1993-036BTE</td>\n",
       "      <td>38214</td>\n",
       "    </tr>\n",
       "  </tbody>\n",
       "</table>\n",
       "<p>5 rows × 24 columns</p>\n",
       "</div>"
      ],
      "text/plain": [
       "       INTLDES  NORAD_CAT_ID  OBJECT_TYPE          SATNAME COUNTRY  \\\n",
       "0   2021-017BN         47782  ROCKET BODY     FALCON 9 R/B      US   \n",
       "1    2020-063C         46391       DEBRIS        CZ-2F DEB     PRC   \n",
       "2   2020-006BF         45097      PAYLOAD    STARLINK-1175      US   \n",
       "3   1998-067QB         44304       DEBRIS          ISS DEB     CIS   \n",
       "4  1993-036BTE         38214       DEBRIS  COSMOS 2251 DEB     CIS   \n",
       "\n",
       "       LAUNCH   SITE       DECAY  PERIOD  INCLINATION  ...  RCSVALUE  \\\n",
       "0  2021-03-04  AFETR  2021-03-26   87.28        53.03  ...         0   \n",
       "1  2020-09-04    JSC  2021-03-24   88.41        49.88  ...         0   \n",
       "2  2020-01-29  AFETR  2021-03-19   88.00        52.96  ...         0   \n",
       "3  1998-11-20  TTMTR  2021-03-18   87.97        51.62  ...         0   \n",
       "4  1993-06-16  PKMTR  2021-03-16   91.94        74.02  ...         0   \n",
       "\n",
       "   RCS_SIZE  FILE  LAUNCH_YEAR  LAUNCH_NUM LAUNCH_PIECE  CURRENT  \\\n",
       "0     LARGE  7634         2021          17           BN        Y   \n",
       "1     SMALL  7633         2020          63            C        Y   \n",
       "2     LARGE  7631         2020           6           BF        Y   \n",
       "3    MEDIUM  7632         1998          67           QB        Y   \n",
       "4     SMALL  7633         1993          36          BTE        Y   \n",
       "\n",
       "       OBJECT_NAME    OBJECT_ID OBJECT_NUMBER  \n",
       "0     FALCON 9 R/B   2021-017BN         47782  \n",
       "1        CZ-2F DEB    2020-063C         46391  \n",
       "2    STARLINK-1175   2020-006BF         45097  \n",
       "3          ISS DEB   1998-067QB         44304  \n",
       "4  COSMOS 2251 DEB  1993-036BTE         38214  \n",
       "\n",
       "[5 rows x 24 columns]"
      ]
     },
     "execution_count": 50,
     "metadata": {},
     "output_type": "execute_result"
    }
   ],
   "source": [
    "dataset.head()"
   ]
  },
  {
   "cell_type": "code",
   "execution_count": 51,
   "metadata": {},
   "outputs": [
    {
     "name": "stdout",
     "output_type": "stream",
     "text": [
      "<class 'pandas.core.frame.DataFrame'>\n",
      "RangeIndex: 47968 entries, 0 to 47967\n",
      "Data columns (total 24 columns):\n",
      " #   Column         Non-Null Count  Dtype  \n",
      "---  ------         --------------  -----  \n",
      " 0   INTLDES        47968 non-null  object \n",
      " 1   NORAD_CAT_ID   47968 non-null  int64  \n",
      " 2   OBJECT_TYPE    47968 non-null  object \n",
      " 3   SATNAME        47968 non-null  object \n",
      " 4   COUNTRY        47968 non-null  object \n",
      " 5   LAUNCH         47968 non-null  object \n",
      " 6   SITE           47968 non-null  object \n",
      " 7   DECAY          25355 non-null  object \n",
      " 8   PERIOD         47063 non-null  float64\n",
      " 9   INCLINATION    47063 non-null  float64\n",
      " 10  APOGEE         47063 non-null  float64\n",
      " 11  PERIGEE        47063 non-null  float64\n",
      " 12  COMMENT        891 non-null    object \n",
      " 13  COMMENTCODE    2689 non-null   float64\n",
      " 14  RCSVALUE       47968 non-null  int64  \n",
      " 15  RCS_SIZE       37931 non-null  object \n",
      " 16  FILE           47968 non-null  int64  \n",
      " 17  LAUNCH_YEAR    47968 non-null  int64  \n",
      " 18  LAUNCH_NUM     47968 non-null  int64  \n",
      " 19  LAUNCH_PIECE   47968 non-null  object \n",
      " 20  CURRENT        47968 non-null  object \n",
      " 21  OBJECT_NAME    47968 non-null  object \n",
      " 22  OBJECT_ID      47968 non-null  object \n",
      " 23  OBJECT_NUMBER  47968 non-null  int64  \n",
      "dtypes: float64(5), int64(6), object(13)\n",
      "memory usage: 8.8+ MB\n"
     ]
    }
   ],
   "source": [
    "dataset.info()"
   ]
  },
  {
   "cell_type": "code",
   "execution_count": 52,
   "metadata": {},
   "outputs": [
    {
     "data": {
      "text/html": [
       "<div>\n",
       "<style scoped>\n",
       "    .dataframe tbody tr th:only-of-type {\n",
       "        vertical-align: middle;\n",
       "    }\n",
       "\n",
       "    .dataframe tbody tr th {\n",
       "        vertical-align: top;\n",
       "    }\n",
       "\n",
       "    .dataframe thead th {\n",
       "        text-align: right;\n",
       "    }\n",
       "</style>\n",
       "<table border=\"1\" class=\"dataframe\">\n",
       "  <thead>\n",
       "    <tr style=\"text-align: right;\">\n",
       "      <th></th>\n",
       "      <th>NORAD_CAT_ID</th>\n",
       "      <th>PERIOD</th>\n",
       "      <th>INCLINATION</th>\n",
       "      <th>APOGEE</th>\n",
       "      <th>PERIGEE</th>\n",
       "      <th>COMMENTCODE</th>\n",
       "      <th>RCSVALUE</th>\n",
       "      <th>FILE</th>\n",
       "      <th>LAUNCH_YEAR</th>\n",
       "      <th>LAUNCH_NUM</th>\n",
       "      <th>OBJECT_NUMBER</th>\n",
       "    </tr>\n",
       "  </thead>\n",
       "  <tbody>\n",
       "    <tr>\n",
       "      <th>count</th>\n",
       "      <td>47968.000000</td>\n",
       "      <td>47063.000000</td>\n",
       "      <td>47063.000000</td>\n",
       "      <td>47063.000000</td>\n",
       "      <td>47063.000000</td>\n",
       "      <td>2689.000000</td>\n",
       "      <td>47968.0</td>\n",
       "      <td>47968.000000</td>\n",
       "      <td>47968.000000</td>\n",
       "      <td>47968.000000</td>\n",
       "      <td>47968.000000</td>\n",
       "    </tr>\n",
       "    <tr>\n",
       "      <th>mean</th>\n",
       "      <td>23984.501668</td>\n",
       "      <td>192.887099</td>\n",
       "      <td>69.597977</td>\n",
       "      <td>4190.485456</td>\n",
       "      <td>1993.158660</td>\n",
       "      <td>3.584976</td>\n",
       "      <td>0.0</td>\n",
       "      <td>5625.967624</td>\n",
       "      <td>1990.028936</td>\n",
       "      <td>47.810353</td>\n",
       "      <td>23984.501668</td>\n",
       "    </tr>\n",
       "    <tr>\n",
       "      <th>std</th>\n",
       "      <td>13847.316082</td>\n",
       "      <td>692.621308</td>\n",
       "      <td>25.430927</td>\n",
       "      <td>14201.356898</td>\n",
       "      <td>7060.192735</td>\n",
       "      <td>1.422454</td>\n",
       "      <td>0.0</td>\n",
       "      <td>3193.938453</td>\n",
       "      <td>16.081892</td>\n",
       "      <td>29.939163</td>\n",
       "      <td>13847.316082</td>\n",
       "    </tr>\n",
       "    <tr>\n",
       "      <th>min</th>\n",
       "      <td>1.000000</td>\n",
       "      <td>0.000000</td>\n",
       "      <td>0.000000</td>\n",
       "      <td>0.000000</td>\n",
       "      <td>0.000000</td>\n",
       "      <td>1.000000</td>\n",
       "      <td>0.0</td>\n",
       "      <td>1.000000</td>\n",
       "      <td>1957.000000</td>\n",
       "      <td>0.000000</td>\n",
       "      <td>1.000000</td>\n",
       "    </tr>\n",
       "    <tr>\n",
       "      <th>25%</th>\n",
       "      <td>11992.750000</td>\n",
       "      <td>89.240000</td>\n",
       "      <td>53.050000</td>\n",
       "      <td>269.000000</td>\n",
       "      <td>191.000000</td>\n",
       "      <td>3.000000</td>\n",
       "      <td>0.0</td>\n",
       "      <td>5942.000000</td>\n",
       "      <td>1977.000000</td>\n",
       "      <td>25.000000</td>\n",
       "      <td>11992.750000</td>\n",
       "    </tr>\n",
       "    <tr>\n",
       "      <th>50%</th>\n",
       "      <td>23984.500000</td>\n",
       "      <td>94.490000</td>\n",
       "      <td>71.280000</td>\n",
       "      <td>538.000000</td>\n",
       "      <td>380.000000</td>\n",
       "      <td>3.000000</td>\n",
       "      <td>0.0</td>\n",
       "      <td>7337.000000</td>\n",
       "      <td>1990.000000</td>\n",
       "      <td>42.000000</td>\n",
       "      <td>23984.500000</td>\n",
       "    </tr>\n",
       "    <tr>\n",
       "      <th>75%</th>\n",
       "      <td>35976.250000</td>\n",
       "      <td>103.170000</td>\n",
       "      <td>96.875000</td>\n",
       "      <td>1005.000000</td>\n",
       "      <td>760.000000</td>\n",
       "      <td>5.000000</td>\n",
       "      <td>0.0</td>\n",
       "      <td>7631.000000</td>\n",
       "      <td>1999.000000</td>\n",
       "      <td>70.000000</td>\n",
       "      <td>35976.250000</td>\n",
       "    </tr>\n",
       "    <tr>\n",
       "      <th>max</th>\n",
       "      <td>47976.000000</td>\n",
       "      <td>95687.680000</td>\n",
       "      <td>150.940000</td>\n",
       "      <td>672548.000000</td>\n",
       "      <td>265679.000000</td>\n",
       "      <td>5.000000</td>\n",
       "      <td>0.0</td>\n",
       "      <td>7634.000000</td>\n",
       "      <td>2021.000000</td>\n",
       "      <td>129.000000</td>\n",
       "      <td>47976.000000</td>\n",
       "    </tr>\n",
       "  </tbody>\n",
       "</table>\n",
       "</div>"
      ],
      "text/plain": [
       "       NORAD_CAT_ID        PERIOD   INCLINATION         APOGEE        PERIGEE  \\\n",
       "count  47968.000000  47063.000000  47063.000000   47063.000000   47063.000000   \n",
       "mean   23984.501668    192.887099     69.597977    4190.485456    1993.158660   \n",
       "std    13847.316082    692.621308     25.430927   14201.356898    7060.192735   \n",
       "min        1.000000      0.000000      0.000000       0.000000       0.000000   \n",
       "25%    11992.750000     89.240000     53.050000     269.000000     191.000000   \n",
       "50%    23984.500000     94.490000     71.280000     538.000000     380.000000   \n",
       "75%    35976.250000    103.170000     96.875000    1005.000000     760.000000   \n",
       "max    47976.000000  95687.680000    150.940000  672548.000000  265679.000000   \n",
       "\n",
       "       COMMENTCODE  RCSVALUE          FILE   LAUNCH_YEAR    LAUNCH_NUM  \\\n",
       "count  2689.000000   47968.0  47968.000000  47968.000000  47968.000000   \n",
       "mean      3.584976       0.0   5625.967624   1990.028936     47.810353   \n",
       "std       1.422454       0.0   3193.938453     16.081892     29.939163   \n",
       "min       1.000000       0.0      1.000000   1957.000000      0.000000   \n",
       "25%       3.000000       0.0   5942.000000   1977.000000     25.000000   \n",
       "50%       3.000000       0.0   7337.000000   1990.000000     42.000000   \n",
       "75%       5.000000       0.0   7631.000000   1999.000000     70.000000   \n",
       "max       5.000000       0.0   7634.000000   2021.000000    129.000000   \n",
       "\n",
       "       OBJECT_NUMBER  \n",
       "count   47968.000000  \n",
       "mean    23984.501668  \n",
       "std     13847.316082  \n",
       "min         1.000000  \n",
       "25%     11992.750000  \n",
       "50%     23984.500000  \n",
       "75%     35976.250000  \n",
       "max     47976.000000  "
      ]
     },
     "execution_count": 52,
     "metadata": {},
     "output_type": "execute_result"
    }
   ],
   "source": [
    "dataset.describe()"
   ]
  },
  {
   "cell_type": "markdown",
   "metadata": {},
   "source": [
    "# Lets do some data explorartion"
   ]
  },
  {
   "cell_type": "code",
   "execution_count": 53,
   "metadata": {},
   "outputs": [
    {
     "data": {
      "image/png": "[encoded data removed]",
      "text/plain": [
       "<Figure size 2880x720 with 12 Axes>"
      ]
     },
     "metadata": {
      "needs_background": "light"
     },
     "output_type": "display_data"
    }
   ],
   "source": [
    "dataset.hist(figsize=(40,10))\n",
    "plt.show()"
   ]
  },
  {
   "cell_type": "code",
   "execution_count": 54,
   "metadata": {},
   "outputs": [],
   "source": [
    "corr_mat = dataset.corr()"
   ]
  },
  {
   "cell_type": "markdown",
   "metadata": {},
   "source": [
    "## Which Countries have the most reported objects?"
   ]
  },
  {
   "cell_type": "code",
   "execution_count": 55,
   "metadata": {
    "collapsed": false,
    "deletable": true,
    "editable": true,
    "jupyter": {
     "outputs_hidden": false
    }
   },
   "outputs": [
    {
     "data": {
      "image/png": "[encoded data removed]",
      "text/plain": [
       "<Figure size 432x288 with 1 Axes>"
      ]
     },
     "metadata": {
      "needs_background": "light"
     },
     "output_type": "display_data"
    }
   ],
   "source": [
    "dfcountry = dataset.groupby(['COUNTRY'])['COUNTRY'].count()\n",
    "dfcountry.plot(kind='bar')\n",
    "plt.rcParams['figure.figsize'] = (50, 5)"
   ]
  },
  {
   "cell_type": "code",
   "execution_count": 56,
   "metadata": {},
   "outputs": [
    {
     "data": {
      "text/plain": [
       "CIS     22604\n",
       "US      14872\n",
       "PRC      5759\n",
       "FR       1327\n",
       "JPN       710\n",
       "        ...  \n",
       "CRI         1\n",
       "NPL         1\n",
       "BERM        1\n",
       "GHA         1\n",
       "BOL         1\n",
       "Name: COUNTRY, Length: 106, dtype: int64"
      ]
     },
     "execution_count": 56,
     "metadata": {},
     "output_type": "execute_result"
    }
   ],
   "source": [
    "dataset['COUNTRY'].value_counts()"
   ]
  },
  {
   "cell_type": "markdown",
   "metadata": {},
   "source": [
    "Looking at the figure above, the Commenwealth of Independent states (CIS), US, and PRC respectivly, have the most reported objects."
   ]
  },
  {
   "cell_type": "code",
   "execution_count": 57,
   "metadata": {
    "collapsed": false,
    "deletable": true,
    "editable": true,
    "jupyter": {
     "outputs_hidden": false
    }
   },
   "outputs": [
    {
     "data": {
      "text/plain": [
       "<AxesSubplot:xlabel='OBJECT_TYPE'>"
      ]
     },
     "execution_count": 57,
     "metadata": {},
     "output_type": "execute_result"
    },
    {
     "data": {
      "image/png": "[encoded data removed]",
      "text/plain": [
       "<Figure size 360x144 with 1 Axes>"
      ]
     },
     "metadata": {
      "needs_background": "light"
     },
     "output_type": "display_data"
    }
   ],
   "source": [
    "dfobjects = dataset.groupby(['OBJECT_TYPE'])['OBJECT_TYPE'].count()\n",
    "dfobjects.plot(kind='bar', figsize=(5,2))"
   ]
  },
  {
   "cell_type": "markdown",
   "metadata": {},
   "source": [
    "## Let's get a breakdown of the objects"
   ]
  },
  {
   "cell_type": "code",
   "execution_count": 58,
   "metadata": {},
   "outputs": [
    {
     "data": {
      "text/plain": [
       "DEBRIS         30974\n",
       "PAYLOAD        10559\n",
       "ROCKET BODY     6228\n",
       "TBA              207\n",
       "Name: OBJECT_TYPE, dtype: int64"
      ]
     },
     "execution_count": 58,
     "metadata": {},
     "output_type": "execute_result"
    }
   ],
   "source": [
    "dataset['OBJECT_TYPE'].value_counts()"
   ]
  },
  {
   "cell_type": "code",
   "execution_count": 59,
   "metadata": {
    "deletable": true,
    "editable": true,
    "tags": []
   },
   "outputs": [
    {
     "data": {
      "text/plain": [
       "<AxesSubplot:xlabel='RCS_SIZE'>"
      ]
     },
     "execution_count": 59,
     "metadata": {},
     "output_type": "execute_result"
    },
    {
     "data": {
      "image/png": "[encoded data removed]",
      "text/plain": [
       "<Figure size 144x144 with 1 Axes>"
      ]
     },
     "metadata": {
      "needs_background": "light"
     },
     "output_type": "display_data"
    }
   ],
   "source": [
    "dfobjects = dataset.groupby(['RCS_SIZE'])['RCS_SIZE'].count()\n",
    "dfobjects.plot(kind='bar', figsize=(2,2))"
   ]
  },
  {
   "cell_type": "markdown",
   "metadata": {},
   "source": [
    "It looks like most of the objects are small and debris, which may pose issue with navigating around the debris for spacecraft."
   ]
  },
  {
   "cell_type": "markdown",
   "metadata": {},
   "source": [
    "# Lets see if we can gain some insights on the data by clustering"
   ]
  },
  {
   "cell_type": "code",
   "execution_count": 60,
   "metadata": {},
   "outputs": [
    {
     "data": {
      "text/plain": [
       "A      5665\n",
       "B      5346\n",
       "C      3408\n",
       "D      2641\n",
       "E      1865\n",
       "       ... \n",
       "DJX       1\n",
       "EAA       1\n",
       "DVH       1\n",
       "ECG       1\n",
       "BYS       1\n",
       "Name: LAUNCH_PIECE, Length: 3533, dtype: int64"
      ]
     },
     "execution_count": 60,
     "metadata": {},
     "output_type": "execute_result"
    }
   ],
   "source": [
    "dataset['LAUNCH_PIECE'].value_counts()"
   ]
  },
  {
   "cell_type": "code",
   "execution_count": 61,
   "metadata": {},
   "outputs": [
    {
     "data": {
      "text/plain": [
       "TTMTR    12192\n",
       "PKMTR    11523\n",
       "AFWTR     7527\n",
       "AFETR     5883\n",
       "TSC       4608\n",
       "FRGUI     1911\n",
       "SRI       1017\n",
       "JSC        651\n",
       "XSC        614\n",
       "TNSTA      465\n",
       "KYMTR      404\n",
       "WLPIS      233\n",
       "KSCUT      157\n",
       "RLLC       137\n",
       "OREN       115\n",
       "VOSTO      113\n",
       "SEAL        69\n",
       "ERAS        62\n",
       "WRAS        57\n",
       "HGSTR       48\n",
       "WSC         39\n",
       "YSLA        26\n",
       "SVOB        20\n",
       "YAVNE       19\n",
       "KODAK       19\n",
       "SNMLP       17\n",
       "SADOL       11\n",
       "SEM          8\n",
       "KWAJL        7\n",
       "YUN          6\n",
       "WOMRA        4\n",
       "CAS          2\n",
       "SMTS         2\n",
       "NSC          2\n",
       "Name: SITE, dtype: int64"
      ]
     },
     "execution_count": 61,
     "metadata": {},
     "output_type": "execute_result"
    }
   ],
   "source": [
    "dataset['SITE'].value_counts()"
   ]
  },
  {
   "cell_type": "code",
   "execution_count": 62,
   "metadata": {},
   "outputs": [
    {
     "data": {
      "text/plain": [
       "1976-08-02    150\n",
       "1973-05-07     93\n",
       "1975-09-09     75\n",
       "1976-08-05     52\n",
       "1977-01-20     47\n",
       "             ... \n",
       "2009-11-17      1\n",
       "1983-07-31      1\n",
       "2009-12-08      1\n",
       "2005-09-18      1\n",
       "1986-05-04      1\n",
       "Name: DECAY, Length: 13211, dtype: int64"
      ]
     },
     "execution_count": 62,
     "metadata": {},
     "output_type": "execute_result"
    }
   ],
   "source": [
    "dataset['DECAY'].value_counts()"
   ]
  },
  {
   "cell_type": "code",
   "execution_count": 63,
   "metadata": {},
   "outputs": [
    {
     "data": {
      "text/plain": [
       "<matplotlib.collections.PathCollection at 0x157600700>"
      ]
     },
     "execution_count": 63,
     "metadata": {},
     "output_type": "execute_result"
    },
    {
     "data": {
      "image/png": "[encoded data removed]",
      "text/plain": [
       "<Figure size 3600x360 with 1 Axes>"
      ]
     },
     "metadata": {
      "needs_background": "light"
     },
     "output_type": "display_data"
    }
   ],
   "source": [
    "plt.scatter(dataset['PERIGEE'], dataset['APOGEE'])"
   ]
  },
  {
   "cell_type": "code",
   "execution_count": 64,
   "metadata": {
    "tags": []
   },
   "outputs": [
    {
     "data": {
      "text/plain": [
       "<matplotlib.collections.PathCollection at 0x15751e580>"
      ]
     },
     "execution_count": 64,
     "metadata": {},
     "output_type": "execute_result"
    },
    {
     "data": {
      "image/png": "[encoded data removed]",
      "text/plain": [
       "<Figure size 3600x360 with 1 Axes>"
      ]
     },
     "metadata": {
      "needs_background": "light"
     },
     "output_type": "display_data"
    }
   ],
   "source": [
    "plt.scatter(dataset['LAUNCH_YEAR'],dataset['LAUNCH_NUM'])"
   ]
  },
  {
   "cell_type": "markdown",
   "metadata": {},
   "source": [
    "# TIme to prepare the dataset and do some trimming"
   ]
  },
  {
   "cell_type": "code",
   "execution_count": 65,
   "metadata": {},
   "outputs": [
    {
     "data": {
      "text/html": [
       "<div>\n",
       "<style scoped>\n",
       "    .dataframe tbody tr th:only-of-type {\n",
       "        vertical-align: middle;\n",
       "    }\n",
       "\n",
       "    .dataframe tbody tr th {\n",
       "        vertical-align: top;\n",
       "    }\n",
       "\n",
       "    .dataframe thead th {\n",
       "        text-align: right;\n",
       "    }\n",
       "</style>\n",
       "<table border=\"1\" class=\"dataframe\">\n",
       "  <thead>\n",
       "    <tr style=\"text-align: right;\">\n",
       "      <th></th>\n",
       "      <th>INTLDES</th>\n",
       "      <th>OBJECT_TYPE</th>\n",
       "      <th>SATNAME</th>\n",
       "      <th>COUNTRY</th>\n",
       "      <th>LAUNCH</th>\n",
       "      <th>SITE</th>\n",
       "      <th>DECAY</th>\n",
       "      <th>PERIOD</th>\n",
       "      <th>INCLINATION</th>\n",
       "      <th>APOGEE</th>\n",
       "      <th>PERIGEE</th>\n",
       "      <th>RCS_SIZE</th>\n",
       "      <th>LAUNCH_YEAR</th>\n",
       "      <th>LAUNCH_PIECE</th>\n",
       "      <th>CURRENT</th>\n",
       "      <th>OBJECT_NAME</th>\n",
       "      <th>OBJECT_ID</th>\n",
       "      <th>OBJECT_NUMBER</th>\n",
       "    </tr>\n",
       "  </thead>\n",
       "  <tbody>\n",
       "    <tr>\n",
       "      <th>0</th>\n",
       "      <td>2021-017BN</td>\n",
       "      <td>ROCKET BODY</td>\n",
       "      <td>FALCON 9 R/B</td>\n",
       "      <td>US</td>\n",
       "      <td>2021-03-04</td>\n",
       "      <td>AFETR</td>\n",
       "      <td>2021-03-26</td>\n",
       "      <td>87.28</td>\n",
       "      <td>53.03</td>\n",
       "      <td>144.0</td>\n",
       "      <td>135.0</td>\n",
       "      <td>LARGE</td>\n",
       "      <td>2021</td>\n",
       "      <td>BN</td>\n",
       "      <td>Y</td>\n",
       "      <td>FALCON 9 R/B</td>\n",
       "      <td>2021-017BN</td>\n",
       "      <td>47782</td>\n",
       "    </tr>\n",
       "    <tr>\n",
       "      <th>1</th>\n",
       "      <td>2020-063C</td>\n",
       "      <td>DEBRIS</td>\n",
       "      <td>CZ-2F DEB</td>\n",
       "      <td>PRC</td>\n",
       "      <td>2020-09-04</td>\n",
       "      <td>JSC</td>\n",
       "      <td>2021-03-24</td>\n",
       "      <td>88.41</td>\n",
       "      <td>49.88</td>\n",
       "      <td>201.0</td>\n",
       "      <td>191.0</td>\n",
       "      <td>SMALL</td>\n",
       "      <td>2020</td>\n",
       "      <td>C</td>\n",
       "      <td>Y</td>\n",
       "      <td>CZ-2F DEB</td>\n",
       "      <td>2020-063C</td>\n",
       "      <td>46391</td>\n",
       "    </tr>\n",
       "    <tr>\n",
       "      <th>2</th>\n",
       "      <td>2020-006BF</td>\n",
       "      <td>PAYLOAD</td>\n",
       "      <td>STARLINK-1175</td>\n",
       "      <td>US</td>\n",
       "      <td>2020-01-29</td>\n",
       "      <td>AFETR</td>\n",
       "      <td>2021-03-19</td>\n",
       "      <td>88.00</td>\n",
       "      <td>52.96</td>\n",
       "      <td>183.0</td>\n",
       "      <td>169.0</td>\n",
       "      <td>LARGE</td>\n",
       "      <td>2020</td>\n",
       "      <td>BF</td>\n",
       "      <td>Y</td>\n",
       "      <td>STARLINK-1175</td>\n",
       "      <td>2020-006BF</td>\n",
       "      <td>45097</td>\n",
       "    </tr>\n",
       "    <tr>\n",
       "      <th>3</th>\n",
       "      <td>1998-067QB</td>\n",
       "      <td>DEBRIS</td>\n",
       "      <td>ISS DEB</td>\n",
       "      <td>CIS</td>\n",
       "      <td>1998-11-20</td>\n",
       "      <td>TTMTR</td>\n",
       "      <td>2021-03-18</td>\n",
       "      <td>87.97</td>\n",
       "      <td>51.62</td>\n",
       "      <td>178.0</td>\n",
       "      <td>169.0</td>\n",
       "      <td>MEDIUM</td>\n",
       "      <td>1998</td>\n",
       "      <td>QB</td>\n",
       "      <td>Y</td>\n",
       "      <td>ISS DEB</td>\n",
       "      <td>1998-067QB</td>\n",
       "      <td>44304</td>\n",
       "    </tr>\n",
       "    <tr>\n",
       "      <th>4</th>\n",
       "      <td>1993-036BTE</td>\n",
       "      <td>DEBRIS</td>\n",
       "      <td>COSMOS 2251 DEB</td>\n",
       "      <td>CIS</td>\n",
       "      <td>1993-06-16</td>\n",
       "      <td>PKMTR</td>\n",
       "      <td>2021-03-16</td>\n",
       "      <td>91.94</td>\n",
       "      <td>74.02</td>\n",
       "      <td>380.0</td>\n",
       "      <td>359.0</td>\n",
       "      <td>SMALL</td>\n",
       "      <td>1993</td>\n",
       "      <td>BTE</td>\n",
       "      <td>Y</td>\n",
       "      <td>COSMOS 2251 DEB</td>\n",
       "      <td>1993-036BTE</td>\n",
       "      <td>38214</td>\n",
       "    </tr>\n",
       "  </tbody>\n",
       "</table>\n",
       "</div>"
      ],
      "text/plain": [
       "       INTLDES  OBJECT_TYPE          SATNAME COUNTRY      LAUNCH   SITE  \\\n",
       "0   2021-017BN  ROCKET BODY     FALCON 9 R/B      US  2021-03-04  AFETR   \n",
       "1    2020-063C       DEBRIS        CZ-2F DEB     PRC  2020-09-04    JSC   \n",
       "2   2020-006BF      PAYLOAD    STARLINK-1175      US  2020-01-29  AFETR   \n",
       "3   1998-067QB       DEBRIS          ISS DEB     CIS  1998-11-20  TTMTR   \n",
       "4  1993-036BTE       DEBRIS  COSMOS 2251 DEB     CIS  1993-06-16  PKMTR   \n",
       "\n",
       "        DECAY  PERIOD  INCLINATION  APOGEE  PERIGEE RCS_SIZE  LAUNCH_YEAR  \\\n",
       "0  2021-03-26   87.28        53.03   144.0    135.0    LARGE         2021   \n",
       "1  2021-03-24   88.41        49.88   201.0    191.0    SMALL         2020   \n",
       "2  2021-03-19   88.00        52.96   183.0    169.0    LARGE         2020   \n",
       "3  2021-03-18   87.97        51.62   178.0    169.0   MEDIUM         1998   \n",
       "4  2021-03-16   91.94        74.02   380.0    359.0    SMALL         1993   \n",
       "\n",
       "  LAUNCH_PIECE CURRENT      OBJECT_NAME    OBJECT_ID  OBJECT_NUMBER  \n",
       "0           BN       Y     FALCON 9 R/B   2021-017BN          47782  \n",
       "1            C       Y        CZ-2F DEB    2020-063C          46391  \n",
       "2           BF       Y    STARLINK-1175   2020-006BF          45097  \n",
       "3           QB       Y          ISS DEB   1998-067QB          44304  \n",
       "4          BTE       Y  COSMOS 2251 DEB  1993-036BTE          38214  "
      ]
     },
     "execution_count": 65,
     "metadata": {},
     "output_type": "execute_result"
    }
   ],
   "source": [
    "# drop some the columns that have no values or may not be relevant\n",
    "df = dataset.drop(['NORAD_CAT_ID','COMMENT','COMMENTCODE','RCSVALUE','FILE','LAUNCH_NUM'], axis=1)\n",
    "df['OBJECT_TYPE'].dropna(inplace=True)\n",
    "df.dropna(inplace=True)\n",
    "df.dropna()\n",
    "df.head()"
   ]
  },
  {
   "cell_type": "code",
   "execution_count": 66,
   "metadata": {
    "tags": []
   },
   "outputs": [],
   "source": [
    "# Lets attempt to cluster the objects based on the apogee and perigee"
   ]
  },
  {
   "cell_type": "code",
   "execution_count": 67,
   "metadata": {},
   "outputs": [],
   "source": [
    "# We can train a model to predict when an object will Decay (Regression, SVM, Decision Trees)\n",
    "# Use the size, period, inclination, etc. to predict the object type"
   ]
  },
  {
   "cell_type": "code",
   "execution_count": 68,
   "metadata": {},
   "outputs": [
    {
     "data": {
      "text/html": [
       "<div>\n",
       "<style scoped>\n",
       "    .dataframe tbody tr th:only-of-type {\n",
       "        vertical-align: middle;\n",
       "    }\n",
       "\n",
       "    .dataframe tbody tr th {\n",
       "        vertical-align: top;\n",
       "    }\n",
       "\n",
       "    .dataframe thead th {\n",
       "        text-align: right;\n",
       "    }\n",
       "</style>\n",
       "<table border=\"1\" class=\"dataframe\">\n",
       "  <thead>\n",
       "    <tr style=\"text-align: right;\">\n",
       "      <th></th>\n",
       "      <th>PERIOD</th>\n",
       "      <th>INCLINATION</th>\n",
       "      <th>APOGEE</th>\n",
       "      <th>PERIGEE</th>\n",
       "      <th>LAUNCH_YEAR</th>\n",
       "    </tr>\n",
       "  </thead>\n",
       "  <tbody>\n",
       "    <tr>\n",
       "      <th>0</th>\n",
       "      <td>87.28</td>\n",
       "      <td>53.03</td>\n",
       "      <td>144.0</td>\n",
       "      <td>135.0</td>\n",
       "      <td>2021</td>\n",
       "    </tr>\n",
       "    <tr>\n",
       "      <th>1</th>\n",
       "      <td>88.41</td>\n",
       "      <td>49.88</td>\n",
       "      <td>201.0</td>\n",
       "      <td>191.0</td>\n",
       "      <td>2020</td>\n",
       "    </tr>\n",
       "    <tr>\n",
       "      <th>2</th>\n",
       "      <td>88.00</td>\n",
       "      <td>52.96</td>\n",
       "      <td>183.0</td>\n",
       "      <td>169.0</td>\n",
       "      <td>2020</td>\n",
       "    </tr>\n",
       "    <tr>\n",
       "      <th>3</th>\n",
       "      <td>87.97</td>\n",
       "      <td>51.62</td>\n",
       "      <td>178.0</td>\n",
       "      <td>169.0</td>\n",
       "      <td>1998</td>\n",
       "    </tr>\n",
       "    <tr>\n",
       "      <th>4</th>\n",
       "      <td>91.94</td>\n",
       "      <td>74.02</td>\n",
       "      <td>380.0</td>\n",
       "      <td>359.0</td>\n",
       "      <td>1993</td>\n",
       "    </tr>\n",
       "  </tbody>\n",
       "</table>\n",
       "</div>"
      ],
      "text/plain": [
       "   PERIOD  INCLINATION  APOGEE  PERIGEE  LAUNCH_YEAR\n",
       "0   87.28        53.03   144.0    135.0         2021\n",
       "1   88.41        49.88   201.0    191.0         2020\n",
       "2   88.00        52.96   183.0    169.0         2020\n",
       "3   87.97        51.62   178.0    169.0         1998\n",
       "4   91.94        74.02   380.0    359.0         1993"
      ]
     },
     "execution_count": 68,
     "metadata": {},
     "output_type": "execute_result"
    }
   ],
   "source": [
    "# Get the numerical values\n",
    "debris_num = dataset.drop(['NORAD_CAT_ID','INTLDES', 'OBJECT_TYPE', 'SATNAME', 'COUNTRY', 'LAUNCH', 'SITE',\n",
    "       'RCS_SIZE', 'LAUNCH_PIECE','COMMENT','COMMENTCODE','FILE','LAUNCH_NUM', 'CURRENT', 'OBJECT_NAME', 'OBJECT_ID',\n",
    "       'OBJECT_NUMBER', 'RCSVALUE','DECAY'], axis=1)\n",
    "debris_num.dropna(inplace=True)\n",
    "debris_num.head()"
   ]
  },
  {
   "cell_type": "code",
   "execution_count": 69,
   "metadata": {
    "tags": []
   },
   "outputs": [],
   "source": [
    "from sklearn.preprocessing import StandardScaler\n",
    "std_sc = StandardScaler()\n",
    "launch = pd.to_datetime(debris_num['LAUNCH_YEAR'], format='%Y').apply(lambda x: x.toordinal())\n",
    "ap = np.array(debris_num['APOGEE']).reshape(-1,1)\n",
    "ap = std_sc.fit_transform(ap)\n",
    "pe = np.array(debris_num['PERIGEE']).reshape(-1,1)\n",
    "pe = std_sc.fit_transform(pe)\n",
    "inc = np.array(debris_num['INCLINATION']).reshape(-1,1)\n",
    "inc = std_sc.fit_transform(inc)\n",
    "per = np.array(debris_num['PERIOD']).reshape(-1,1)\n",
    "per = std_sc.fit_transform(per)\n",
    "# reg = len(np.concatenate([per, inc, pe, ap], axis=1))\n",
    "debris_reg = pd.concat([pd.DataFrame(per, columns=['PERIOD']), pd.DataFrame(inc, columns=['INCLINATION']), \n",
    "                 pd.DataFrame(pe, columns=['PERIGEE']), pd.DataFrame(ap, columns=['APOGEE']), pd.DataFrame(launch)], axis=1)"
   ]
  },
  {
   "cell_type": "code",
   "execution_count": 70,
   "metadata": {
    "tags": []
   },
   "outputs": [
    {
     "data": {
      "text/html": [
       "<div>\n",
       "<style scoped>\n",
       "    .dataframe tbody tr th:only-of-type {\n",
       "        vertical-align: middle;\n",
       "    }\n",
       "\n",
       "    .dataframe tbody tr th {\n",
       "        vertical-align: top;\n",
       "    }\n",
       "\n",
       "    .dataframe thead th {\n",
       "        text-align: right;\n",
       "    }\n",
       "</style>\n",
       "<table border=\"1\" class=\"dataframe\">\n",
       "  <thead>\n",
       "    <tr style=\"text-align: right;\">\n",
       "      <th></th>\n",
       "      <th>DEBRIS</th>\n",
       "      <th>PAYLOAD</th>\n",
       "      <th>ROCKET BODY</th>\n",
       "      <th>TBA</th>\n",
       "      <th>LARGE</th>\n",
       "      <th>MEDIUM</th>\n",
       "      <th>SMALL</th>\n",
       "    </tr>\n",
       "  </thead>\n",
       "  <tbody>\n",
       "    <tr>\n",
       "      <th>0</th>\n",
       "      <td>0</td>\n",
       "      <td>0</td>\n",
       "      <td>1</td>\n",
       "      <td>0</td>\n",
       "      <td>1</td>\n",
       "      <td>0</td>\n",
       "      <td>0</td>\n",
       "    </tr>\n",
       "    <tr>\n",
       "      <th>1</th>\n",
       "      <td>1</td>\n",
       "      <td>0</td>\n",
       "      <td>0</td>\n",
       "      <td>0</td>\n",
       "      <td>0</td>\n",
       "      <td>0</td>\n",
       "      <td>1</td>\n",
       "    </tr>\n",
       "    <tr>\n",
       "      <th>2</th>\n",
       "      <td>0</td>\n",
       "      <td>1</td>\n",
       "      <td>0</td>\n",
       "      <td>0</td>\n",
       "      <td>1</td>\n",
       "      <td>0</td>\n",
       "      <td>0</td>\n",
       "    </tr>\n",
       "    <tr>\n",
       "      <th>3</th>\n",
       "      <td>1</td>\n",
       "      <td>0</td>\n",
       "      <td>0</td>\n",
       "      <td>0</td>\n",
       "      <td>0</td>\n",
       "      <td>1</td>\n",
       "      <td>0</td>\n",
       "    </tr>\n",
       "    <tr>\n",
       "      <th>4</th>\n",
       "      <td>1</td>\n",
       "      <td>0</td>\n",
       "      <td>0</td>\n",
       "      <td>0</td>\n",
       "      <td>0</td>\n",
       "      <td>0</td>\n",
       "      <td>1</td>\n",
       "    </tr>\n",
       "  </tbody>\n",
       "</table>\n",
       "</div>"
      ],
      "text/plain": [
       "   DEBRIS  PAYLOAD  ROCKET BODY  TBA  LARGE  MEDIUM  SMALL\n",
       "0       0        0            1    0      1       0      0\n",
       "1       1        0            0    0      0       0      1\n",
       "2       0        1            0    0      1       0      0\n",
       "3       1        0            0    0      0       1      0\n",
       "4       1        0            0    0      0       0      1"
      ]
     },
     "execution_count": 70,
     "metadata": {},
     "output_type": "execute_result"
    }
   ],
   "source": [
    "# one hot encode the RCS size\n",
    "from sklearn.preprocessing import OneHotEncoder\n",
    "rcs_cat = dataset['RCS_SIZE']\n",
    "obj_cat = dataset['OBJECT_TYPE']\n",
    "obj_onehot = pd.get_dummies(obj_cat)\n",
    "rcs_onehot = pd.get_dummies(rcs_cat)\n",
    "encoded = pd.concat([obj_onehot, rcs_onehot], axis=1)\n",
    "encoded.head()"
   ]
  },
  {
   "cell_type": "code",
   "execution_count": 71,
   "metadata": {},
   "outputs": [],
   "source": [
    "#Format target labels\n",
    "labels = pd.to_datetime(df['DECAY']).apply(lambda x: x.toordinal())"
   ]
  },
  {
   "cell_type": "code",
   "execution_count": 72,
   "metadata": {},
   "outputs": [
    {
     "data": {
      "text/html": [
       "<div>\n",
       "<style scoped>\n",
       "    .dataframe tbody tr th:only-of-type {\n",
       "        vertical-align: middle;\n",
       "    }\n",
       "\n",
       "    .dataframe tbody tr th {\n",
       "        vertical-align: top;\n",
       "    }\n",
       "\n",
       "    .dataframe thead th {\n",
       "        text-align: right;\n",
       "    }\n",
       "</style>\n",
       "<table border=\"1\" class=\"dataframe\">\n",
       "  <thead>\n",
       "    <tr style=\"text-align: right;\">\n",
       "      <th></th>\n",
       "      <th>PERIOD</th>\n",
       "      <th>INCLINATION</th>\n",
       "      <th>PERIGEE</th>\n",
       "      <th>APOGEE</th>\n",
       "      <th>LAUNCH_YEAR</th>\n",
       "      <th>DEBRIS</th>\n",
       "      <th>PAYLOAD</th>\n",
       "      <th>ROCKET BODY</th>\n",
       "      <th>TBA</th>\n",
       "      <th>LARGE</th>\n",
       "      <th>MEDIUM</th>\n",
       "      <th>SMALL</th>\n",
       "      <th>DECAY</th>\n",
       "    </tr>\n",
       "  </thead>\n",
       "  <tbody>\n",
       "    <tr>\n",
       "      <th>0</th>\n",
       "      <td>-0.152476</td>\n",
       "      <td>-0.651496</td>\n",
       "      <td>-0.263191</td>\n",
       "      <td>-0.284940</td>\n",
       "      <td>737791.0</td>\n",
       "      <td>0</td>\n",
       "      <td>0</td>\n",
       "      <td>1</td>\n",
       "      <td>0</td>\n",
       "      <td>1</td>\n",
       "      <td>0</td>\n",
       "      <td>0</td>\n",
       "      <td>737875.0</td>\n",
       "    </tr>\n",
       "    <tr>\n",
       "      <th>1</th>\n",
       "      <td>-0.150845</td>\n",
       "      <td>-0.775362</td>\n",
       "      <td>-0.255259</td>\n",
       "      <td>-0.280926</td>\n",
       "      <td>737425.0</td>\n",
       "      <td>1</td>\n",
       "      <td>0</td>\n",
       "      <td>0</td>\n",
       "      <td>0</td>\n",
       "      <td>0</td>\n",
       "      <td>0</td>\n",
       "      <td>1</td>\n",
       "      <td>737873.0</td>\n",
       "    </tr>\n",
       "    <tr>\n",
       "      <th>2</th>\n",
       "      <td>-0.151437</td>\n",
       "      <td>-0.654249</td>\n",
       "      <td>-0.258375</td>\n",
       "      <td>-0.282193</td>\n",
       "      <td>737425.0</td>\n",
       "      <td>0</td>\n",
       "      <td>1</td>\n",
       "      <td>0</td>\n",
       "      <td>0</td>\n",
       "      <td>1</td>\n",
       "      <td>0</td>\n",
       "      <td>0</td>\n",
       "      <td>737868.0</td>\n",
       "    </tr>\n",
       "    <tr>\n",
       "      <th>3</th>\n",
       "      <td>-0.151480</td>\n",
       "      <td>-0.706941</td>\n",
       "      <td>-0.258375</td>\n",
       "      <td>-0.282545</td>\n",
       "      <td>729390.0</td>\n",
       "      <td>1</td>\n",
       "      <td>0</td>\n",
       "      <td>0</td>\n",
       "      <td>0</td>\n",
       "      <td>0</td>\n",
       "      <td>1</td>\n",
       "      <td>0</td>\n",
       "      <td>737867.0</td>\n",
       "    </tr>\n",
       "    <tr>\n",
       "      <th>4</th>\n",
       "      <td>-0.145748</td>\n",
       "      <td>0.173886</td>\n",
       "      <td>-0.231463</td>\n",
       "      <td>-0.268321</td>\n",
       "      <td>727564.0</td>\n",
       "      <td>1</td>\n",
       "      <td>0</td>\n",
       "      <td>0</td>\n",
       "      <td>0</td>\n",
       "      <td>0</td>\n",
       "      <td>0</td>\n",
       "      <td>1</td>\n",
       "      <td>737865.0</td>\n",
       "    </tr>\n",
       "    <tr>\n",
       "      <th>...</th>\n",
       "      <td>...</td>\n",
       "      <td>...</td>\n",
       "      <td>...</td>\n",
       "      <td>...</td>\n",
       "      <td>...</td>\n",
       "      <td>...</td>\n",
       "      <td>...</td>\n",
       "      <td>...</td>\n",
       "      <td>...</td>\n",
       "      <td>...</td>\n",
       "      <td>...</td>\n",
       "      <td>...</td>\n",
       "      <td>...</td>\n",
       "    </tr>\n",
       "    <tr>\n",
       "      <th>25206</th>\n",
       "      <td>39.749651</td>\n",
       "      <td>-1.797751</td>\n",
       "      <td>-0.010787</td>\n",
       "      <td>41.405322</td>\n",
       "      <td>716241.0</td>\n",
       "      <td>0</td>\n",
       "      <td>0</td>\n",
       "      <td>1</td>\n",
       "      <td>0</td>\n",
       "      <td>0</td>\n",
       "      <td>0</td>\n",
       "      <td>1</td>\n",
       "      <td>716466.0</td>\n",
       "    </tr>\n",
       "    <tr>\n",
       "      <th>25294</th>\n",
       "      <td>0.810802</td>\n",
       "      <td>-1.711634</td>\n",
       "      <td>-0.190954</td>\n",
       "      <td>2.627489</td>\n",
       "      <td>715145.0</td>\n",
       "      <td>0</td>\n",
       "      <td>0</td>\n",
       "      <td>1</td>\n",
       "      <td>0</td>\n",
       "      <td>0</td>\n",
       "      <td>0</td>\n",
       "      <td>1</td>\n",
       "      <td>716056.0</td>\n",
       "    </tr>\n",
       "    <tr>\n",
       "      <th>25338</th>\n",
       "      <td>-0.131844</td>\n",
       "      <td>1.165209</td>\n",
       "      <td>-0.166309</td>\n",
       "      <td>-0.235437</td>\n",
       "      <td>714780.0</td>\n",
       "      <td>0</td>\n",
       "      <td>1</td>\n",
       "      <td>0</td>\n",
       "      <td>0</td>\n",
       "      <td>1</td>\n",
       "      <td>0</td>\n",
       "      <td>0</td>\n",
       "      <td>715606.0</td>\n",
       "    </tr>\n",
       "    <tr>\n",
       "      <th>25352</th>\n",
       "      <td>-0.123788</td>\n",
       "      <td>-1.736014</td>\n",
       "      <td>-0.254551</td>\n",
       "      <td>-0.154669</td>\n",
       "      <td>714415.0</td>\n",
       "      <td>0</td>\n",
       "      <td>1</td>\n",
       "      <td>0</td>\n",
       "      <td>0</td>\n",
       "      <td>0</td>\n",
       "      <td>0</td>\n",
       "      <td>1</td>\n",
       "      <td>714883.0</td>\n",
       "    </tr>\n",
       "    <tr>\n",
       "      <th>25354</th>\n",
       "      <td>0.596152</td>\n",
       "      <td>-1.760787</td>\n",
       "      <td>-0.154411</td>\n",
       "      <td>2.083099</td>\n",
       "      <td>714415.0</td>\n",
       "      <td>0</td>\n",
       "      <td>0</td>\n",
       "      <td>1</td>\n",
       "      <td>0</td>\n",
       "      <td>1</td>\n",
       "      <td>0</td>\n",
       "      <td>0</td>\n",
       "      <td>714749.0</td>\n",
       "    </tr>\n",
       "  </tbody>\n",
       "</table>\n",
       "<p>16511 rows × 13 columns</p>\n",
       "</div>"
      ],
      "text/plain": [
       "          PERIOD  INCLINATION   PERIGEE     APOGEE  LAUNCH_YEAR  DEBRIS  \\\n",
       "0      -0.152476    -0.651496 -0.263191  -0.284940     737791.0       0   \n",
       "1      -0.150845    -0.775362 -0.255259  -0.280926     737425.0       1   \n",
       "2      -0.151437    -0.654249 -0.258375  -0.282193     737425.0       0   \n",
       "3      -0.151480    -0.706941 -0.258375  -0.282545     729390.0       1   \n",
       "4      -0.145748     0.173886 -0.231463  -0.268321     727564.0       1   \n",
       "...          ...          ...       ...        ...          ...     ...   \n",
       "25206  39.749651    -1.797751 -0.010787  41.405322     716241.0       0   \n",
       "25294   0.810802    -1.711634 -0.190954   2.627489     715145.0       0   \n",
       "25338  -0.131844     1.165209 -0.166309  -0.235437     714780.0       0   \n",
       "25352  -0.123788    -1.736014 -0.254551  -0.154669     714415.0       0   \n",
       "25354   0.596152    -1.760787 -0.154411   2.083099     714415.0       0   \n",
       "\n",
       "       PAYLOAD  ROCKET BODY  TBA  LARGE  MEDIUM  SMALL     DECAY  \n",
       "0            0            1    0      1       0      0  737875.0  \n",
       "1            0            0    0      0       0      1  737873.0  \n",
       "2            1            0    0      1       0      0  737868.0  \n",
       "3            0            0    0      0       1      0  737867.0  \n",
       "4            0            0    0      0       0      1  737865.0  \n",
       "...        ...          ...  ...    ...     ...    ...       ...  \n",
       "25206        0            1    0      0       0      1  716466.0  \n",
       "25294        0            1    0      0       0      1  716056.0  \n",
       "25338        1            0    0      1       0      0  715606.0  \n",
       "25352        1            0    0      0       0      1  714883.0  \n",
       "25354        0            1    0      1       0      0  714749.0  \n",
       "\n",
       "[16511 rows x 13 columns]"
      ]
     },
     "execution_count": 72,
     "metadata": {},
     "output_type": "execute_result"
    }
   ],
   "source": [
    "#Combine the categorical and numerical data and drop the NaN rows\n",
    "debris_set = pd.concat([debris_reg, encoded, labels], axis=1)\n",
    "debris_set_prepared = debris_set.dropna()\n",
    "debris_set_prepared"
   ]
  },
  {
   "cell_type": "code",
   "execution_count": 73,
   "metadata": {},
   "outputs": [],
   "source": [
    "# Split the data\n",
    "from sklearn.model_selection import train_test_split\n",
    "y = debris_set_prepared.pop('DECAY')\n",
    "x_train, x_test, y_train, y_test = train_test_split(debris_set_prepared, y, test_size=.3, random_state=42)"
   ]
  },
  {
   "cell_type": "code",
   "execution_count": 74,
   "metadata": {},
   "outputs": [],
   "source": [
    "# import the metrics\n",
    "from sklearn.metrics import mean_squared_error, accuracy_score\n",
    "from sklearn.model_selection import cross_val_score"
   ]
  },
  {
   "cell_type": "code",
   "execution_count": 75,
   "metadata": {},
   "outputs": [],
   "source": [
    "# show scores\n",
    "def disp_scores(scores):\n",
    "    print(f'Scores: {scores}')\n",
    "    print(f'Mean: {scores.mean()}')\n",
    "    print(f'std: {scores.std()}')"
   ]
  },
  {
   "cell_type": "code",
   "execution_count": 76,
   "metadata": {},
   "outputs": [
    {
     "name": "stdout",
     "output_type": "stream",
     "text": [
      "train: 0.964490367139718\n",
      "test: 0.7599460817729526\n"
     ]
    }
   ],
   "source": [
    "from sklearn.ensemble import RandomForestRegressor\n",
    "\n",
    "forest_reg = RandomForestRegressor(n_estimators=25, random_state=42)\n",
    "forest_reg.fit(x_train, y_train)\n",
    "# forest_reg = RandomForestRegressor()\n",
    "# params = [\n",
    "#     {'n_estimators': [1, 5, 10, 15,20,25,30]}\n",
    "# ]\n",
    "# gscv = GridSearchCV(forest_reg, params, cv=5, return_train_score=True)\n",
    "# gscv.fit(x_train, y_train)\n",
    "# print(gscv.best_params_)\n",
    "# print(gscv.best_score_)\n",
    "\n",
    "print(f'train: {forest_reg.score(x_train, y_train)}')\n",
    "print(f'test: {forest_reg.score(x_test, y_test)}')"
   ]
  },
  {
   "cell_type": "markdown",
   "metadata": {},
   "source": [
    "Given that the train is .96 and test is .75, this means that the model is overfitting the training set"
   ]
  },
  {
   "cell_type": "code",
   "execution_count": 77,
   "metadata": {},
   "outputs": [
    {
     "name": "stdout",
     "output_type": "stream",
     "text": [
      "Scores: [0.77264592 0.76048928 0.76884824 0.74801465 0.77482293 0.76551794\n",
      " 0.78407755 0.74567245 0.76060089 0.76974056]\n",
      "Mean: 0.7650430405538885\n",
      "std: 0.01121690618317919\n"
     ]
    }
   ],
   "source": [
    "score = cross_val_score(forest_reg, x_train, y_train, cv=10)\n",
    "disp_scores(score)"
   ]
  },
  {
   "cell_type": "code",
   "execution_count": 78,
   "metadata": {},
   "outputs": [
    {
     "data": {
      "text/plain": [
       "2245.8226915250098"
      ]
     },
     "execution_count": 78,
     "metadata": {},
     "output_type": "execute_result"
    }
   ],
   "source": [
    "debris_pred = forest_reg.predict(x_test)\n",
    "mse = mean_squared_error(y_test, debris_pred)\n",
    "mse = np.sqrt(mse)\n",
    "mse"
   ]
  },
  {
   "cell_type": "code",
   "execution_count": 79,
   "metadata": {},
   "outputs": [
    {
     "name": "stdout",
     "output_type": "stream",
     "text": [
      "training: 0.8608804119020333\n",
      "test: 0.7236768615807839\n"
     ]
    }
   ],
   "source": [
    "from sklearn.ensemble import AdaBoostRegressor\n",
    "from sklearn.tree import DecisionTreeRegressor\n",
    "ada = AdaBoostRegressor(DecisionTreeRegressor(max_depth=10),random_state=0, n_estimators=100)\n",
    "ada.fit(x_train, y_train)\n",
    "predict = ada.predict(x_test)\n",
    "print(f'training: {ada.score(x_train, y_train)}')\n",
    "print(f'test: {ada.score(x_test, y_test)}')"
   ]
  },
  {
   "cell_type": "code",
   "execution_count": 80,
   "metadata": {},
   "outputs": [],
   "source": [
    "# Try ridge regression and SVR next to see if can get better performance\n",
    "from sklearn.linear_model import Ridge\n",
    "from sklearn.svm import SVR\n",
    "from sklearn.metrics import accuracy_score\n",
    "from sklearn.neighbors import KNeighborsRegressor\n",
    "from sklearn.model_selection import GridSearchCV"
   ]
  },
  {
   "cell_type": "code",
   "execution_count": 81,
   "metadata": {},
   "outputs": [
    {
     "name": "stdout",
     "output_type": "stream",
     "text": [
      "{'alpha': 1}\n",
      "0.6011329128935234\n"
     ]
    }
   ],
   "source": [
    "ridge = Ridge()\n",
    "params = [\n",
    "    {'alpha': [.1, .3, .6, 1]}\n",
    "]\n",
    "gscv = GridSearchCV(ridge, params, cv=5, return_train_score=True)\n",
    "gscv.fit(x_train, y_train)\n",
    "print(gscv.best_params_)\n",
    "print(gscv.best_score_)"
   ]
  },
  {
   "cell_type": "code",
   "execution_count": 82,
   "metadata": {},
   "outputs": [
    {
     "name": "stdout",
     "output_type": "stream",
     "text": [
      "{'n_neighbors': 15}\n",
      "0.7397321761929374\n"
     ]
    }
   ],
   "source": [
    "kneighreg = KNeighborsRegressor()\n",
    "# lets do a gridsearch to try different hyperparameters\n",
    "params = [\n",
    "    {'n_neighbors': [1, 3, 6, 10, 15]}\n",
    "]\n",
    "gscv = GridSearchCV(kneighreg, params, cv=10, return_train_score=True)\n",
    "gscv.fit(x_train, y_train)\n",
    "print(gscv.best_params_)\n",
    "print(gscv.best_score_)"
   ]
  },
  {
   "cell_type": "markdown",
   "metadata": {},
   "source": [
    "From training a various regression models, the model with the best performance is the Random Forest Regressor with a training accuracy of 0.965 and testing accuracy of 0.76. The high training accuracy indicates the model is overfitting the dataset."
   ]
  },
  {
   "cell_type": "code",
   "execution_count": 83,
   "metadata": {},
   "outputs": [],
   "source": [
    "# Lets create a model to predict the type of object (debris, rocket body, payload)"
   ]
  },
  {
   "cell_type": "code",
   "execution_count": 84,
   "metadata": {},
   "outputs": [],
   "source": [
    "# Drop TBA 10 values\n",
    "df.drop(df[df['OBJECT_TYPE'] == 'TBA'].index, inplace=True)"
   ]
  },
  {
   "cell_type": "code",
   "execution_count": 85,
   "metadata": {
    "tags": []
   },
   "outputs": [],
   "source": [
    "# Recall that most objects are debris, \n",
    "# first, have an equal amt of data for all 3 classes to reduce bias\n",
    "num_of_med = len(df[df['RCS_SIZE'] == 'MEDIUM'])\n",
    "small = df[df['RCS_SIZE'] == 'SMALL'][:num_of_med]\n",
    "large = df[df['RCS_SIZE'] == 'LARGE'][:num_of_med]\n",
    "med = df[df['RCS_SIZE'] == 'MEDIUM']"
   ]
  },
  {
   "cell_type": "code",
   "execution_count": 86,
   "metadata": {},
   "outputs": [
    {
     "data": {
      "text/html": [
       "<div>\n",
       "<style scoped>\n",
       "    .dataframe tbody tr th:only-of-type {\n",
       "        vertical-align: middle;\n",
       "    }\n",
       "\n",
       "    .dataframe tbody tr th {\n",
       "        vertical-align: top;\n",
       "    }\n",
       "\n",
       "    .dataframe thead th {\n",
       "        text-align: right;\n",
       "    }\n",
       "</style>\n",
       "<table border=\"1\" class=\"dataframe\">\n",
       "  <thead>\n",
       "    <tr style=\"text-align: right;\">\n",
       "      <th></th>\n",
       "      <th>INTLDES</th>\n",
       "      <th>OBJECT_TYPE</th>\n",
       "      <th>SATNAME</th>\n",
       "      <th>COUNTRY</th>\n",
       "      <th>LAUNCH</th>\n",
       "      <th>SITE</th>\n",
       "      <th>DECAY</th>\n",
       "      <th>PERIOD</th>\n",
       "      <th>INCLINATION</th>\n",
       "      <th>APOGEE</th>\n",
       "      <th>PERIGEE</th>\n",
       "      <th>RCS_SIZE</th>\n",
       "      <th>LAUNCH_YEAR</th>\n",
       "      <th>LAUNCH_PIECE</th>\n",
       "      <th>CURRENT</th>\n",
       "      <th>OBJECT_NAME</th>\n",
       "      <th>OBJECT_ID</th>\n",
       "      <th>OBJECT_NUMBER</th>\n",
       "    </tr>\n",
       "  </thead>\n",
       "  <tbody>\n",
       "    <tr>\n",
       "      <th>1</th>\n",
       "      <td>2020-063C</td>\n",
       "      <td>DEBRIS</td>\n",
       "      <td>CZ-2F DEB</td>\n",
       "      <td>PRC</td>\n",
       "      <td>2020-09-04</td>\n",
       "      <td>JSC</td>\n",
       "      <td>2021-03-24</td>\n",
       "      <td>88.41</td>\n",
       "      <td>49.88</td>\n",
       "      <td>201.0</td>\n",
       "      <td>191.0</td>\n",
       "      <td>SMALL</td>\n",
       "      <td>2020</td>\n",
       "      <td>C</td>\n",
       "      <td>Y</td>\n",
       "      <td>CZ-2F DEB</td>\n",
       "      <td>2020-063C</td>\n",
       "      <td>46391</td>\n",
       "    </tr>\n",
       "    <tr>\n",
       "      <th>4</th>\n",
       "      <td>1993-036BTE</td>\n",
       "      <td>DEBRIS</td>\n",
       "      <td>COSMOS 2251 DEB</td>\n",
       "      <td>CIS</td>\n",
       "      <td>1993-06-16</td>\n",
       "      <td>PKMTR</td>\n",
       "      <td>2021-03-16</td>\n",
       "      <td>91.94</td>\n",
       "      <td>74.02</td>\n",
       "      <td>380.0</td>\n",
       "      <td>359.0</td>\n",
       "      <td>SMALL</td>\n",
       "      <td>1993</td>\n",
       "      <td>BTE</td>\n",
       "      <td>Y</td>\n",
       "      <td>COSMOS 2251 DEB</td>\n",
       "      <td>1993-036BTE</td>\n",
       "      <td>38214</td>\n",
       "    </tr>\n",
       "    <tr>\n",
       "      <th>7</th>\n",
       "      <td>2018-084BK</td>\n",
       "      <td>DEBRIS</td>\n",
       "      <td>H-2A DEB</td>\n",
       "      <td>JPN</td>\n",
       "      <td>2018-10-29</td>\n",
       "      <td>TNSTA</td>\n",
       "      <td>2021-03-14</td>\n",
       "      <td>91.37</td>\n",
       "      <td>97.78</td>\n",
       "      <td>362.0</td>\n",
       "      <td>322.0</td>\n",
       "      <td>SMALL</td>\n",
       "      <td>2018</td>\n",
       "      <td>BK</td>\n",
       "      <td>Y</td>\n",
       "      <td>H-2A DEB</td>\n",
       "      <td>2018-084BK</td>\n",
       "      <td>46222</td>\n",
       "    </tr>\n",
       "    <tr>\n",
       "      <th>11</th>\n",
       "      <td>1998-067PW</td>\n",
       "      <td>PAYLOAD</td>\n",
       "      <td>DELPHINI</td>\n",
       "      <td>DEN</td>\n",
       "      <td>1998-11-20</td>\n",
       "      <td>TTMTR</td>\n",
       "      <td>2021-03-14</td>\n",
       "      <td>88.12</td>\n",
       "      <td>51.61</td>\n",
       "      <td>185.0</td>\n",
       "      <td>177.0</td>\n",
       "      <td>SMALL</td>\n",
       "      <td>1998</td>\n",
       "      <td>PW</td>\n",
       "      <td>Y</td>\n",
       "      <td>DELPHINI</td>\n",
       "      <td>1998-067PW</td>\n",
       "      <td>44030</td>\n",
       "    </tr>\n",
       "    <tr>\n",
       "      <th>12</th>\n",
       "      <td>1998-067QL</td>\n",
       "      <td>PAYLOAD</td>\n",
       "      <td>SWIATOWID</td>\n",
       "      <td>POL</td>\n",
       "      <td>1998-11-20</td>\n",
       "      <td>TTMTR</td>\n",
       "      <td>2021-03-14</td>\n",
       "      <td>88.25</td>\n",
       "      <td>51.62</td>\n",
       "      <td>192.0</td>\n",
       "      <td>183.0</td>\n",
       "      <td>SMALL</td>\n",
       "      <td>1998</td>\n",
       "      <td>QL</td>\n",
       "      <td>Y</td>\n",
       "      <td>SWIATOWID</td>\n",
       "      <td>1998-067QL</td>\n",
       "      <td>44426</td>\n",
       "    </tr>\n",
       "  </tbody>\n",
       "</table>\n",
       "</div>"
      ],
      "text/plain": [
       "        INTLDES OBJECT_TYPE          SATNAME COUNTRY      LAUNCH   SITE  \\\n",
       "1     2020-063C      DEBRIS        CZ-2F DEB     PRC  2020-09-04    JSC   \n",
       "4   1993-036BTE      DEBRIS  COSMOS 2251 DEB     CIS  1993-06-16  PKMTR   \n",
       "7    2018-084BK      DEBRIS         H-2A DEB     JPN  2018-10-29  TNSTA   \n",
       "11   1998-067PW     PAYLOAD         DELPHINI     DEN  1998-11-20  TTMTR   \n",
       "12   1998-067QL     PAYLOAD        SWIATOWID     POL  1998-11-20  TTMTR   \n",
       "\n",
       "         DECAY  PERIOD  INCLINATION  APOGEE  PERIGEE RCS_SIZE  LAUNCH_YEAR  \\\n",
       "1   2021-03-24   88.41        49.88   201.0    191.0    SMALL         2020   \n",
       "4   2021-03-16   91.94        74.02   380.0    359.0    SMALL         1993   \n",
       "7   2021-03-14   91.37        97.78   362.0    322.0    SMALL         2018   \n",
       "11  2021-03-14   88.12        51.61   185.0    177.0    SMALL         1998   \n",
       "12  2021-03-14   88.25        51.62   192.0    183.0    SMALL         1998   \n",
       "\n",
       "   LAUNCH_PIECE CURRENT      OBJECT_NAME    OBJECT_ID  OBJECT_NUMBER  \n",
       "1             C       Y        CZ-2F DEB    2020-063C          46391  \n",
       "4           BTE       Y  COSMOS 2251 DEB  1993-036BTE          38214  \n",
       "7            BK       Y         H-2A DEB   2018-084BK          46222  \n",
       "11           PW       Y         DELPHINI   1998-067PW          44030  \n",
       "12           QL       Y        SWIATOWID   1998-067QL          44426  "
      ]
     },
     "execution_count": 86,
     "metadata": {},
     "output_type": "execute_result"
    },
    {
     "data": {
      "image/png": "[encoded data removed]",
      "text/plain": [
       "<Figure size 144x144 with 1 Axes>"
      ]
     },
     "metadata": {
      "needs_background": "light"
     },
     "output_type": "display_data"
    }
   ],
   "source": [
    "resized_ds = pd.concat([small, large, med])\n",
    "resized_ds_bar = resized_ds.groupby(['RCS_SIZE'])['RCS_SIZE'].count()\n",
    "resized_ds_bar.plot(kind='bar', figsize=(2,2))\n",
    "resized_ds.head()"
   ]
  },
  {
   "cell_type": "code",
   "execution_count": 87,
   "metadata": {},
   "outputs": [],
   "source": [
    "# Lets prepare the dataset for classification\n",
    "obj_cat = df['OBJECT_TYPE']\n",
    "obj_onehot = pd.get_dummies(obj_cat)\n",
    "encoded_class = obj_onehot"
   ]
  },
  {
   "cell_type": "code",
   "execution_count": 88,
   "metadata": {},
   "outputs": [],
   "source": [
    "from sklearn.preprocessing import StandardScaler\n",
    "std_sc = StandardScaler()\n",
    "# launch = pd.to_datetime(debris_num['LAUNCH_YEAR'], format='%Y').apply(lambda x: x.toordinal())\n",
    "# decay = pd.to_datetime(df['DECAY']).apply(lambda x: x.toordinal())\n",
    "\n",
    "ap = np.array(debris_num['APOGEE']).reshape(-1,1)\n",
    "ap = std_sc.fit_transform(ap)\n",
    "pe = np.array(debris_num['PERIGEE']).reshape(-1,1)\n",
    "pe = std_sc.fit_transform(pe)\n",
    "inc = np.array(debris_num['INCLINATION']).reshape(-1,1)\n",
    "inc = std_sc.fit_transform(inc)\n",
    "per = np.array(debris_num['PERIOD']).reshape(-1,1)\n",
    "per = std_sc.fit_transform(per)\n",
    "\n",
    "# reg = len(np.concatenate([per, inc, pe, ap], axis=1))\n",
    "class_reg = pd.concat([pd.DataFrame(per, columns=['PERIOD']), pd.DataFrame(inc, columns=['INCLINATION']), \n",
    "                 pd.DataFrame(pe, columns=['PERIGEE']), pd.DataFrame(ap, columns=['APOGEE'])], axis=1)"
   ]
  },
  {
   "cell_type": "code",
   "execution_count": 89,
   "metadata": {},
   "outputs": [],
   "source": [
    "class_labels = resized_ds['RCS_SIZE']"
   ]
  },
  {
   "cell_type": "code",
   "execution_count": 90,
   "metadata": {},
   "outputs": [
    {
     "data": {
      "text/html": [
       "<div>\n",
       "<style scoped>\n",
       "    .dataframe tbody tr th:only-of-type {\n",
       "        vertical-align: middle;\n",
       "    }\n",
       "\n",
       "    .dataframe tbody tr th {\n",
       "        vertical-align: top;\n",
       "    }\n",
       "\n",
       "    .dataframe thead th {\n",
       "        text-align: right;\n",
       "    }\n",
       "</style>\n",
       "<table border=\"1\" class=\"dataframe\">\n",
       "  <thead>\n",
       "    <tr style=\"text-align: right;\">\n",
       "      <th></th>\n",
       "      <th>PERIOD</th>\n",
       "      <th>INCLINATION</th>\n",
       "      <th>PERIGEE</th>\n",
       "      <th>APOGEE</th>\n",
       "      <th>DEBRIS</th>\n",
       "      <th>PAYLOAD</th>\n",
       "      <th>ROCKET BODY</th>\n",
       "      <th>RCS_SIZE</th>\n",
       "    </tr>\n",
       "  </thead>\n",
       "  <tbody>\n",
       "    <tr>\n",
       "      <th>0</th>\n",
       "      <td>-0.152476</td>\n",
       "      <td>-0.651496</td>\n",
       "      <td>-0.263191</td>\n",
       "      <td>-0.284940</td>\n",
       "      <td>0.0</td>\n",
       "      <td>0.0</td>\n",
       "      <td>1.0</td>\n",
       "      <td>LARGE</td>\n",
       "    </tr>\n",
       "    <tr>\n",
       "      <th>1</th>\n",
       "      <td>-0.150845</td>\n",
       "      <td>-0.775362</td>\n",
       "      <td>-0.255259</td>\n",
       "      <td>-0.280926</td>\n",
       "      <td>1.0</td>\n",
       "      <td>0.0</td>\n",
       "      <td>0.0</td>\n",
       "      <td>SMALL</td>\n",
       "    </tr>\n",
       "    <tr>\n",
       "      <th>2</th>\n",
       "      <td>-0.151437</td>\n",
       "      <td>-0.654249</td>\n",
       "      <td>-0.258375</td>\n",
       "      <td>-0.282193</td>\n",
       "      <td>0.0</td>\n",
       "      <td>1.0</td>\n",
       "      <td>0.0</td>\n",
       "      <td>LARGE</td>\n",
       "    </tr>\n",
       "    <tr>\n",
       "      <th>3</th>\n",
       "      <td>-0.151480</td>\n",
       "      <td>-0.706941</td>\n",
       "      <td>-0.258375</td>\n",
       "      <td>-0.282545</td>\n",
       "      <td>1.0</td>\n",
       "      <td>0.0</td>\n",
       "      <td>0.0</td>\n",
       "      <td>MEDIUM</td>\n",
       "    </tr>\n",
       "    <tr>\n",
       "      <th>4</th>\n",
       "      <td>-0.145748</td>\n",
       "      <td>0.173886</td>\n",
       "      <td>-0.231463</td>\n",
       "      <td>-0.268321</td>\n",
       "      <td>1.0</td>\n",
       "      <td>0.0</td>\n",
       "      <td>0.0</td>\n",
       "      <td>SMALL</td>\n",
       "    </tr>\n",
       "    <tr>\n",
       "      <th>...</th>\n",
       "      <td>...</td>\n",
       "      <td>...</td>\n",
       "      <td>...</td>\n",
       "      <td>...</td>\n",
       "      <td>...</td>\n",
       "      <td>...</td>\n",
       "      <td>...</td>\n",
       "      <td>...</td>\n",
       "    </tr>\n",
       "    <tr>\n",
       "      <th>24165</th>\n",
       "      <td>-0.148304</td>\n",
       "      <td>-0.533528</td>\n",
       "      <td>-0.252851</td>\n",
       "      <td>-0.269941</td>\n",
       "      <td>1.0</td>\n",
       "      <td>0.0</td>\n",
       "      <td>0.0</td>\n",
       "      <td>MEDIUM</td>\n",
       "    </tr>\n",
       "    <tr>\n",
       "      <th>24237</th>\n",
       "      <td>-0.146961</td>\n",
       "      <td>-0.821763</td>\n",
       "      <td>-0.255259</td>\n",
       "      <td>-0.262406</td>\n",
       "      <td>0.0</td>\n",
       "      <td>1.0</td>\n",
       "      <td>0.0</td>\n",
       "      <td>MEDIUM</td>\n",
       "    </tr>\n",
       "    <tr>\n",
       "      <th>24424</th>\n",
       "      <td>-0.148895</td>\n",
       "      <td>-0.194961</td>\n",
       "      <td>-0.259933</td>\n",
       "      <td>-0.269237</td>\n",
       "      <td>0.0</td>\n",
       "      <td>0.0</td>\n",
       "      <td>1.0</td>\n",
       "      <td>MEDIUM</td>\n",
       "    </tr>\n",
       "    <tr>\n",
       "      <th>25076</th>\n",
       "      <td>0.023293</td>\n",
       "      <td>-0.178838</td>\n",
       "      <td>-0.243928</td>\n",
       "      <td>0.430633</td>\n",
       "      <td>1.0</td>\n",
       "      <td>0.0</td>\n",
       "      <td>0.0</td>\n",
       "      <td>MEDIUM</td>\n",
       "    </tr>\n",
       "    <tr>\n",
       "      <th>25181</th>\n",
       "      <td>-0.129736</td>\n",
       "      <td>1.147907</td>\n",
       "      <td>-0.163051</td>\n",
       "      <td>-0.227409</td>\n",
       "      <td>0.0</td>\n",
       "      <td>1.0</td>\n",
       "      <td>0.0</td>\n",
       "      <td>MEDIUM</td>\n",
       "    </tr>\n",
       "  </tbody>\n",
       "</table>\n",
       "<p>10872 rows × 8 columns</p>\n",
       "</div>"
      ],
      "text/plain": [
       "         PERIOD  INCLINATION   PERIGEE    APOGEE  DEBRIS  PAYLOAD  \\\n",
       "0     -0.152476    -0.651496 -0.263191 -0.284940     0.0      0.0   \n",
       "1     -0.150845    -0.775362 -0.255259 -0.280926     1.0      0.0   \n",
       "2     -0.151437    -0.654249 -0.258375 -0.282193     0.0      1.0   \n",
       "3     -0.151480    -0.706941 -0.258375 -0.282545     1.0      0.0   \n",
       "4     -0.145748     0.173886 -0.231463 -0.268321     1.0      0.0   \n",
       "...         ...          ...       ...       ...     ...      ...   \n",
       "24165 -0.148304    -0.533528 -0.252851 -0.269941     1.0      0.0   \n",
       "24237 -0.146961    -0.821763 -0.255259 -0.262406     0.0      1.0   \n",
       "24424 -0.148895    -0.194961 -0.259933 -0.269237     0.0      0.0   \n",
       "25076  0.023293    -0.178838 -0.243928  0.430633     1.0      0.0   \n",
       "25181 -0.129736     1.147907 -0.163051 -0.227409     0.0      1.0   \n",
       "\n",
       "       ROCKET BODY RCS_SIZE  \n",
       "0              1.0    LARGE  \n",
       "1              0.0    SMALL  \n",
       "2              0.0    LARGE  \n",
       "3              0.0   MEDIUM  \n",
       "4              0.0    SMALL  \n",
       "...            ...      ...  \n",
       "24165          0.0   MEDIUM  \n",
       "24237          0.0   MEDIUM  \n",
       "24424          1.0   MEDIUM  \n",
       "25076          0.0   MEDIUM  \n",
       "25181          0.0   MEDIUM  \n",
       "\n",
       "[10872 rows x 8 columns]"
      ]
     },
     "execution_count": 90,
     "metadata": {},
     "output_type": "execute_result"
    }
   ],
   "source": [
    "#Combine the categorical and numerical data and drop the NaN rows\n",
    "debris_set_cat = pd.concat([class_reg, encoded_class, class_labels], axis=1)\n",
    "debris_set_prepared_cat = debris_set_cat.dropna()\n",
    "debris_set_prepared_cat"
   ]
  },
  {
   "cell_type": "code",
   "execution_count": 91,
   "metadata": {},
   "outputs": [],
   "source": [
    "# Split the data\n",
    "from sklearn.model_selection import train_test_split\n",
    "y_class = debris_set_prepared_cat.pop('RCS_SIZE')\n",
    "x_train_class, x_test_class, y_train_class, y_test_class = train_test_split(debris_set_prepared_cat, y_class, test_size=.3, random_state=42)"
   ]
  },
  {
   "cell_type": "code",
   "execution_count": 92,
   "metadata": {},
   "outputs": [
    {
     "data": {
      "text/html": [
       "<div>\n",
       "<style scoped>\n",
       "    .dataframe tbody tr th:only-of-type {\n",
       "        vertical-align: middle;\n",
       "    }\n",
       "\n",
       "    .dataframe tbody tr th {\n",
       "        vertical-align: top;\n",
       "    }\n",
       "\n",
       "    .dataframe thead th {\n",
       "        text-align: right;\n",
       "    }\n",
       "</style>\n",
       "<table border=\"1\" class=\"dataframe\">\n",
       "  <thead>\n",
       "    <tr style=\"text-align: right;\">\n",
       "      <th></th>\n",
       "      <th>PERIOD</th>\n",
       "      <th>INCLINATION</th>\n",
       "      <th>PERIGEE</th>\n",
       "      <th>APOGEE</th>\n",
       "      <th>DEBRIS</th>\n",
       "      <th>PAYLOAD</th>\n",
       "      <th>ROCKET BODY</th>\n",
       "    </tr>\n",
       "  </thead>\n",
       "  <tbody>\n",
       "    <tr>\n",
       "      <th>8256</th>\n",
       "      <td>-0.148289</td>\n",
       "      <td>0.491612</td>\n",
       "      <td>-0.244636</td>\n",
       "      <td>-0.273884</td>\n",
       "      <td>1.0</td>\n",
       "      <td>0.0</td>\n",
       "      <td>0.0</td>\n",
       "    </tr>\n",
       "    <tr>\n",
       "      <th>630</th>\n",
       "      <td>-0.152332</td>\n",
       "      <td>0.481388</td>\n",
       "      <td>-0.263049</td>\n",
       "      <td>-0.284235</td>\n",
       "      <td>1.0</td>\n",
       "      <td>0.0</td>\n",
       "      <td>0.0</td>\n",
       "    </tr>\n",
       "    <tr>\n",
       "      <th>1322</th>\n",
       "      <td>-0.143669</td>\n",
       "      <td>-1.918078</td>\n",
       "      <td>-0.269281</td>\n",
       "      <td>-0.239591</td>\n",
       "      <td>1.0</td>\n",
       "      <td>0.0</td>\n",
       "      <td>0.0</td>\n",
       "    </tr>\n",
       "    <tr>\n",
       "      <th>13469</th>\n",
       "      <td>-0.151133</td>\n",
       "      <td>-0.745870</td>\n",
       "      <td>-0.256817</td>\n",
       "      <td>-0.281560</td>\n",
       "      <td>0.0</td>\n",
       "      <td>1.0</td>\n",
       "      <td>0.0</td>\n",
       "    </tr>\n",
       "    <tr>\n",
       "      <th>11133</th>\n",
       "      <td>-0.149964</td>\n",
       "      <td>-0.708121</td>\n",
       "      <td>-0.251010</td>\n",
       "      <td>-0.278743</td>\n",
       "      <td>0.0</td>\n",
       "      <td>1.0</td>\n",
       "      <td>0.0</td>\n",
       "    </tr>\n",
       "    <tr>\n",
       "      <th>...</th>\n",
       "      <td>...</td>\n",
       "      <td>...</td>\n",
       "      <td>...</td>\n",
       "      <td>...</td>\n",
       "      <td>...</td>\n",
       "      <td>...</td>\n",
       "      <td>...</td>\n",
       "    </tr>\n",
       "    <tr>\n",
       "      <th>7180</th>\n",
       "      <td>-0.147639</td>\n",
       "      <td>1.102686</td>\n",
       "      <td>-0.241803</td>\n",
       "      <td>-0.272194</td>\n",
       "      <td>0.0</td>\n",
       "      <td>0.0</td>\n",
       "      <td>1.0</td>\n",
       "    </tr>\n",
       "    <tr>\n",
       "      <th>5708</th>\n",
       "      <td>-0.153039</td>\n",
       "      <td>0.504196</td>\n",
       "      <td>-0.266165</td>\n",
       "      <td>-0.286207</td>\n",
       "      <td>0.0</td>\n",
       "      <td>0.0</td>\n",
       "      <td>1.0</td>\n",
       "    </tr>\n",
       "    <tr>\n",
       "      <th>6290</th>\n",
       "      <td>-0.149386</td>\n",
       "      <td>1.092462</td>\n",
       "      <td>-0.248885</td>\n",
       "      <td>-0.277053</td>\n",
       "      <td>0.0</td>\n",
       "      <td>1.0</td>\n",
       "      <td>0.0</td>\n",
       "    </tr>\n",
       "    <tr>\n",
       "      <th>899</th>\n",
       "      <td>-0.148809</td>\n",
       "      <td>0.648903</td>\n",
       "      <td>-0.246336</td>\n",
       "      <td>-0.275574</td>\n",
       "      <td>1.0</td>\n",
       "      <td>0.0</td>\n",
       "      <td>0.0</td>\n",
       "    </tr>\n",
       "    <tr>\n",
       "      <th>10510</th>\n",
       "      <td>-0.131050</td>\n",
       "      <td>1.181724</td>\n",
       "      <td>-0.197045</td>\n",
       "      <td>-0.216424</td>\n",
       "      <td>0.0</td>\n",
       "      <td>1.0</td>\n",
       "      <td>0.0</td>\n",
       "    </tr>\n",
       "  </tbody>\n",
       "</table>\n",
       "<p>7610 rows × 7 columns</p>\n",
       "</div>"
      ],
      "text/plain": [
       "         PERIOD  INCLINATION   PERIGEE    APOGEE  DEBRIS  PAYLOAD  ROCKET BODY\n",
       "8256  -0.148289     0.491612 -0.244636 -0.273884     1.0      0.0          0.0\n",
       "630   -0.152332     0.481388 -0.263049 -0.284235     1.0      0.0          0.0\n",
       "1322  -0.143669    -1.918078 -0.269281 -0.239591     1.0      0.0          0.0\n",
       "13469 -0.151133    -0.745870 -0.256817 -0.281560     0.0      1.0          0.0\n",
       "11133 -0.149964    -0.708121 -0.251010 -0.278743     0.0      1.0          0.0\n",
       "...         ...          ...       ...       ...     ...      ...          ...\n",
       "7180  -0.147639     1.102686 -0.241803 -0.272194     0.0      0.0          1.0\n",
       "5708  -0.153039     0.504196 -0.266165 -0.286207     0.0      0.0          1.0\n",
       "6290  -0.149386     1.092462 -0.248885 -0.277053     0.0      1.0          0.0\n",
       "899   -0.148809     0.648903 -0.246336 -0.275574     1.0      0.0          0.0\n",
       "10510 -0.131050     1.181724 -0.197045 -0.216424     0.0      1.0          0.0\n",
       "\n",
       "[7610 rows x 7 columns]"
      ]
     },
     "execution_count": 92,
     "metadata": {},
     "output_type": "execute_result"
    }
   ],
   "source": [
    "x_train_class"
   ]
  },
  {
   "cell_type": "code",
   "execution_count": 93,
   "metadata": {},
   "outputs": [],
   "source": [
    "# For classification, use linear SVC, K-nearest neighbors, \n",
    "# and ensample methods (Trees, etc.)\n",
    "from sklearn.svm import SVC\n",
    "from sklearn.neighbors import KNeighborsClassifier\n",
    "from sklearn.ensemble import AdaBoostClassifier\n",
    "from sklearn.ensemble import RandomForestClassifier\n",
    "from sklearn.tree import DecisionTreeClassifier\n",
    "from sklearn.metrics import accuracy_score\n",
    "from sklearn.model_selection import GridSearchCV"
   ]
  },
  {
   "cell_type": "code",
   "execution_count": 94,
   "metadata": {},
   "outputs": [
    {
     "name": "stdout",
     "output_type": "stream",
     "text": [
      "0.6177398160315375\n",
      "0.6005518087063152\n"
     ]
    }
   ],
   "source": [
    "svc = SVC(gamma='auto')\n",
    "svc.fit(x_train_class, y_train_class)\n",
    "print(svc.score(x_train_class, y_train_class))\n",
    "print(svc.score(x_test_class, y_test_class))"
   ]
  },
  {
   "cell_type": "code",
   "execution_count": 106,
   "metadata": {},
   "outputs": [
    {
     "name": "stdout",
     "output_type": "stream",
     "text": [
      "{'n_neighbors': 10}\n",
      "0.7035479632063074\n"
     ]
    },
    {
     "data": {
      "text/plain": [
       "0.6870018393623544"
      ]
     },
     "execution_count": 106,
     "metadata": {},
     "output_type": "execute_result"
    }
   ],
   "source": [
    "kneighboors = KNeighborsClassifier()\n",
    "\n",
    "# lets do a gridsearch to try different hyperparameters\n",
    "params = [\n",
    "    {'n_neighbors': [1, 3, 6, 10, 15,20]}\n",
    "]\n",
    "gscv = GridSearchCV(kneighboors, params, cv=5, return_train_score=True)\n",
    "gscv.fit(x_train_class, y_train_class)\n",
    "print(gscv.best_params_)\n",
    "print(gscv.best_score_)\n",
    "\n",
    "knclass = KNeighborsClassifier(n_neighbors=10)\n",
    "knclass.fit(x_train_class, y_train_class)\n",
    "# print(f'train: {knclass.score(x_train_class, y_train_class)}') \n",
    "knclass.score(x_test_class, y_test_class)"
   ]
  },
  {
   "cell_type": "code",
   "execution_count": 96,
   "metadata": {},
   "outputs": [
    {
     "name": "stdout",
     "output_type": "stream",
     "text": [
      "0.9773981603153745\n",
      "0.6425505824647455\n"
     ]
    }
   ],
   "source": [
    "rand_for = RandomForestClassifier(n_estimators=10)\n",
    "rand_for.fit(x_train_class, y_train_class)\n",
    "print(rand_for.score(x_train_class, y_train_class))\n",
    "print(rand_for.score(x_test_class, y_test_class))"
   ]
  },
  {
   "cell_type": "code",
   "execution_count": 97,
   "metadata": {},
   "outputs": [],
   "source": [
    "# pred_for = rand_for.predict(x_test_class)\n",
    "# accuracy_score(y_test_class, pred_for)"
   ]
  },
  {
   "cell_type": "code",
   "execution_count": 98,
   "metadata": {},
   "outputs": [
    {
     "name": "stdout",
     "output_type": "stream",
     "text": [
      "{'n_estimators': 15}\n",
      "0.6596583442838371\n"
     ]
    }
   ],
   "source": [
    "adaboost = AdaBoostClassifier(DecisionTreeClassifier(max_depth=1),n_estimators=90)\n",
    "# adaboost.fit(x_train_class, y_train_class)\n",
    "# print(adaboost.score(x_train_class, y_train_class))\n",
    "# print(adaboost.score(x_test_class, y_test_class))\n",
    "\n",
    "# lets do a gridsearch to try different hyperparameters\n",
    "params = [\n",
    "    {'n_estimators': [1, 3, 6, 10,12, 15,20, 25]}\n",
    "]\n",
    "gscv = GridSearchCV(adaboost, params, cv=5, return_train_score=True)\n",
    "gscv.fit(x_train_class, y_train_class)\n",
    "print(gscv.best_params_)\n",
    "print(gscv.best_score_)"
   ]
  },
  {
   "cell_type": "code",
   "execution_count": 99,
   "metadata": {},
   "outputs": [
    {
     "name": "stdout",
     "output_type": "stream",
     "text": [
      "{'max_features': 5, 'n_estimators': 20}\n",
      "0.6507227332457294\n"
     ]
    }
   ],
   "source": [
    "from sklearn.ensemble import BaggingClassifier\n",
    "from sklearn.metrics import accuracy_score\n",
    "bag_class = BaggingClassifier(DecisionTreeClassifier(), n_estimators=100, max_samples=100,\n",
    "                             bootstrap=True, n_jobs=1)\n",
    "# bag_class.fit(x_train_class,y_train_class)\n",
    "\n",
    "# lets do a gridsearch to try different hyperparameters\n",
    "params = [\n",
    "    {'n_estimators': [1, 3, 6, 10, 15,20], 'max_features': [1,2,3,4,5,5]},\n",
    "    {'bootstrap': [False], 'n_estimators': [1,3,6,10], 'max_features':[1,2,3]}\n",
    "]\n",
    "gscv = GridSearchCV(bag_class, params, cv=5, return_train_score=True)\n",
    "gscv.fit(x_train_class, y_train_class)\n",
    "print(gscv.best_params_)\n",
    "print(gscv.best_score_)"
   ]
  },
  {
   "cell_type": "code",
   "execution_count": 100,
   "metadata": {},
   "outputs": [
    {
     "name": "stdout",
     "output_type": "stream",
     "text": [
      "{'max_features': 3, 'n_estimators': 20}\n",
      "0.6700394218134034\n"
     ]
    }
   ],
   "source": [
    "# lets do a gridsearch to try different hyperparameters\n",
    "params = [\n",
    "    {'n_estimators': [1, 3, 6, 10, 15,20], 'max_features': [1,2,3]},\n",
    "    {'bootstrap': [False], 'n_estimators': [1,3,6,10], 'max_features':[1,2,3]}\n",
    "]\n",
    "forest_class = RandomForestClassifier()\n",
    "gscv_for = GridSearchCV(forest_class, params, cv=5, return_train_score=True)\n",
    "gscv_for.fit(x_train_class, y_train_class)\n",
    "print(gscv_for.best_params_)\n",
    "print(gscv_for.best_score_)"
   ]
  }
 ],
 "metadata": {
  "kernelspec": {
   "display_name": "Python 3",
   "language": "python",
   "name": "python3"
  },
  "language_info": {
   "codemirror_mode": {
    "name": "ipython",
    "version": 3
   },
   "file_extension": ".py",
   "mimetype": "text/x-python",
   "name": "python",
   "nbconvert_exporter": "python",
   "pygments_lexer": "ipython3",
   "version": "3.8.8"
  }
 },
 "nbformat": 4,
 "nbformat_minor": 4
}
