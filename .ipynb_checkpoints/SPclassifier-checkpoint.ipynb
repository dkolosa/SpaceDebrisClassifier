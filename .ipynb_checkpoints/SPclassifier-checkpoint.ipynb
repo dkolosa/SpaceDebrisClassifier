{
 "cells": [
  {
   "cell_type": "code",
   "execution_count": 1,
   "metadata": {
    "collapsed": false,
    "deletable": true,
    "editable": true
   },
   "outputs": [],
   "source": [
    "import pandas as pd\n",
    "import numpy as np\n",
    "from sklearn.tree import DecisionTreeClassifier, export_graphviz\n",
    "import matplotlib.pyplot as plt\n",
    "import json\n",
    "%matplotlib inline\n"
   ]
  },
  {
   "cell_type": "code",
   "execution_count": 2,
   "metadata": {
    "collapsed": false,
    "deletable": true,
    "editable": true
   },
   "outputs": [
    {
     "name": "stderr",
     "output_type": "stream",
     "text": [
      "/home/dan/anaconda3/lib/python3.6/site-packages/sklearn/cross_validation.py:44: DeprecationWarning: This module was deprecated in version 0.18 in favor of the model_selection module into which all the refactored classes and functions are moved. Also note that the interface of the new CV iterators are different from that of this module. This module will be removed in 0.20.\n",
      "  \"This module will be removed in 0.20.\", DeprecationWarning)\n"
     ]
    }
   ],
   "source": [
    "from sklearn.feature_selection import SelectKBest\n",
    "from sklearn.cross_validation import train_test_split"
   ]
  },
  {
   "cell_type": "code",
   "execution_count": 129,
   "metadata": {
    "collapsed": true
   },
   "outputs": [],
   "source": [
    "def plot_decision_regions(X, y, classifier, test_idx=None, resolution=0.02):\n",
    "\n",
    "    # Setup map and marker\n",
    "    markers = ('s', 'x', 'o', '^', 'v')\n",
    "    colors = ('red', 'blue', 'lightgreen', 'gray', 'cyan')\n",
    "    cmap = ListedColormap(colors[:len(np.unique(y))])\n",
    "\n",
    "    # plot the surface\n",
    "    x1_min, x1_max = X[:, 0].min() - 1, X[:, 0].max() + 1\n",
    "    x2_min, x2_max = X[:, 1].min() - 1, X[:, 1].max() + 1\n",
    "    xx1, xx2 = np.meshgrid(np.arange(x1_min, x1_max, resolution),\n",
    "                           np.arange(x2_min, x2_max, resolution))\n",
    "    Z = classifier.predict(np.array([xx1.ravel(), xx2.ravel()]).T)\n",
    "    Z = Z.reshape(xx1.shape)\n",
    "    plt.contourf(xx1, xx2, Z, alpha=0.4, cmap=cmap)\n",
    "    plt.xlim(xx1.min(), xx1.max())\n",
    "    plt.ylim(xx2.min(), xx2.max())\n",
    "\n",
    "    # plot all samples\n",
    "    X_test, y_test = X[test_idx, :], y[test_idx]\n",
    "    for idx, c1 in enumerate(np.unique(y)):\n",
    "        plt.scatter(x=X[y == c1, 0], y=X[y == c1, 1],\n",
    "                   alpha=0.8, c=cmap(idx),\n",
    "                   marker=markers[idx], label=c1)\n",
    "    \n",
    "    # highlight test samples\n",
    "    if test_idx:\n",
    "        X_test, y_test = X[test_idx, :], y[test_idx]\n",
    "        plt.scatter(X_test[:, 0], X_test[:, 1], c='',\n",
    "                    alpha=1.0, linewidth=1, marker='o', s=55, label='test set')"
   ]
  },
  {
   "cell_type": "code",
   "execution_count": 3,
   "metadata": {
    "collapsed": false,
    "deletable": true,
    "editable": true
   },
   "outputs": [],
   "source": [
    "dataset = pd.read_json('SatCatdata.json')"
   ]
  },
  {
   "cell_type": "code",
   "execution_count": 206,
   "metadata": {
    "collapsed": false,
    "deletable": true,
    "editable": true,
    "scrolled": true
   },
   "outputs": [
    {
     "data": {
      "text/html": [
       "<div>\n",
       "<table border=\"1\" class=\"dataframe\">\n",
       "  <thead>\n",
       "    <tr style=\"text-align: right;\">\n",
       "      <th></th>\n",
       "      <th>APOGEE</th>\n",
       "      <th>COMMENT</th>\n",
       "      <th>COMMENTCODE</th>\n",
       "      <th>COUNTRY</th>\n",
       "      <th>CURRENT</th>\n",
       "      <th>DECAY</th>\n",
       "      <th>FILE</th>\n",
       "      <th>INCLINATION</th>\n",
       "      <th>INTLDES</th>\n",
       "      <th>LAUNCH</th>\n",
       "      <th>...</th>\n",
       "      <th>OBJECT_ID</th>\n",
       "      <th>OBJECT_NAME</th>\n",
       "      <th>OBJECT_NUMBER</th>\n",
       "      <th>OBJECT_TYPE</th>\n",
       "      <th>PERIGEE</th>\n",
       "      <th>PERIOD</th>\n",
       "      <th>RCSVALUE</th>\n",
       "      <th>RCS_SIZE</th>\n",
       "      <th>SATNAME</th>\n",
       "      <th>SITE</th>\n",
       "    </tr>\n",
       "  </thead>\n",
       "  <tbody>\n",
       "    <tr>\n",
       "      <th>0</th>\n",
       "      <td>863</td>\n",
       "      <td>NaN</td>\n",
       "      <td>NaN</td>\n",
       "      <td>US</td>\n",
       "      <td>Y</td>\n",
       "      <td>NaN</td>\n",
       "      <td>6129</td>\n",
       "      <td>98.78</td>\n",
       "      <td>2000-055PV</td>\n",
       "      <td>2000-09-21</td>\n",
       "      <td>...</td>\n",
       "      <td>2000-055PV</td>\n",
       "      <td>NOAA 16 DEB</td>\n",
       "      <td>41715</td>\n",
       "      <td>DEBRIS</td>\n",
       "      <td>842</td>\n",
       "      <td>101.98</td>\n",
       "      <td>0</td>\n",
       "      <td>SMALL</td>\n",
       "      <td>NOAA 16 DEB</td>\n",
       "      <td>AFWTR</td>\n",
       "    </tr>\n",
       "    <tr>\n",
       "      <th>1</th>\n",
       "      <td>888</td>\n",
       "      <td>NaN</td>\n",
       "      <td>NaN</td>\n",
       "      <td>US</td>\n",
       "      <td>Y</td>\n",
       "      <td>NaN</td>\n",
       "      <td>6129</td>\n",
       "      <td>98.89</td>\n",
       "      <td>2000-055PS</td>\n",
       "      <td>2000-09-21</td>\n",
       "      <td>...</td>\n",
       "      <td>2000-055PS</td>\n",
       "      <td>NOAA 16 DEB</td>\n",
       "      <td>41712</td>\n",
       "      <td>DEBRIS</td>\n",
       "      <td>816</td>\n",
       "      <td>101.97</td>\n",
       "      <td>0</td>\n",
       "      <td>SMALL</td>\n",
       "      <td>NOAA 16 DEB</td>\n",
       "      <td>AFWTR</td>\n",
       "    </tr>\n",
       "    <tr>\n",
       "      <th>2</th>\n",
       "      <td>1299</td>\n",
       "      <td>NaN</td>\n",
       "      <td>NaN</td>\n",
       "      <td>US</td>\n",
       "      <td>Y</td>\n",
       "      <td>NaN</td>\n",
       "      <td>6108</td>\n",
       "      <td>90.30</td>\n",
       "      <td>1965-027M</td>\n",
       "      <td>1965-04-03</td>\n",
       "      <td>...</td>\n",
       "      <td>1965-027M</td>\n",
       "      <td>OPS 4682 DEB</td>\n",
       "      <td>14515</td>\n",
       "      <td>DEBRIS</td>\n",
       "      <td>1255</td>\n",
       "      <td>111.09</td>\n",
       "      <td>0</td>\n",
       "      <td>SMALL</td>\n",
       "      <td>OPS 4682 DEB</td>\n",
       "      <td>AFWTR</td>\n",
       "    </tr>\n",
       "    <tr>\n",
       "      <th>3</th>\n",
       "      <td>607</td>\n",
       "      <td>NaN</td>\n",
       "      <td>NaN</td>\n",
       "      <td>US</td>\n",
       "      <td>Y</td>\n",
       "      <td>NaN</td>\n",
       "      <td>6123</td>\n",
       "      <td>98.12</td>\n",
       "      <td>1978-026JD</td>\n",
       "      <td>1978-03-05</td>\n",
       "      <td>...</td>\n",
       "      <td>1978-026JD</td>\n",
       "      <td>DELTA 1 DEB</td>\n",
       "      <td>37642</td>\n",
       "      <td>DEBRIS</td>\n",
       "      <td>555</td>\n",
       "      <td>96.29</td>\n",
       "      <td>0</td>\n",
       "      <td>SMALL</td>\n",
       "      <td>DELTA 1 DEB</td>\n",
       "      <td>AFWTR</td>\n",
       "    </tr>\n",
       "    <tr>\n",
       "      <th>4</th>\n",
       "      <td>2086</td>\n",
       "      <td>NaN</td>\n",
       "      <td>NaN</td>\n",
       "      <td>US</td>\n",
       "      <td>Y</td>\n",
       "      <td>NaN</td>\n",
       "      <td>6113</td>\n",
       "      <td>65.70</td>\n",
       "      <td>1961-015LW</td>\n",
       "      <td>1961-06-29</td>\n",
       "      <td>...</td>\n",
       "      <td>1961-015LW</td>\n",
       "      <td>THOR ABLESTAR DEB *</td>\n",
       "      <td>18651</td>\n",
       "      <td>DEBRIS</td>\n",
       "      <td>925</td>\n",
       "      <td>116.10</td>\n",
       "      <td>0</td>\n",
       "      <td>SMALL</td>\n",
       "      <td>THOR ABLESTAR DEB *</td>\n",
       "      <td>AFETR</td>\n",
       "    </tr>\n",
       "  </tbody>\n",
       "</table>\n",
       "<p>5 rows × 24 columns</p>\n",
       "</div>"
      ],
      "text/plain": [
       "   APOGEE  COMMENT  COMMENTCODE COUNTRY CURRENT  DECAY  FILE  INCLINATION  \\\n",
       "0     863      NaN          NaN      US       Y    NaN  6129        98.78   \n",
       "1     888      NaN          NaN      US       Y    NaN  6129        98.89   \n",
       "2    1299      NaN          NaN      US       Y    NaN  6108        90.30   \n",
       "3     607      NaN          NaN      US       Y    NaN  6123        98.12   \n",
       "4    2086      NaN          NaN      US       Y    NaN  6113        65.70   \n",
       "\n",
       "      INTLDES      LAUNCH  ...     OBJECT_ID          OBJECT_NAME  \\\n",
       "0  2000-055PV  2000-09-21  ...    2000-055PV          NOAA 16 DEB   \n",
       "1  2000-055PS  2000-09-21  ...    2000-055PS          NOAA 16 DEB   \n",
       "2   1965-027M  1965-04-03  ...     1965-027M         OPS 4682 DEB   \n",
       "3  1978-026JD  1978-03-05  ...    1978-026JD          DELTA 1 DEB   \n",
       "4  1961-015LW  1961-06-29  ...    1961-015LW  THOR ABLESTAR DEB *   \n",
       "\n",
       "   OBJECT_NUMBER  OBJECT_TYPE PERIGEE  PERIOD  RCSVALUE RCS_SIZE  \\\n",
       "0          41715       DEBRIS     842  101.98         0    SMALL   \n",
       "1          41712       DEBRIS     816  101.97         0    SMALL   \n",
       "2          14515       DEBRIS    1255  111.09         0    SMALL   \n",
       "3          37642       DEBRIS     555   96.29         0    SMALL   \n",
       "4          18651       DEBRIS     925  116.10         0    SMALL   \n",
       "\n",
       "               SATNAME   SITE  \n",
       "0          NOAA 16 DEB  AFWTR  \n",
       "1          NOAA 16 DEB  AFWTR  \n",
       "2         OPS 4682 DEB  AFWTR  \n",
       "3          DELTA 1 DEB  AFWTR  \n",
       "4  THOR ABLESTAR DEB *  AFETR  \n",
       "\n",
       "[5 rows x 24 columns]"
      ]
     },
     "execution_count": 206,
     "metadata": {},
     "output_type": "execute_result"
    }
   ],
   "source": [
    "dataset.head()"
   ]
  },
  {
   "cell_type": "code",
   "execution_count": 207,
   "metadata": {
    "collapsed": false,
    "deletable": true,
    "editable": true
   },
   "outputs": [
    {
     "data": {
      "text/plain": [
       "Index(['APOGEE', 'COMMENT', 'COMMENTCODE', 'COUNTRY', 'CURRENT', 'DECAY',\n",
       "       'FILE', 'INCLINATION', 'INTLDES', 'LAUNCH', 'LAUNCH_NUM',\n",
       "       'LAUNCH_PIECE', 'LAUNCH_YEAR', 'NORAD_CAT_ID', 'OBJECT_ID',\n",
       "       'OBJECT_NAME', 'OBJECT_NUMBER', 'OBJECT_TYPE', 'PERIGEE', 'PERIOD',\n",
       "       'RCSVALUE', 'RCS_SIZE', 'SATNAME', 'SITE'],\n",
       "      dtype='object')"
      ]
     },
     "execution_count": 207,
     "metadata": {},
     "output_type": "execute_result"
    }
   ],
   "source": [
    "# dataset.drop(['COMMENT'], axis=1)\n",
    "# dataset.drop(['COMMENTCODE'], axis=1)\n",
    "dataset.columns"
   ]
  },
  {
   "cell_type": "code",
   "execution_count": 6,
   "metadata": {
    "collapsed": false,
    "deletable": true,
    "editable": true
   },
   "outputs": [],
   "source": [
    "array = dataset.values"
   ]
  },
  {
   "cell_type": "code",
   "execution_count": 7,
   "metadata": {
    "collapsed": false,
    "deletable": true,
    "editable": true
   },
   "outputs": [],
   "source": [
    "countries = dataset.COUNTRY\n",
    "object_type = dataset.OBJECT_TYPE\n",
    "radar_cross_section = dataset.RCS_SIZE    # small < .1m^2, medium .1 - 1 m^2, large > 1m^2\n",
    "apogee = dataset.APOGEE     # km\n",
    "perigee = dataset.PERIGEE  # km\n",
    "period = dataset.PERIOD    # minutes\n",
    "mu = 398600"
   ]
  },
  {
   "cell_type": "code",
   "execution_count": 8,
   "metadata": {
    "collapsed": false,
    "deletable": true,
    "editable": true
   },
   "outputs": [],
   "source": [
    "# Computue the semi-major axis\n",
    "a = (apogee + perigee)/2.00\n",
    "v_mean = (np.divide(2*np.pi*a,period*60,  out=np.zeros_like(a), where=a!=0)).reshape(-1,1) # km/s"
   ]
  },
  {
   "cell_type": "code",
   "execution_count": 137,
   "metadata": {
    "collapsed": false,
    "deletable": true,
    "editable": true
   },
   "outputs": [
    {
     "data": {
      "text/plain": [
       "<matplotlib.collections.PathCollection at 0x7fc5c5e5f438>"
      ]
     },
     "execution_count": 137,
     "metadata": {},
     "output_type": "execute_result"
    },
    {
     "data": {
      "image/png": "[encoded data removed]",
      "text/plain": [
       "<matplotlib.figure.Figure at 0x7fc5c5e69390>"
      ]
     },
     "metadata": {},
     "output_type": "display_data"
    }
   ],
   "source": [
    "plt.scatter(a,v_mean)"
   ]
  },
  {
   "cell_type": "code",
   "execution_count": 134,
   "metadata": {
    "collapsed": false
   },
   "outputs": [
    {
     "data": {
      "text/plain": [
       "array([ 0.87540293])"
      ]
     },
     "execution_count": 134,
     "metadata": {},
     "output_type": "execute_result"
    }
   ],
   "source": [
    "v_mean[0]"
   ]
  },
  {
   "cell_type": "code",
   "execution_count": 10,
   "metadata": {
    "collapsed": true,
    "deletable": true,
    "editable": true
   },
   "outputs": [
    {
     "data": {
      "image/png": "[encoded data removed]",
      "text/plain": [
       "<matplotlib.figure.Figure at 0x7fc5c613d908>"
      ]
     },
     "metadata": {},
     "output_type": "display_data"
    }
   ],
   "source": [
    "dfcountry = dataset.groupby(['COUNTRY'])['COUNTRY'].count()\n",
    "dfcountry.plot(kind='bar')\n",
    "plt.rcParams['figure.figsize'] = (10, 10)"
   ]
  },
  {
   "cell_type": "code",
   "execution_count": 11,
   "metadata": {
    "collapsed": true,
    "deletable": true,
    "editable": true
   },
   "outputs": [
    {
     "data": {
      "text/plain": [
       "<matplotlib.axes._subplots.AxesSubplot at 0x7fc5c60eabe0>"
      ]
     },
     "execution_count": 11,
     "metadata": {},
     "output_type": "execute_result"
    },
    {
     "data": {
      "image/png": "[encoded data removed]",
      "text/plain": [
       "<matplotlib.figure.Figure at 0x7fc5c607f1d0>"
      ]
     },
     "metadata": {},
     "output_type": "display_data"
    }
   ],
   "source": [
    "dfobjects = dataset.groupby(['OBJECT_TYPE'])['OBJECT_TYPE'].count()\n",
    "dfobjects.plot(kind='bar')"
   ]
  },
  {
   "cell_type": "code",
   "execution_count": 12,
   "metadata": {
    "collapsed": true,
    "deletable": true,
    "editable": true
   },
   "outputs": [
    {
     "data": {
      "text/plain": [
       "<matplotlib.axes._subplots.AxesSubplot at 0x7fc5c607b5c0>"
      ]
     },
     "execution_count": 12,
     "metadata": {},
     "output_type": "execute_result"
    },
    {
     "data": {
      "image/png": "[encoded data removed]",
      "text/plain": [
       "<matplotlib.figure.Figure at 0x7fc5c6078dd8>"
      ]
     },
     "metadata": {},
     "output_type": "display_data"
    }
   ],
   "source": [
    "dfobjects = dataset.groupby(['RCS_SIZE'])['RCS_SIZE'].count()\n",
    "dfobjects.plot(kind='bar')"
   ]
  },
  {
   "cell_type": "code",
   "execution_count": 13,
   "metadata": {
    "collapsed": true,
    "deletable": true,
    "editable": true
   },
   "outputs": [
    {
     "data": {
      "text/plain": [
       "<matplotlib.axes._subplots.AxesSubplot at 0x7fc5c60355c0>"
      ]
     },
     "execution_count": 13,
     "metadata": {},
     "output_type": "execute_result"
    },
    {
     "data": {
      "image/png": "[encoded data removed]",
      "text/plain": [
       "<matplotlib.figure.Figure at 0x7fc5c60523c8>"
      ]
     },
     "metadata": {},
     "output_type": "display_data"
    }
   ],
   "source": [
    "dfobjects = dataset.groupby(['LAUNCH_YEAR'])['LAUNCH_YEAR'].count()\n",
    "dfobjects.plot(kind='bar')\n"
   ]
  },
  {
   "cell_type": "code",
   "execution_count": 14,
   "metadata": {
    "collapsed": false,
    "deletable": true,
    "editable": true
   },
   "outputs": [
    {
     "data": {
      "text/plain": [
       "(13299, 1)"
      ]
     },
     "execution_count": 14,
     "metadata": {},
     "output_type": "execute_result"
    }
   ],
   "source": [
    "v_mean.shape"
   ]
  },
  {
   "cell_type": "code",
   "execution_count": 320,
   "metadata": {
    "collapsed": false,
    "deletable": true,
    "editable": true
   },
   "outputs": [
    {
     "data": {
      "text/html": [
       "<div>\n",
       "<table border=\"1\" class=\"dataframe\">\n",
       "  <thead>\n",
       "    <tr style=\"text-align: right;\">\n",
       "      <th></th>\n",
       "      <th>orbit_speed</th>\n",
       "    </tr>\n",
       "  </thead>\n",
       "  <tbody>\n",
       "    <tr>\n",
       "      <th>0</th>\n",
       "      <td>-0.206846</td>\n",
       "    </tr>\n",
       "    <tr>\n",
       "      <th>1</th>\n",
       "      <td>-0.208716</td>\n",
       "    </tr>\n",
       "    <tr>\n",
       "      <th>2</th>\n",
       "      <td>1.229189</td>\n",
       "    </tr>\n",
       "    <tr>\n",
       "      <th>3</th>\n",
       "      <td>-1.271896</td>\n",
       "    </tr>\n",
       "    <tr>\n",
       "      <th>4</th>\n",
       "      <td>1.903349</td>\n",
       "    </tr>\n",
       "  </tbody>\n",
       "</table>\n",
       "</div>"
      ],
      "text/plain": [
       "   orbit_speed\n",
       "0    -0.206846\n",
       "1    -0.208716\n",
       "2     1.229189\n",
       "3    -1.271896\n",
       "4     1.903349"
      ]
     },
     "execution_count": 320,
     "metadata": {},
     "output_type": "execute_result"
    }
   ],
   "source": [
    "from sklearn.preprocessing import StandardScaler\n",
    "orbit_speed = pd.DataFrame(v_mean)\n",
    "semimajor_axis = pd.DataFrame(a)\n",
    "semimajor_axis.columns=['semimajor_axis']\n",
    "orbit_speed.columns=['orbit_speed']\n",
    "# Standardize data\n",
    "\n",
    "orbit_speed.head()"
   ]
  },
  {
   "cell_type": "code",
   "execution_count": 321,
   "metadata": {
    "collapsed": false,
    "deletable": true,
    "editable": true
   },
   "outputs": [
    {
     "data": {
      "text/html": [
       "<div>\n",
       "<table border=\"1\" class=\"dataframe\">\n",
       "  <thead>\n",
       "    <tr style=\"text-align: right;\">\n",
       "      <th></th>\n",
       "      <th>RCS_SIZE</th>\n",
       "      <th>orbit_speed</th>\n",
       "    </tr>\n",
       "  </thead>\n",
       "  <tbody>\n",
       "    <tr>\n",
       "      <th>0</th>\n",
       "      <td>SMALL</td>\n",
       "      <td>-0.206846</td>\n",
       "    </tr>\n",
       "    <tr>\n",
       "      <th>1</th>\n",
       "      <td>SMALL</td>\n",
       "      <td>-0.208716</td>\n",
       "    </tr>\n",
       "    <tr>\n",
       "      <th>2</th>\n",
       "      <td>SMALL</td>\n",
       "      <td>1.229189</td>\n",
       "    </tr>\n",
       "    <tr>\n",
       "      <th>3</th>\n",
       "      <td>SMALL</td>\n",
       "      <td>-1.271896</td>\n",
       "    </tr>\n",
       "    <tr>\n",
       "      <th>4</th>\n",
       "      <td>SMALL</td>\n",
       "      <td>1.903349</td>\n",
       "    </tr>\n",
       "  </tbody>\n",
       "</table>\n",
       "</div>"
      ],
      "text/plain": [
       "  RCS_SIZE  orbit_speed\n",
       "0    SMALL    -0.206846\n",
       "1    SMALL    -0.208716\n",
       "2    SMALL     1.229189\n",
       "3    SMALL    -1.271896\n",
       "4    SMALL     1.903349"
      ]
     },
     "execution_count": 321,
     "metadata": {},
     "output_type": "execute_result"
    }
   ],
   "source": [
    "# get the data  for the RCS, mean orbit speed\n",
    "# clus_data = pd.concat([dataset.RCS_SIZE,dataset.OBJECT_TYPE, orbit_speed], axis=1\n",
    "# clus_data = pd.concat([dataset.RCS_SIZE,dataset.INCLINATION, orbit_speed], axis=1)\n",
    "\n",
    "clus_data = pd.concat([dataset.RCS_SIZE, orbit_speed], axis=1)\n",
    "\n",
    "clus_data.head()\n"
   ]
  },
  {
   "cell_type": "code",
   "execution_count": 322,
   "metadata": {
    "collapsed": false,
    "scrolled": true
   },
   "outputs": [
    {
     "data": {
      "text/html": [
       "<div>\n",
       "<table border=\"1\" class=\"dataframe\">\n",
       "  <thead>\n",
       "    <tr style=\"text-align: right;\">\n",
       "      <th></th>\n",
       "      <th>OBJECT_TYPE_DEBRIS</th>\n",
       "      <th>OBJECT_TYPE_PAYLOAD</th>\n",
       "      <th>OBJECT_TYPE_ROCKET BODY</th>\n",
       "      <th>OBJECT_TYPE_TBA</th>\n",
       "      <th>RCS_SIZE_LARGE</th>\n",
       "      <th>RCS_SIZE_MEDIUM</th>\n",
       "      <th>RCS_SIZE_SMALL</th>\n",
       "    </tr>\n",
       "  </thead>\n",
       "  <tbody>\n",
       "    <tr>\n",
       "      <th>0</th>\n",
       "      <td>1</td>\n",
       "      <td>0</td>\n",
       "      <td>0</td>\n",
       "      <td>0</td>\n",
       "      <td>0</td>\n",
       "      <td>0</td>\n",
       "      <td>1</td>\n",
       "    </tr>\n",
       "    <tr>\n",
       "      <th>1</th>\n",
       "      <td>1</td>\n",
       "      <td>0</td>\n",
       "      <td>0</td>\n",
       "      <td>0</td>\n",
       "      <td>0</td>\n",
       "      <td>0</td>\n",
       "      <td>1</td>\n",
       "    </tr>\n",
       "    <tr>\n",
       "      <th>2</th>\n",
       "      <td>1</td>\n",
       "      <td>0</td>\n",
       "      <td>0</td>\n",
       "      <td>0</td>\n",
       "      <td>0</td>\n",
       "      <td>0</td>\n",
       "      <td>1</td>\n",
       "    </tr>\n",
       "    <tr>\n",
       "      <th>3</th>\n",
       "      <td>1</td>\n",
       "      <td>0</td>\n",
       "      <td>0</td>\n",
       "      <td>0</td>\n",
       "      <td>0</td>\n",
       "      <td>0</td>\n",
       "      <td>1</td>\n",
       "    </tr>\n",
       "    <tr>\n",
       "      <th>4</th>\n",
       "      <td>1</td>\n",
       "      <td>0</td>\n",
       "      <td>0</td>\n",
       "      <td>0</td>\n",
       "      <td>0</td>\n",
       "      <td>0</td>\n",
       "      <td>1</td>\n",
       "    </tr>\n",
       "  </tbody>\n",
       "</table>\n",
       "</div>"
      ],
      "text/plain": [
       "   OBJECT_TYPE_DEBRIS  OBJECT_TYPE_PAYLOAD  OBJECT_TYPE_ROCKET BODY  \\\n",
       "0                   1                    0                        0   \n",
       "1                   1                    0                        0   \n",
       "2                   1                    0                        0   \n",
       "3                   1                    0                        0   \n",
       "4                   1                    0                        0   \n",
       "\n",
       "   OBJECT_TYPE_TBA  RCS_SIZE_LARGE  RCS_SIZE_MEDIUM  RCS_SIZE_SMALL  \n",
       "0                0               0                0               1  \n",
       "1                0               0                0               1  \n",
       "2                0               0                0               1  \n",
       "3                0               0                0               1  \n",
       "4                0               0                0               1  "
      ]
     },
     "execution_count": 322,
     "metadata": {},
     "output_type": "execute_result"
    }
   ],
   "source": [
    "obj_labl = pd.get_dummies(dataset[['OBJECT_TYPE', 'RCS_SIZE']])\n",
    "\n",
    "obj_labl.head()"
   ]
  },
  {
   "cell_type": "code",
   "execution_count": 323,
   "metadata": {
    "collapsed": true
   },
   "outputs": [],
   "source": [
    "# Use k-means clustering to cluster the dataset\n",
    "from sklearn import cluster"
   ]
  },
  {
   "cell_type": "code",
   "execution_count": 324,
   "metadata": {
    "collapsed": false
   },
   "outputs": [
    {
     "data": {
      "image/png": "[encoded data removed]",
      "text/plain": [
       "<matplotlib.figure.Figure at 0x7fc5c3bbacf8>"
      ]
     },
     "metadata": {},
     "output_type": "display_data"
    }
   ],
   "source": [
    "# Find where the number of clusters improve\n",
    "distortions_obj = []\n",
    "for i in range(1,21):\n",
    "    km = cluster.KMeans(n_clusters=i, init='k-means++', n_init=10, max_iter=300, random_state=0, n_jobs=-1)\n",
    "    km.fit(obj_labl)\n",
    "    distortions_obj.append(km.inertia_)\n",
    "plt.plot(range(1,21), distortions_obj, marker='o')\n",
    "plt.xlabel('Clusters')\n",
    "plt.ylabel('Dislocations')\n",
    "plt.show()"
   ]
  },
  {
   "cell_type": "code",
   "execution_count": 325,
   "metadata": {
    "collapsed": false
   },
   "outputs": [
    {
     "data": {
      "image/png": "[encoded data removed]",
      "text/plain": [
       "<matplotlib.figure.Figure at 0x7fc5c5c6c748>"
      ]
     },
     "metadata": {},
     "output_type": "display_data"
    }
   ],
   "source": [
    "# create a sillouite plot\n",
    "km = cluster.KMeans(n_clusters=5, init='k-means++', n_init=10, max_iter=500, random_state=0, n_jobs=-1)\n",
    "y_km = km.fit_predict(obj_labl)\n",
    "\n",
    "from matplotlib import cm\n",
    "from sklearn.metrics import silhouette_samples\n",
    "cluster_labels = np.unique(y_km)\n",
    "n_clusters = cluster_labels.shape[0]\n",
    "silhouette_vals = silhouette_samples(labl_data, y_km, metric='euclidean')\n",
    "\n",
    "y_ax_low, y_ax_up = 0, 0\n",
    "y_ticks = []\n",
    "for i, c in enumerate(cluster_labels):\n",
    "    c_silhouette_vals = silhouette_vals[y_km == c]\n",
    "    c_silhouette_vals.sort()\n",
    "    y_ax_up += len(c_silhouette_vals)\n",
    "    color = cm.jet(i / n_clusters)\n",
    "    plt.barh(range(y_ax_low, y_ax_up), c_silhouette_vals, height=1.0, edgecolor='none', color=color)\n",
    "    y_ticks.append((y_ax_low + y_ax_up) / 2) \n",
    "    y_ax_low += len(c_silhouette_vals)\n",
    "silhouette_avg = np.mean(silhouette_vals)\n",
    "plt.axvline(silhouette_avg, color='red', linestyle=\"--\")\n",
    "plt.yticks(y_ticks, cluster_labels + 1)\n",
    "plt.ylabel('Cluster')\n",
    "plt.xlabel('Silhouette coefficient')\n",
    "plt.show()"
   ]
  },
  {
   "cell_type": "code",
   "execution_count": 326,
   "metadata": {
    "collapsed": false,
    "deletable": true,
    "editable": true
   },
   "outputs": [
    {
     "data": {
      "text/html": [
       "<div>\n",
       "<table border=\"1\" class=\"dataframe\">\n",
       "  <thead>\n",
       "    <tr style=\"text-align: right;\">\n",
       "      <th></th>\n",
       "      <th>orbit_speed</th>\n",
       "      <th>RCS_SIZE_LARGE</th>\n",
       "      <th>RCS_SIZE_MEDIUM</th>\n",
       "      <th>RCS_SIZE_SMALL</th>\n",
       "    </tr>\n",
       "  </thead>\n",
       "  <tbody>\n",
       "    <tr>\n",
       "      <th>0</th>\n",
       "      <td>-0.206846</td>\n",
       "      <td>0</td>\n",
       "      <td>0</td>\n",
       "      <td>1</td>\n",
       "    </tr>\n",
       "    <tr>\n",
       "      <th>1</th>\n",
       "      <td>-0.208716</td>\n",
       "      <td>0</td>\n",
       "      <td>0</td>\n",
       "      <td>1</td>\n",
       "    </tr>\n",
       "    <tr>\n",
       "      <th>2</th>\n",
       "      <td>1.229189</td>\n",
       "      <td>0</td>\n",
       "      <td>0</td>\n",
       "      <td>1</td>\n",
       "    </tr>\n",
       "    <tr>\n",
       "      <th>3</th>\n",
       "      <td>-1.271896</td>\n",
       "      <td>0</td>\n",
       "      <td>0</td>\n",
       "      <td>1</td>\n",
       "    </tr>\n",
       "    <tr>\n",
       "      <th>4</th>\n",
       "      <td>1.903349</td>\n",
       "      <td>0</td>\n",
       "      <td>0</td>\n",
       "      <td>1</td>\n",
       "    </tr>\n",
       "  </tbody>\n",
       "</table>\n",
       "</div>"
      ],
      "text/plain": [
       "   orbit_speed  RCS_SIZE_LARGE  RCS_SIZE_MEDIUM  RCS_SIZE_SMALL\n",
       "0    -0.206846               0                0               1\n",
       "1    -0.208716               0                0               1\n",
       "2     1.229189               0                0               1\n",
       "3    -1.271896               0                0               1\n",
       "4     1.903349               0                0               1"
      ]
     },
     "execution_count": 326,
     "metadata": {},
     "output_type": "execute_result"
    }
   ],
   "source": [
    "# Split into training and test data\n",
    "# X = dataset.RCS_SIZE\n",
    "\n",
    "# labl_data = pd.get_dummies(clus_data[['RCS_SIZE', 'orbit_speed']])\n",
    "labl_data = pd.get_dummies(clus_data[['RCS_SIZE','orbit_speed']])\n",
    "\n",
    "# Y = orbit_speed\n",
    "labl_data.head()"
   ]
  },
  {
   "cell_type": "code",
   "execution_count": null,
   "metadata": {
    "collapsed": false,
    "deletable": true,
    "editable": true
   },
   "outputs": [],
   "source": []
  },
  {
   "cell_type": "code",
   "execution_count": 329,
   "metadata": {
    "collapsed": false,
    "deletable": true,
    "editable": true
   },
   "outputs": [],
   "source": [
    "# Train the dataset using k-means\n",
    "k_means = cluster.KMeans(n_clusters=3, random_state=0, n_jobs=-1, n_init=10, max_iter=500)\n",
    "y_km = k_means.fit_predict(labl_data)\n"
   ]
  },
  {
   "cell_type": "code",
   "execution_count": 330,
   "metadata": {
    "collapsed": false,
    "scrolled": true
   },
   "outputs": [],
   "source": [
    "# plt.scatter(labl_data[y_km==0,0], labl_data[y_km==0,1], \n",
    "#            s=50, c='lightgreen', marker='s', label='cluster 1')\n",
    "# plt.scatter(labl_data[y_km==1,0], labl_data[y_km==1,1], \n",
    "#            s=50, c='lightblue', marker='o', label='cluster 1')\n",
    "# plt.scatter(labl_data[y_km==2,0], labl_data[y_km==2,1], \n",
    "#            s=50, c='orange', marker='v', label='cluster 1')\n",
    "# plt.scatter(k_means.cluster_centers_[:,0], k_means.cluster_centers_[:,1],\n",
    "#             s=50, marker='*', c='red', label='centroids')\n",
    "# plt.legend()\n",
    "# plt.grid()\n",
    "# plt.show()"
   ]
  },
  {
   "cell_type": "code",
   "execution_count": 331,
   "metadata": {
    "collapsed": false,
    "scrolled": true
   },
   "outputs": [
    {
     "data": {
      "image/png": "[encoded data removed]",
      "text/plain": [
       "<matplotlib.figure.Figure at 0x7fc5c5e4b630>"
      ]
     },
     "metadata": {},
     "output_type": "display_data"
    }
   ],
   "source": [
    "# Find where the number of clusters improve\n",
    "distortions = []\n",
    "for i in range(1,16):\n",
    "    km = cluster.KMeans(n_clusters=i, init='k-means++', n_init=10, max_iter=300, random_state=0, n_jobs=-1)\n",
    "    km.fit(labl_data)\n",
    "    distortions.append(km.inertia_)\n",
    "plt.plot(range(1,16), distortions, marker='o')\n",
    "plt.xlabel('Clusters')\n",
    "plt.ylabel('Dislocations')\n",
    "plt.title('Dislocation for object size and orbit speed')\n",
    "plt.show()"
   ]
  },
  {
   "cell_type": "code",
   "execution_count": 332,
   "metadata": {
    "collapsed": false,
    "scrolled": true
   },
   "outputs": [
    {
     "data": {
      "image/png": "[encoded data removed]",
      "text/plain": [
       "<matplotlib.figure.Figure at 0x7fc5c5e40da0>"
      ]
     },
     "metadata": {},
     "output_type": "display_data"
    }
   ],
   "source": [
    "# create a sillouite plot\n",
    "km = cluster.KMeans(n_clusters=3, init='k-means++', n_init=10, max_iter=500, random_state=0, n_jobs=-1)\n",
    "y_km = km.fit_predict(labl_data)\n",
    "\n",
    "from matplotlib import cm\n",
    "from sklearn.metrics import silhouette_samples\n",
    "cluster_labels = np.unique(y_km)\n",
    "n_clusters = cluster_labels.shape[0]\n",
    "silhouette_vals = silhouette_samples(labl_data, y_km, metric='euclidean')\n",
    "\n",
    "y_ax_low, y_ax_up = 0, 0\n",
    "y_ticks = []\n",
    "for i, c in enumerate(cluster_labels):\n",
    "    c_silhouette_vals = silhouette_vals[y_km == c]\n",
    "    c_silhouette_vals.sort()\n",
    "    y_ax_up += len(c_silhouette_vals)\n",
    "    color = cm.jet(i / n_clusters)\n",
    "    plt.barh(range(y_ax_low, y_ax_up), c_silhouette_vals, height=1.0, edgecolor='none', color=color)\n",
    "    y_ticks.append((y_ax_low + y_ax_up) / 2) \n",
    "    y_ax_low += len(c_silhouette_vals)\n",
    "silhouette_avg = np.mean(silhouette_vals)\n",
    "plt.axvline(silhouette_avg, color='red', linestyle=\"--\")\n",
    "plt.yticks(y_ticks, cluster_labels + 1)\n",
    "plt.ylabel('Cluster')\n",
    "plt.xlabel('Silhouette coefficient')\n",
    "plt.show()"
   ]
  },
  {
   "cell_type": "code",
   "execution_count": 333,
   "metadata": {
    "collapsed": false,
    "scrolled": true
   },
   "outputs": [
    {
     "ename": "TypeError",
     "evalue": "scatter() missing 1 required positional argument: 'y'",
     "output_type": "error",
     "traceback": [
      "\u001b[0;31m---------------------------------------------------------------------------\u001b[0m",
      "\u001b[0;31mTypeError\u001b[0m                                 Traceback (most recent call last)",
      "\u001b[0;32m<ipython-input-333-f2543084f2ef>\u001b[0m in \u001b[0;36m<module>\u001b[0;34m()\u001b[0m\n\u001b[1;32m      1\u001b[0m \u001b[0mcentroids\u001b[0m \u001b[0;34m=\u001b[0m \u001b[0mk_means\u001b[0m\u001b[0;34m.\u001b[0m\u001b[0mcluster_centers_\u001b[0m\u001b[0;34m\u001b[0m\u001b[0m\n\u001b[1;32m      2\u001b[0m \u001b[0mplt\u001b[0m\u001b[0;34m.\u001b[0m\u001b[0mscatter\u001b[0m\u001b[0;34m(\u001b[0m\u001b[0mcentroids\u001b[0m\u001b[0;34m[\u001b[0m\u001b[0;34m:\u001b[0m\u001b[0;34m,\u001b[0m \u001b[0;36m0\u001b[0m\u001b[0;34m]\u001b[0m\u001b[0;34m,\u001b[0m \u001b[0mcentroids\u001b[0m\u001b[0;34m[\u001b[0m\u001b[0;34m:\u001b[0m\u001b[0;34m,\u001b[0m\u001b[0;36m1\u001b[0m\u001b[0;34m]\u001b[0m\u001b[0;34m,\u001b[0m \u001b[0mmarker\u001b[0m\u001b[0;34m=\u001b[0m\u001b[0;34m'x'\u001b[0m \u001b[0;34m)\u001b[0m\u001b[0;34m\u001b[0m\u001b[0m\n\u001b[0;32m----> 3\u001b[0;31m \u001b[0mplt\u001b[0m\u001b[0;34m.\u001b[0m\u001b[0mscatter\u001b[0m\u001b[0;34m(\u001b[0m\u001b[0my_km\u001b[0m\u001b[0;34m[\u001b[0m\u001b[0;36m0\u001b[0m\u001b[0;34m]\u001b[0m\u001b[0;34m)\u001b[0m\u001b[0;34m\u001b[0m\u001b[0m\n\u001b[0m\u001b[1;32m      4\u001b[0m \u001b[0mplt\u001b[0m\u001b[0;34m.\u001b[0m\u001b[0mshow\u001b[0m\u001b[0;34m(\u001b[0m\u001b[0;34m)\u001b[0m\u001b[0;34m\u001b[0m\u001b[0m\n",
      "\u001b[0;31mTypeError\u001b[0m: scatter() missing 1 required positional argument: 'y'"
     ]
    },
    {
     "data": {
      "image/png": "[encoded data removed]",
      "text/plain": [
       "<matplotlib.figure.Figure at 0x7fc5c5e4b320>"
      ]
     },
     "metadata": {},
     "output_type": "display_data"
    }
   ],
   "source": [
    "centroids = k_means.cluster_centers_\n",
    "plt.scatter(centroids[:, 0], centroids[:,1], marker='x' )\n",
    "plt.scatter(y_km[0])\n",
    "plt.show()"
   ]
  },
  {
   "cell_type": "code",
   "execution_count": null,
   "metadata": {
    "collapsed": false
   },
   "outputs": [],
   "source": []
  },
  {
   "cell_type": "code",
   "execution_count": null,
   "metadata": {
    "collapsed": false
   },
   "outputs": [],
   "source": [
    "# # assignment, cdist = cluster.vq.vq(X_train, Y_train)\n",
    "# pyplot.scatter(X_train['SMALL'], Y_train)\n",
    "# pyplot.scatter(Y_train, X_train['MEDIUM'])\n",
    "# pyplot.scatter(X_train['LARGE'], Y_train)\n",
    "# pyplot.show()"
   ]
  },
  {
   "cell_type": "code",
   "execution_count": null,
   "metadata": {
    "collapsed": true
   },
   "outputs": [],
   "source": [
    "from scipy.cluster.hierarchy import dendrogram\n",
    "from scipy.cluster.hierarchy import linkage"
   ]
  },
  {
   "cell_type": "code",
   "execution_count": 334,
   "metadata": {
    "collapsed": false,
    "scrolled": true
   },
   "outputs": [
    {
     "data": {
      "image/png": "[encoded data removed]",
      "text/plain": [
       "<matplotlib.figure.Figure at 0x7fc5c3892d30>"
      ]
     },
     "metadata": {},
     "output_type": "display_data"
    }
   ],
   "source": [
    "row_clusters = linkage(labl_data.values,method='complete', metric='euclidean')\n",
    "row_dendr = dendrogram(row_clusters)\n",
    "plt.tight_layout()\n",
    "plt.ylabel('Euclidean distance')\n",
    "plt.show()"
   ]
  },
  {
   "cell_type": "code",
   "execution_count": null,
   "metadata": {
    "collapsed": false
   },
   "outputs": [],
   "source": [
    "from sklearn.cluster import AgglomerativeClustering\n",
    "ac = AgglomerativeClustering(n_clusters=3, affinity='euclidean', linkage='complete')\n",
    "labels = ac.fit_predict(labl_data)\n",
    "print(labels)"
   ]
  }
 ],
 "metadata": {
  "kernelspec": {
   "display_name": "Python 3",
   "language": "python",
   "name": "python3"
  },
  "language_info": {
   "codemirror_mode": {
    "name": "ipython",
    "version": 3
   },
   "file_extension": ".py",
   "mimetype": "text/x-python",
   "name": "python",
   "nbconvert_exporter": "python",
   "pygments_lexer": "ipython3",
   "version": "3.6.0"
  }
 },
 "nbformat": 4,
 "nbformat_minor": 2
}
